{
 "cells": [
  {
   "cell_type": "markdown",
   "metadata": {},
   "source": [
    "<img src=\"./Folders/Development/logo.png\">\n"
   ]
  },
  {
   "cell_type": "markdown",
   "metadata": {},
   "source": [
    "# [COMPAS](http://compas.science)"
   ]
  },
  {
   "cell_type": "markdown",
   "metadata": {
    "collapsed": true
   },
   "source": [
    "## Introduction\n",
    "\n",
    "Welcome to the post-processing documentation of the COMPAS code. In here, you will find scripts used to manipulate the data and calculate rates/weights/samples to place the results of the simulation into a scientific context. \n",
    "\n",
    "We provide a series of jupyter/ipython notebooks and 'raw' python scripts. The notebooks show how to call the python scripts and the involved syntax. All notebooks are made into html pages for easy reading and indexing of available material.\n",
    "\n",
    "\n",
    "## How to reference:\n",
    "\n",
    "If you use source-code/data/post-processing pipelines for your\n",
    "study we would appreciate if you acknowledge it accordingly.\n",
    "\n",
    "Source-code: [TODO](xxx)\n",
    "\n",
    "Data: Cite the original paper that used the data. [List of papers.](https://compas.science/science.html#papers)\n",
    "\n",
    "Pipelines:\n",
    "\n",
    "- [Cosmic Integration](https://arxiv.org/abs/1906.08136)\n",
    "\n",
    "- [Selection effects](https://arxiv.org/pdf/1711.06287)\n",
    "\n",
    "\n",
    "## Other documentation is available:\n",
    "\n",
    "[Source Code Documentation](../docs/COMPAS_Doc.pdf)\n",
    "\n",
    "[Source Code Installation Documentation](../docs/getting_started.md)\n",
    "\n",
    "\n",
    "[Git and Git Workflow Documentation](../docs/dev-git-workflow.md)"
   ]
  },
  {
   "cell_type": "markdown",
   "metadata": {},
   "source": [
    "## Material\n",
    "\n",
    "### [H5 files:](./Folders/H5/0_H5Overview.ipynb)\n",
    "Compiling, reading, rewriting\n",
    "\n",
    "\n",
    "### [Basics Python:](./Folders/BasicsPython/0_BasicsOverview.ipynb)\n",
    "Slicing, binning, plotting\n",
    "\n",
    "        \n",
    "### [Cosmic Integration:](./Folders/CosmicIntegration/0_CosmicIntegrationOverview.ipynb)\n",
    "Merger rates, redshift, MSSFR\n",
    "\n",
    "\n",
    "### [Development:](./Folders/Development/0_DevelopmentOverview.ipynb)\n",
    "Log, todo, workflow"
   ]
  },
  {
   "cell_type": "code",
   "execution_count": null,
   "metadata": {},
   "outputs": [],
   "source": []
  }
 ],
 "metadata": {
  "kernelspec": {
   "display_name": "Python 3",
   "language": "python",
   "name": "python3"
  },
  "language_info": {
   "codemirror_mode": {
    "name": "ipython",
    "version": 3
   },
   "file_extension": ".py",
   "mimetype": "text/x-python",
   "name": "python",
   "nbconvert_exporter": "python",
   "pygments_lexer": "ipython3",
   "version": "3.6.5"
  }
 },
 "nbformat": 4,
 "nbformat_minor": 2
}
