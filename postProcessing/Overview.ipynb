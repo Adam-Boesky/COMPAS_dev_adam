{
 "cells": [
  {
   "cell_type": "markdown",
   "metadata": {},
   "source": [
    "<img src=\"./Folders/Development/logo.png\">\n"
   ]
  },
  {
   "cell_type": "markdown",
   "metadata": {},
   "source": [
    "# [COMPAS](http://compas.science)"
   ]
  },
  {
   "cell_type": "markdown",
   "metadata": {
    "collapsed": true
   },
   "source": [
    "## Introduction\n",
    "\n",
    "Welcome to the post-processing documentation of the COMPAS code. In here, you will find scripts used to manipulate the data and calculate rates/weights/samples to place the results of the simulation into a scientific context. \n",
    "\n",
    "We provide a series of jupyter/ipython notebooks and 'raw' python scripts. The notebooks show how to call the python scripts and the involved syntax. All notebooks are made into html pages for easy reading and indexing of available material.\n",
    "\n",
    "\n",
    "## How to reference:\n",
    "\n",
    "If you use source-code/data/post-processing pipelines for your\n",
    "study we would appreciate if you acknowledge it accordingly.\n",
    "\n",
    "For source-code and data please see XXX\n",
    "\n",
    "For the pipelines XXX\n",
    "\n",
    "\n",
    "## Other documentation is available:\n",
    "\n",
    "For source code documentation please see XXX\n",
    "\n",
    "For source code installation documentation please see XXX\n",
    "\n",
    "For git documentation please see XXX\n",
    "\n",
    "\n",
    "## Material\n",
    "\n",
    "### [H5 files:](./Folders/H5/0_H5Overview.ipynb)\n",
    "Compiling, reading, rewriting\n",
    "\n",
    "\n",
    "### [Basics Python:](./Folders/BasicsPython/0_BasicsOverview.ipynb)\n",
    "Slicing, binning, plotting\n",
    "\n",
    "        \n",
    "### [Cosmic Integration:](./Folders/CosmicIntegration/0_CosmicIntegrationOverview.ipynb)\n",
    "Merger rates, redshift, MSSFR\n",
    "\n",
    "\n",
    "### [Development:](./Folders/Development/0_DevelopmentOverview.ipynb)\n",
    "Log, todo, workflow\n"
   ]
  },
  {
   "cell_type": "code",
   "execution_count": null,
   "metadata": {},
   "outputs": [],
   "source": []
  }
 ],
 "metadata": {
  "kernelspec": {
   "display_name": "Python 3",
   "language": "python",
   "name": "python3"
  },
  "language_info": {
   "codemirror_mode": {
    "name": "ipython",
    "version": 3
   },
   "file_extension": ".py",
   "mimetype": "text/x-python",
   "name": "python",
   "nbconvert_exporter": "python",
   "pygments_lexer": "ipython3",
   "version": "3.6.5"
  }
 },
 "nbformat": 4,
 "nbformat_minor": 2
}
