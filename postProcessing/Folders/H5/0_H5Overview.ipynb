{
 "cells": [
  {
   "cell_type": "markdown",
   "metadata": {},
   "source": [
    "# Introduction\n",
    "\n",
    "COMPAS simulations produce a collection of human-readable CSV/TXT data files with data. Each file represents a type of data/physics and containts a series of columns representing parameters of interest.\n",
    "\n",
    "We convert these data files into a single non-human-readable h5 file which is more compact and easier to share and handle in a memory efficient way.\n",
    "\n",
    "\n",
    "## Material\n",
    "\n",
    "### [Creating h5 file:](./1_creatingH5.ipynb)\n",
    "How to combine the raw data into a single h5 file.        \n",
    "        \n",
    "        \n",
    "### [Reading h5 file:](./2_readingH5.ipynb)\n",
    "The basics and syntax of loading an h5 file.\n",
    "        \n",
    "        \n",
    "### [(Re-)writing h5 file:](./3_rewritingH5.ipynb)\n",
    "How to rewrite/reduce the h5 data."
   ]
  },
  {
   "cell_type": "code",
   "execution_count": null,
   "metadata": {},
   "outputs": [],
   "source": []
  }
 ],
 "metadata": {
  "kernelspec": {
   "display_name": "Python 3",
   "language": "python",
   "name": "python3"
  },
  "language_info": {
   "codemirror_mode": {
    "name": "ipython",
    "version": 3
   },
   "file_extension": ".py",
   "mimetype": "text/x-python",
   "name": "python",
   "nbconvert_exporter": "python",
   "pygments_lexer": "ipython3",
   "version": "3.6.5"
  }
 },
 "nbformat": 4,
 "nbformat_minor": 2
}
