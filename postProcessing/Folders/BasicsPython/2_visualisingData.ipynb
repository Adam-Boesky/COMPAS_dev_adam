{
 "cells": [
  {
   "cell_type": "markdown",
   "metadata": {},
   "source": [
    "# Introduction\n",
    "\n",
    "Although math is the fundamental basis of physics and astrophysics, we cannot always easily convert numbers and equations into a coherent picture. Plotting is therefore a vital tool in bridging the gap between raw data and a deeper scientific understanding. \n",
    "\n",
    "*Disclaimer:*\n",
    "\n",
    "There are many ways to make the same plot in matplotlib and there are many ways to bin your data. Often, there is no \"best\" way to display data in a plot, and the message conveyed can be heavily dependent on the context of the data as well as asthetic plotting decisions.\n",
    "\n",
    "For example, in histograms, as we discuss below, the relatively subjective choice of bin size can significantly affect the interpretation of the results. It is important to be aware of when and how we make these choices and to try to reduce any unintended bias.\n",
    "\n",
    "---\n",
    "\n",
    "** Example: inspect the component masses of Double Compact Objects**\n",
    "\n",
    "In the example below, we use the following conventions:\n",
    "\n",
    "1 - We deliberately choose to use the matplotlib.pyplot.subplots routine even when creating a single figure (as opposed to using pyplot.plot). This is because many online forums (e.g Stackoverflow) use this syntax. Furthermore, this means you do not have to learn two different types of syntax when creating either a single or multiple panel figure.\n",
    "\n",
    "2 - We choose to do the binning within the numpy/array environment instead of with inbuilt functions such as plt.hist / axes.hist. The reason is that you have more control over what you do, such as custom normalization (using rates, weights, pdf, etc.). It also forces you to have a deeper understanding of what you are calculating, and allows you to check intermediate steps with print statements.  Once you know how to bin your data this way you can also easily expand these routines for more complicated plots (2D binning)."
   ]
  },
  {
   "cell_type": "markdown",
   "metadata": {},
   "source": [
    "# Path to be set by user\n"
   ]
  },
  {
   "cell_type": "code",
   "execution_count": 9,
   "metadata": {},
   "outputs": [],
   "source": [
    "#pathToData = '/home/cneijssel/Desktop/Test/COMPAS_output.h5'\n",
    "pathToData = '/home/rwillcox/astro/compas/COMPAS/outputs/legacykicks/COMPAS_output.h5'"
   ]
  },
  {
   "cell_type": "markdown",
   "metadata": {},
   "source": [
    "# Imports"
   ]
  },
  {
   "cell_type": "code",
   "execution_count": 10,
   "metadata": {},
   "outputs": [],
   "source": [
    "# Python libraries\n",
    "import numpy as np               #for handling arrays\n",
    "import h5py as h5                #for reading the COMPAS data\n",
    "import matplotlib.pyplot as plt  #for plotting\n",
    "%matplotlib inline"
   ]
  },
  {
   "cell_type": "markdown",
   "metadata": {},
   "source": [
    "# Get some data to plot"
   ]
  },
  {
   "cell_type": "code",
   "execution_count": 11,
   "metadata": {},
   "outputs": [
    {
     "name": "stdout",
     "output_type": "stream",
     "text": [
      "['doubleCompactObjects', 'supernovae', 'systemParameters']\n"
     ]
    }
   ],
   "source": [
    "Data  = h5.File(pathToData)\n",
    "\n",
    "print(list(Data.keys()))\n",
    "# DCOs = double compact objects\n",
    "\n",
    "sn  = Data['supernovae']\n",
    "\n",
    "\n",
    "remtype = sn['RemnantType']\n",
    "appkick = sn['kickVelocity']\n",
    "mrem    = sn['Mrem']\n",
    "mco     = sn['MassCOCoreSN']"
   ]
  },
  {
   "cell_type": "code",
   "execution_count": 20,
   "metadata": {},
   "outputs": [
    {
     "ename": "AttributeError",
     "evalue": "'Dataset' object has no attribute 'list'",
     "output_type": "error",
     "traceback": [
      "\u001b[0;31m---------------------------------------------------------------------------\u001b[0m",
      "\u001b[0;31mAttributeError\u001b[0m                            Traceback (most recent call last)",
      "\u001b[0;32m<ipython-input-20-3fc913e66274>\u001b[0m in \u001b[0;36m<module>\u001b[0;34m()\u001b[0m\n\u001b[0;32m----> 1\u001b[0;31m \u001b[0mremtype\u001b[0m\u001b[0;34m.\u001b[0m\u001b[0mlist\u001b[0m\u001b[0;34m(\u001b[0m\u001b[0;34m)\u001b[0m\u001b[0;34m\u001b[0m\u001b[0m\n\u001b[0m",
      "\u001b[0;31mAttributeError\u001b[0m: 'Dataset' object has no attribute 'list'"
     ]
    }
   ],
   "source": [
    "remtype.list()"
   ]
  },
  {
   "cell_type": "code",
   "execution_count": 13,
   "metadata": {},
   "outputs": [],
   "source": [
    "Data.close()"
   ]
  },
  {
   "cell_type": "markdown",
   "metadata": {},
   "source": [
    "# Histogram"
   ]
  },
  {
   "cell_type": "code",
   "execution_count": 14,
   "metadata": {},
   "outputs": [
    {
     "ename": "NameError",
     "evalue": "name 'Mtot' is not defined",
     "output_type": "error",
     "traceback": [
      "\u001b[0;31m---------------------------------------------------------------------------\u001b[0m",
      "\u001b[0;31mNameError\u001b[0m                                 Traceback (most recent call last)",
      "\u001b[0;32m<ipython-input-14-c41717c16b14>\u001b[0m in \u001b[0;36m<module>\u001b[0;34m()\u001b[0m\n\u001b[1;32m      1\u001b[0m \u001b[0;31m# You can use numpy to create an array with specific min, max and interval values\u001b[0m\u001b[0;34m\u001b[0m\u001b[0;34m\u001b[0m\u001b[0m\n\u001b[1;32m      2\u001b[0m \u001b[0mminMtot\u001b[0m \u001b[0;34m=\u001b[0m \u001b[0;36m0\u001b[0m\u001b[0;34m\u001b[0m\u001b[0m\n\u001b[0;32m----> 3\u001b[0;31m \u001b[0mmaxMtot\u001b[0m \u001b[0;34m=\u001b[0m \u001b[0mmax\u001b[0m\u001b[0;34m(\u001b[0m\u001b[0mMtot\u001b[0m\u001b[0;34m)\u001b[0m\u001b[0;34m\u001b[0m\u001b[0m\n\u001b[0m\u001b[1;32m      4\u001b[0m \u001b[0mnBins\u001b[0m   \u001b[0;34m=\u001b[0m \u001b[0;36m50\u001b[0m\u001b[0;34m\u001b[0m\u001b[0m\n\u001b[1;32m      5\u001b[0m \u001b[0;34m\u001b[0m\u001b[0m\n",
      "\u001b[0;31mNameError\u001b[0m: name 'Mtot' is not defined"
     ]
    }
   ],
   "source": [
    "# You can use numpy to create an array with specific min, max and interval values\n",
    "minMtot = 0\n",
    "maxMtot = max(Mtot)\n",
    "nBins   = 50\n",
    "\n",
    "# Number of bin edges is one more than number of bins\n",
    "binEdges = np.linspace(minMtot, maxMtot, nBins+1)\n",
    "\n",
    "# What is the value at the center of the bin?\n",
    "# add each edge of the side of the bin and divide by 2\n",
    "xvaluesHist  = (binEdges[:-1] + binEdges[1:])/2.\n",
    "\n",
    "# What is the width of each bin? (an array in general, if the spacing is non-uniform)\n",
    "binWidths = np.diff(binEdges)\n",
    "\n",
    "\n",
    "### Set yvalues to the height of the bins\n",
    "\n",
    "# Create an array of y-values for each x-value\n",
    "yvalues = np.zeros(len(xvaluesHist))\n",
    "\n",
    "# Iterate over the bins to calcuate the number of data points per bin\n",
    "for iBin in range(nBins):\n",
    "    mask = (Mtot >= binEdges[iBin]) & (Mtot < binEdges[iBin+1])\n",
    "    yvalues[iBin] = np.sum(mask)\n",
    "\n",
    "# You can of course apply any mask you like to get the desired histogram    \n",
    "\n",
    "## Generally, you can calculate the rate per unit x (dy/dx) using\n",
    "dYdXHist = np.divide(yvalues, binWidths)\n",
    "\n",
    "# To convert your distribution to a PDF, normalize in y-values:\n",
    "PDF = np.divide(yvalues, np.sum(yvalues))\n",
    "\n",
    "# You can then multiply by, e.g, rates/weights to scale the distribution"
   ]
  },
  {
   "cell_type": "markdown",
   "metadata": {},
   "source": [
    "# CDF\n",
    "\n",
    "Sometimes we want to know what fraction of the data lies below a given value. To find this, we calculate a Cumulative Distribution Function, or CDF."
   ]
  },
  {
   "cell_type": "code",
   "execution_count": null,
   "metadata": {},
   "outputs": [],
   "source": [
    "# Question: How many points have a value less than X? \n",
    "\n",
    "# Sort the values of interest\n",
    "MtotSorted = np.sort(Mtot)   \n",
    "\n",
    "# These values are your xvalues \n",
    "xvaluesCDF = MtotSorted\n",
    "\n",
    "# The CDF is a non-strictly increasing function from 0 to 1 across the range of x values.\n",
    "# It should increment by 1/len(xvaluesCDF) at each x in the array, and remain constant otherwise.\n",
    "\n",
    "# Numpy provides several functions that make this very straightforward\n",
    "nDataPoints = len(xvaluesCDF)\n",
    "yvalues = np.cumsum(np.ones(nDataPoints))\n",
    "CDF = yvalues / nDataPoints"
   ]
  },
  {
   "cell_type": "markdown",
   "metadata": {},
   "source": [
    "# A two panel plot"
   ]
  },
  {
   "cell_type": "code",
   "execution_count": null,
   "metadata": {},
   "outputs": [],
   "source": [
    "# For two panels side by side:\n",
    "fig, axes = plt.subplots(1,2, figsize=(18,8))\n",
    "\n",
    "# axes is an array relating to each panel\n",
    "# panel1 = axes[0]\n",
    "# panel2 = axes[1]\n",
    "\n",
    "largefontsize = 18\n",
    "smallfontsize = 13\n",
    "\n",
    "\n",
    "\n",
    "\n",
    "### In the left panel, we want to plot the histogram and CDF overlayed\n",
    "### with the same x-axis, but different y-axes\n",
    "\n",
    "# Plot the Histogram first\n",
    "histAxes = axes[0]\n",
    "histAxes.plot(xvaluesHist, dYdXHist)\n",
    "\n",
    "histAxes.set_xlabel(r'Mtot [$M_\\odot$]', fontsize=smallfontsize)\n",
    "histAxes.set_ylabel(r'dN/dMtot [$M_\\odot^{-1}$]', fontsize=smallfontsize)\n",
    "\n",
    "# Overlay the CDF with the same x-axis but different y-axis\n",
    "cdfAxes =  axes[0].twinx()\n",
    "cdfAxes.plot(xvaluesCDF, CDF, c='r')\n",
    "\n",
    "# Dont have to do xlabel since they are the same\n",
    "cdfAxes.set_ylabel('CDF', fontsize=smallfontsize, labelpad=-40)\n",
    "cdfAxes.tick_params(axis='y', direction='in', pad=-20) # Adjust the CDF axis for clarity in the plot\n",
    "\n",
    "axes[0].set_title('Total Mass Histogram and CDF', fontsize=largefontsize)\n",
    "\n",
    "\n",
    "\n",
    "\n",
    "### In the right panel, we want to display a scatterplot of M1 & M2 \n",
    "\n",
    "axes[1].scatter(M1, M2)\n",
    "axes[1].set_xlabel(r'M1 [$M_\\odot$]', fontsize=smallfontsize)\n",
    "axes[1].set_ylabel(r'M2 [$M_\\odot$]', fontsize=smallfontsize)\n",
    "\n",
    "axes[1].set_title('Component Masses', fontsize=largefontsize)\n",
    "\n",
    "\n",
    "\n",
    "\n",
    "### Clean up and display the plot\n",
    "\n",
    "# You can force plt to pad enough between plots\n",
    "# such that the labels fit\n",
    "plt.tight_layout()\n",
    "\n",
    "# If you want to save the figure, use:\n",
    "#plt.savefig(pathToSave)\n",
    "\n",
    "# To produce the plot, always remember to:\n",
    "plt.show()"
   ]
  },
  {
   "cell_type": "code",
   "execution_count": null,
   "metadata": {},
   "outputs": [],
   "source": [
    "print('test')"
   ]
  }
 ],
 "metadata": {
  "kernelspec": {
   "display_name": "Python 3",
   "language": "python",
   "name": "python3"
  },
  "language_info": {
   "codemirror_mode": {
    "name": "ipython",
    "version": 3
   },
   "file_extension": ".py",
   "mimetype": "text/x-python",
   "name": "python",
   "nbconvert_exporter": "python",
   "pygments_lexer": "ipython3",
   "version": "3.6.5"
  }
 },
 "nbformat": 4,
 "nbformat_minor": 2
}
