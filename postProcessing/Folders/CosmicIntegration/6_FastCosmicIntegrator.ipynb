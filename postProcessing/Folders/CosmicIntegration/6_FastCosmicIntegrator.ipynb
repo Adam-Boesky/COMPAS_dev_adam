{
 "cells": [
  {
   "cell_type": "markdown",
   "metadata": {},
   "source": [
    "# Introduction\n",
    "\n",
    "This last notebook is meant to introduce the \"FastCosmicIntegration.py\"\n",
    "\n",
    "This script works in a very similar way as the other cosmic integrators, but it is optimised to be run from the terminal, and thus can be used to easily run on HPC and as part of grid runs. \n",
    "\n",
    "For now this only includes one variation of dP/dZ, namely a skewed log-normal distribution for which the default values result in the log-normal distribution from Neijssel et al. 2019.\n",
    "Following Neijssel et al. 2019, the SFR(z) for this function follows the functional form from Madau & Dickinson 2014, but allows the user to manually adjust the parameters of this function\n",
    "\n"
   ]
  },
  {
   "cell_type": "markdown",
   "metadata": {},
   "source": [
    "# Paths"
   ]
  },
  {
   "cell_type": "code",
   "execution_count": 17,
   "metadata": {},
   "outputs": [
    {
     "name": "stdout",
     "output_type": "stream",
     "text": [
      "/Users/lieke/Documents/NewCOMPAS/COMPAS/postProcessing/Folders/CosmicIntegration/PythonScripts/\n"
     ]
    }
   ],
   "source": [
    "import os\n",
    "\n",
    "pathNoteBook    = os.getcwd()\n",
    "pathScripts     = pathNoteBook + '/PythonScripts/'\n",
    "\n",
    "print(pathScripts)\n",
    "\n",
    "pathData        = '/Users/lieke/surfdrive/Documents/test_CI/COMPAS_Output/'\n",
    "path            = pathData"
   ]
  },
  {
   "cell_type": "markdown",
   "metadata": {},
   "source": [
    "# Imports"
   ]
  },
  {
   "cell_type": "code",
   "execution_count": 78,
   "metadata": {},
   "outputs": [],
   "source": [
    "import numpy as np\n",
    "import sys\n",
    "import matplotlib.pyplot as plt\n",
    "import astropy.units as u\n",
    "import warnings\n",
    "\n",
    "\n",
    "import importlib\n",
    "#custom scripts\n",
    "sys.path.append(pathScripts)\n",
    "import FastCosmicIntegration as CI #this imports other routines by itself\n",
    "import ClassCOMPAS\n",
    "\n",
    "importlib.reload(CI)\n",
    "importlib.reload(ClassCOMPAS)\n",
    "\n",
    "\n",
    "from matplotlib import rc\n",
    "import matplotlib\n",
    "matplotlib.rcParams['mathtext.fontset'] = 'stix'\n",
    "matplotlib.rcParams['font.family'] = 'STIXGeneral'\n",
    "rc('font',**{'family':'sans-serif','sans-serif':['Helvetica']})\n",
    "rc('text', usetex=True)\n",
    "\n",
    "plt.rc('font', family='serif')\n"
   ]
  },
  {
   "cell_type": "markdown",
   "metadata": {},
   "source": [
    "# The magic happens in \n",
    "\n",
    "lets break this function down bit by bit"
   ]
  },
  {
   "cell_type": "code",
   "execution_count": 44,
   "metadata": {},
   "outputs": [],
   "source": [
    "# First define the parameters\n",
    "\n",
    "pathData, \n",
    "filename=\"COMPAS_Output.h5\"\n",
    "dco_type=\"BBH\"\n",
    "weight_column=None\n",
    "                        \n",
    "merges_hubble_time=True\n",
    "pessimistic_CEE=True\n",
    "no_RLOF_after_CEE=True\n",
    "max_redshift=10.0\n",
    "max_redshift_detection=2.0\n",
    "redshift_step=0.001\n",
    "z_first_SF = 10\n",
    "\n",
    "m1_min=15 * u.Msun \n",
    "m1_max=150 * u.Msun\n",
    "m2_min=0.1 * u.Msun\n",
    "fbin=0.7\n",
    "\n",
    "aSF = 0.01 \n",
    "bSF = 2.77 \n",
    "cSF = 2.90 \n",
    "dSF = 4.70\n",
    "\n",
    "mu0=0.035 \n",
    "muz=-0.23 \n",
    "sigma0=0.39\n",
    "sigmaz=0. \n",
    "alpha=0.0 \n",
    "\n",
    "min_logZ=-12.0 \n",
    "max_logZ=0.0 \n",
    "step_logZ=0.01\n",
    "\n",
    "sensitivity=\"O1\" \n",
    "snr_threshold=8 \n",
    "\n",
    "Mc_max=300.0 \n",
    "Mc_step=0.1 \n",
    "eta_max=0.25 \n",
    "eta_step=0.01\n",
    "snr_max=1000.0 \n",
    "snr_step=0.1\n",
    "\n",
    "# The function starts by checking the values you have supplied\n",
    "# assert that input will not produce errors\n",
    "assert max_redshift_detection <= max_redshift, \"Maximum detection redshift cannot be below maximum redshift\"\n",
    "assert m1_min <= m1_max, \"Minimum sampled primary mass cannot be above maximum sampled primary mass\"\n",
    "assert np.logical_and(fbin >= 0.0, fbin <= 1.0), \"Binary fraction must be between 0 and 1\"\n",
    "assert Mc_step < Mc_max, \"Chirp mass step size must be less than maximum chirp mass\"\n",
    "assert eta_step < eta_max, \"Symmetric mass ratio step size must be less than maximum symmetric mass ratio\"\n",
    "assert snr_step < snr_max, \"SNR step size must be less than maximum SNR\"\n",
    "\n",
    "nonnegative_args = [(max_redshift, \"max_redshift\"), (max_redshift_detection, \"max_redshift_detection\"), (m1_min.value, \"m1_min\"), (m1_max.value, \"m1_max\"),\n",
    "                    (m2_min.value, \"m2_min\"), (mu0, \"mu0\"), (sigma0, \"sigma0\"),  \n",
    "                    (step_logZ, \"step_logZ\"), (snr_threshold, \"snr_threshold\"), (Mc_max, \"Mc_max\"),\n",
    "                    (Mc_step, \"Mc_step\"), (eta_max, \"eta_max\"), (eta_step, \"eta_step\"), (snr_max, \"snr_max\"), (snr_step, \"snr_step\")]\n",
    "\n",
    "\n",
    "for arg, arg_str in nonnegative_args:\n",
    "    assert arg >= 0.0, \"{} must be nonnegative\".format(arg_str)\n",
    "\n",
    "# warn if input is not advisable\n",
    "if redshift_step > max_redshift_detection:\n",
    "    warnings.warn(\"Redshift step is greater than maximum detection redshift\", stacklevel=2)\n",
    "if Mc_step > 1.0:\n",
    "    warnings.warn(\"Chirp mass step is greater than 1.0, large step sizes can produce unpredictable results\", stacklevel=2)\n",
    "if eta_step > 0.1:\n",
    "    warnings.warn(\"Symmetric mass ratio step is greater than 0.1, large step sizes can produce unpredictable results\", stacklevel=2)\n",
    "if snr_step > 1.0:\n",
    "    warnings.warn(\"SNR step is greater than 1.0, large step sizes can produce unpredictable results\", stacklevel=2)\n",
    "\n"
   ]
  },
  {
   "cell_type": "code",
   "execution_count": 45,
   "metadata": {},
   "outputs": [],
   "source": [
    "# start by getting the necessary data from the COMPAS file\n",
    "COMPAS = ClassCOMPAS.COMPASData(path, fileName=filename, Mlower=m1_min, Mupper=m1_max, m2_min=m2_min, binaryFraction=fbin, suppress_reminder=True)\n",
    "COMPAS.setCOMPASDCOmask(types=dco_type, withinHubbleTime=merges_hubble_time, pessimistic=pessimistic_CEE, noRLOFafterCEE=no_RLOF_after_CEE)\n",
    "COMPAS.setCOMPASData()\n",
    "COMPAS.set_sw_weights(weight_column)\n",
    "COMPAS.find_star_forming_mass_per_binary_sampling()\n"
   ]
  },
  {
   "cell_type": "code",
   "execution_count": 46,
   "metadata": {},
   "outputs": [
    {
     "name": "stdout",
     "output_type": "stream",
     "text": [
      "DCO mask [False  True False  True False False False  True False False False False\n",
      " False  True False False False  True False  True False False False False\n",
      " False False  True False False False False False  True False  True False\n",
      " False False False  True False False False False False False False False\n",
      " False False False  True False  True False False False False False False\n",
      " False False  True False False False  True False False False False False\n",
      " False False  True False False False False False  True False False False\n",
      "  True False False False False  True False False  True False False False\n",
      " False False False False]\n",
      "Primary masses [22.48437598 36.19544954 34.35077915  9.30971139 33.91435092 17.47024331\n",
      "  4.36411512 28.21953196  4.74992086  8.82668712  6.8383481  15.97776719\n",
      "  3.76339009  7.1708148  42.22804457 18.40916827 33.31163736 25.07898084\n",
      " 15.61977141], \n",
      "Secondary masses [32.91689959 36.19544954 34.35077915 18.41862164 33.91435092 27.73110626\n",
      " 14.08086146 28.21953196 18.93320136 14.57230609 18.2026868   3.04700911\n",
      " 12.60163988 17.77172738 42.22804457  6.24293215 33.31163736 25.07898084\n",
      "  7.6965665 ] \n"
     ]
    }
   ],
   "source": [
    "# COMPAS now contains the data from your hdf5 file:\n",
    "print('DCO mask', COMPAS.DCOmask)\n",
    "\n",
    "print('Primary masses %s, \\nSecondary masses %s '%(COMPAS.mass1, COMPAS.mass2) )\n",
    "\n",
    "# Hint, you can see all the options in COMPAS by typing COMPAS. and hitting tab to use tab-complete :)\n",
    "\n"
   ]
  },
  {
   "cell_type": "markdown",
   "metadata": {},
   "source": [
    "## Compute some more useful values"
   ]
  },
  {
   "cell_type": "code",
   "execution_count": 47,
   "metadata": {},
   "outputs": [],
   "source": [
    "# compute the chirp masses and symmetric mass ratios only for systems of interest\n",
    "chirp_masses = (COMPAS.mass1*COMPAS.mass2)**(3/5) / (COMPAS.mass1 + COMPAS.mass2)**(1/5)\n",
    "etas = COMPAS.mass1 * COMPAS.mass2 / (COMPAS.mass1 + COMPAS.mass2)**2\n",
    "n_binaries = len(chirp_masses)\n",
    "# another warning on poor input\n",
    "if max(chirp_masses)*(1+max_redshift_detection) < Mc_max:\n",
    "    warnings.warn(\"Maximum chirp mass used for detectability calculation is below maximum binary chirp mass * (1+maximum redshift for detectability calculation)\", stacklevel=2)\n"
   ]
  },
  {
   "cell_type": "markdown",
   "metadata": {},
   "source": [
    "## The redshift parameters that you will use for the cosmic integration"
   ]
  },
  {
   "cell_type": "code",
   "execution_count": 49,
   "metadata": {},
   "outputs": [],
   "source": [
    "# calculate the redshifts array and its equivalents\n",
    "redshifts, n_redshifts_detection, times, time_first_SF, distances, shell_volumes = CI.calculate_redshift_related_params(max_redshift, max_redshift_detection, redshift_step, z_first_SF)\n"
   ]
  },
  {
   "cell_type": "code",
   "execution_count": 52,
   "metadata": {},
   "outputs": [
    {
     "name": "stdout",
     "output_type": "stream",
     "text": [
      "redshifts [0.000e+00 1.000e-03 2.000e-03 ... 9.998e+00 9.999e+00 1.000e+01] \n",
      "time_first_SF 479.174188974518 \n",
      "shell_volumes [3.38606187e-07 2.36849517e-06 6.42346553e-06 ... 2.60500774e-01\n",
      " 2.60477159e-01 2.60477159e-01]\n"
     ]
    }
   ],
   "source": [
    "print('redshifts', redshifts, '\\ntime_first_SF', time_first_SF, '\\nshell_volumes', shell_volumes)"
   ]
  },
  {
   "cell_type": "markdown",
   "metadata": {},
   "source": [
    "## Now compute the SFR(z)\n",
    "Following the functional form of Madau & Dickinson (defined by the parameters a,b,c,d), we compute the amount of stellar mass formed at each of the redshifts we supplied\n",
    "\n",
    "## Now we convert this to the number of star\n",
    "By dividing the SFR(z) [Msun/Gpc^-3] by the star forming mass needed to get your simulation (COMPAS.mass_evolved_per_binary.value * COMPAS.n_systems), we basically rescale our simulation to represent the number of stars formed at each redshift.\n",
    "\n"
   ]
  },
  {
   "cell_type": "code",
   "execution_count": 55,
   "metadata": {},
   "outputs": [],
   "source": [
    "# find the star forming mass per year per Gpc^3 and convert to total number formed per year per Gpc^3\n",
    "sfr = CI.find_sfr(redshifts, a = aSF, b = bSF, c = cSF, d = dSF) # functional form from Madau & Dickinson 2014\n",
    "n_formed = sfr / (COMPAS.mass_evolved_per_binary.value * COMPAS.n_systems) # Divide the star formation rate density by the representative SF mass\n"
   ]
  },
  {
   "cell_type": "code",
   "execution_count": 67,
   "metadata": {},
   "outputs": [
    {
     "name": "stdout",
     "output_type": "stream",
     "text": [
      "sfr [ 9933346.18967071  9960573.30040085  9987846.27805871 ...\n",
      " 14544878.34395179 14542338.04652795 14539798.41863243] [$\\mathrm{M_{\\odot} yr^{-1} Gpc^{-3}}$]\n",
      "Star forming mass needed to get your simulation: 436505.89598103997 [$\\mathrm{M_{\\odot}$]\n",
      "Number formation rate [22.75649947 22.8188746  22.8813548  ... 33.32114979 33.31533017\n",
      " 33.30951209] [$\\mathrm{yr^{-1} Gpc^{-3}}$]\n"
     ]
    }
   ],
   "source": [
    "print('sfr', sfr, '[$\\mathrm{M_{\\odot} yr^{-1} Gpc^{-3}}$]')\n",
    "print('Star forming mass needed to get your simulation:', (COMPAS.mass_evolved_per_binary.value * COMPAS.n_systems), '[$\\mathrm{M_{\\odot}$]')\n",
    "print('Number formation rate', n_formed, '[$\\mathrm{yr^{-1} Gpc^{-3}}$]')\n"
   ]
  },
  {
   "cell_type": "markdown",
   "metadata": {},
   "source": [
    "## Get your metallicity density distribution"
   ]
  },
  {
   "cell_type": "code",
   "execution_count": 72,
   "metadata": {},
   "outputs": [
    {
     "name": "stdout",
     "output_type": "stream",
     "text": [
      "-6.557098407368968 -6.557098407368968\n"
     ]
    }
   ],
   "source": [
    "print(np.log(np.min(COMPAS.initialZ)), np.log(np.max(COMPAS.initialZ)))\n",
    "\n"
   ]
  },
  {
   "cell_type": "code",
   "execution_count": 79,
   "metadata": {},
   "outputs": [
    {
     "name": "stdout",
     "output_type": "stream",
     "text": [
      "You ran just one metallicity \n"
     ]
    }
   ],
   "source": [
    "# work out the metallicity distribution at each redshift and probability of drawing each metallicity in COMPAS\n",
    "dPdlogZ, metallicities, p_draw_metallicity = CI.find_metallicity_distribution(redshifts, min_logZ_COMPAS = np.log(np.min(COMPAS.initialZ)),\n",
    "                                                                            max_logZ_COMPAS = np.log(np.max(COMPAS.initialZ)),\n",
    "                                                                            mu0=mu0, muz=muz, sigma_0=sigma0, sigma_z=sigmaz, alpha = alpha,\n",
    "                                                                            min_logZ=min_logZ, max_logZ=max_logZ, step_logZ = step_logZ)\n",
    "\n"
   ]
  },
  {
   "cell_type": "code",
   "execution_count": 80,
   "metadata": {},
   "outputs": [
    {
     "name": "stdout",
     "output_type": "stream",
     "text": [
      "dPdlogZ=[[1.31120093e-105 2.30288171e-105 4.04192716e-105 ... 2.65386300e-017\n",
      "  2.12037807e-017 1.69302189e-017]\n",
      " [1.35092244e-105 2.37256260e-105 4.16408331e-105 ... 2.62255108e-017\n",
      "  2.09528758e-017 1.67293007e-017]\n",
      " [1.39184472e-105 2.44434739e-105 4.28992338e-105 ... 2.59160382e-017\n",
      "  2.07049016e-017 1.65307364e-017]\n",
      " ...\n",
      " [4.80614495e-016 5.95954614e-016 7.38488907e-016 ... 7.36383549e-109\n",
      "  4.15386923e-109 2.34161790e-109]\n",
      " [4.86128746e-016 6.02771213e-016 7.46909823e-016 ... 7.14402232e-109\n",
      "  4.02973440e-109 2.27156156e-109]\n",
      " [4.91705357e-016 6.09664656e-016 7.55425369e-016 ... 6.93075787e-109\n",
      "  3.90930203e-109 2.20359710e-109]], \n",
      "metallicities=[6.14421235e-06 6.20596271e-06 6.26833368e-06 ... 9.80198673e-01\n",
      " 9.90049834e-01 1.00000000e+00], \n",
      "p_draw_metallicity = 1.0)\n",
      "(10001, 1201)\n"
     ]
    }
   ],
   "source": [
    "print('dPdlogZ=%s, \\nmetallicities=%s, \\np_draw_metallicity = %s)'%(dPdlogZ, metallicities, p_draw_metallicity) )\n",
    "# shape dPdlogZ is \n",
    "print(np.shape(dPdlogZ))\n"
   ]
  },
  {
   "cell_type": "markdown",
   "metadata": {},
   "source": [
    "## Do the actual integration"
   ]
  },
  {
   "cell_type": "code",
   "execution_count": 83,
   "metadata": {},
   "outputs": [],
   "source": [
    "# calculate the formation and merger rates using what we computed above\n",
    "formation_rate, merger_rate = CI.find_formation_and_merger_rates(n_binaries, redshifts, times, time_first_SF, n_formed, dPdlogZ,\n",
    "                                                                metallicities, p_draw_metallicity, COMPAS.metallicitySystems,\n",
    "                                                                COMPAS.delayTimes, COMPAS.sw_weights)\n"
   ]
  },
  {
   "cell_type": "markdown",
   "metadata": {},
   "source": [
    "## Calculate detection probability"
   ]
  },
  {
   "cell_type": "code",
   "execution_count": 85,
   "metadata": {},
   "outputs": [],
   "source": [
    "\n",
    "# create lookup tables for the SNR at 1Mpc as a function of the masses and the probability of detection as a function of SNR\n",
    "snr_grid_at_1Mpc, detection_probability_from_snr = CI.compute_snr_and_detection_grids(sensitivity, snr_threshold, Mc_max, Mc_step,\n",
    "                                                                                eta_max, eta_step, snr_max, snr_step)\n",
    "\n",
    "# use lookup tables to find the probability of detecting each binary at each redshift\n",
    "detection_probability = CI.find_detection_probability(chirp_masses, etas, redshifts, distances, n_redshifts_detection, n_binaries,\n",
    "                                                    snr_grid_at_1Mpc, detection_probability_from_snr, Mc_step, eta_step, snr_step)\n",
    "\n"
   ]
  },
  {
   "cell_type": "markdown",
   "metadata": {},
   "source": [
    "## detection "
   ]
  },
  {
   "cell_type": "code",
   "execution_count": 86,
   "metadata": {},
   "outputs": [],
   "source": [
    "# finally, compute the detection rate using Neijssel+19 Eq. 2\n",
    "detection_rate = np.zeros(shape=(n_binaries, n_redshifts_detection))\n",
    "detection_rate = merger_rate[:, :n_redshifts_detection] * detection_probability \\\n",
    "                * shell_volumes[:n_redshifts_detection] / (1 + redshifts[:n_redshifts_detection])"
   ]
  },
  {
   "cell_type": "code",
   "execution_count": null,
   "metadata": {},
   "outputs": [],
   "source": []
  },
  {
   "cell_type": "markdown",
   "metadata": {},
   "source": [
    "# Plot your results!"
   ]
  },
  {
   "cell_type": "code",
   "execution_count": null,
   "metadata": {},
   "outputs": [],
   "source": [
    "chirp_masses = (COMPAS.mass1*COMPAS.mass2)**(3./5.) / (COMPAS.mass1 + COMPAS.mass2)**(1./5.)\n",
    "\n",
    "CI.plot_rates(pathData, formation_rate, merger_rate, detection_rate, redshifts, chirp_masses, \n",
    "              show_plot = False, mu0=mu0, muz=muz, sigma0=sigma0, sigmaz=sigmaz, alpha=alpha)\n",
    "\n",
    "\n",
    "\n"
   ]
  },
  {
   "cell_type": "code",
   "execution_count": 89,
   "metadata": {},
   "outputs": [],
   "source": [
    "# sum things up across binaries\n",
    "total_formation_rate = np.sum(formation_rate, axis=0)\n",
    "total_merger_rate = np.sum(merger_rate, axis=0)\n",
    "total_detection_rate = np.sum(detection_rate, axis=0)\n",
    "\n",
    "# and across redshifts\n",
    "cumulative_detection_rate = np.cumsum(total_detection_rate)\n",
    "detection_rate_by_binary = np.sum(detection_rate, axis=1)\n",
    "\n"
   ]
  },
  {
   "cell_type": "code",
   "execution_count": 92,
   "metadata": {},
   "outputs": [
    {
     "data": {
      "image/png": "[encoded data removed]",
      "text/plain": [
       "<Figure size 1440x1440 with 4 Axes>"
      ]
     },
     "metadata": {
      "needs_background": "light"
     },
     "output_type": "display_data"
    }
   ],
   "source": [
    "###########################\n",
    "#Start plotting\n",
    "\n",
    "# set some constants for the plots\n",
    "plt.rc('font', family='serif')\n",
    "fs = 20\n",
    "lw = 3\n",
    "\n",
    "fig, axes = plt.subplots(2, 2, figsize=(20, 20))\n",
    "\n",
    "axes[0,0].plot(redshifts, total_formation_rate, lw=lw)\n",
    "axes[0,0].set_xlabel('Redshift', fontsize=fs)\n",
    "axes[0,0].set_ylabel(r'Formation rate $[\\rm \\frac{\\mathrm{d}N}{\\mathrm{d}Gpc^3 \\mathrm{d}yr}]$', fontsize=fs)\n",
    "\n",
    "axes[0,1].plot(redshifts, total_merger_rate, lw=lw)\n",
    "axes[0,1].set_xlabel('Redshift', fontsize=fs)\n",
    "axes[0,1].set_ylabel(r'Merger rate $[\\rm \\frac{\\mathrm{d}N}{\\mathrm{d}Gpc^3 \\mathrm{d}yr}]$', fontsize=fs)\n",
    "\n",
    "axes[1,0].plot(redshifts[:len(cumulative_detection_rate)], cumulative_detection_rate, lw=lw)\n",
    "axes[1,0].set_xlabel('Redshift', fontsize=fs)\n",
    "axes[1,0].set_ylabel(r'Cumulative detection rate $[\\rm \\frac{\\mathrm{d}N}{\\mathrm{d}yr}]$', fontsize=fs)\n",
    "\n",
    "axes[1,1].hist(chirp_masses, weights=detection_rate_by_binary, bins=25, range=(0, 50))\n",
    "axes[1,1].set_xlabel(r'Chirp mass, $\\mathcal{M}_c$', fontsize=fs)\n",
    "axes[1,1].set_ylabel(r'Mass distrbution of detections $[\\rm \\frac{\\mathrm{d}N}{\\mathrm{d}\\mathcal{M}_c \\mathrm{d}yr}]$', fontsize=fs)\n",
    "\n",
    "#########################\n",
    "#Plotvalues\n",
    "\n",
    "# Add text upper left corner\n",
    "axes[0,0].text(0.05,0.8, \"mu0=%s \\nmuz=%s \\nsigma0=%s \\nsigmaz=%s \\nalpha=%s\"%(mu0,muz,sigma0,sigmaz,alpha), transform=axes[0,0].transAxes, size = fs) \n",
    "\n",
    "for ax in axes.flatten():\n",
    "    ax.tick_params(labelsize=0.9*fs)\n",
    "\n",
    "# Save and show :)\n",
    "plt.savefig(pathData +'Rate_Info'+\"mu0%s_muz%s_alpha%s_sigma0%s_sigmaz%s\"%(mu0,muz,alpha,sigma0, sigmaz)+'.png', bbox_inches='tight') \n",
    "plt.show()\n"
   ]
  },
  {
   "cell_type": "markdown",
   "metadata": {},
   "source": [
    "# You can do all of this at once by running:\n"
   ]
  },
  {
   "cell_type": "code",
   "execution_count": null,
   "metadata": {},
   "outputs": [],
   "source": [
    "\n",
    "\n",
    "detection_rate, formation_rate, merger_rate, redshifts, COMPAS = CI.find_detection_rate(pathData, filename=\"COMPAS_Output.h5\", dco_type=\"BBH\", weight_column=None,\n",
    "                        merges_hubble_time=True, pessimistic_CEE=True, no_RLOF_after_CEE=True,\n",
    "                        max_redshift=10.0, max_redshift_detection=1.0, redshift_step=0.001, z_first_SF = 10,\n",
    "                        m1_min=5 * u.Msun, m1_max=150 * u.Msun, m2_min=0.1 * u.Msun, fbin=0.7,\n",
    "                        aSF = 0.01, bSF = 2.77, cSF = 2.90, dSF = 4.70,\n",
    "                        mu0=0.035, muz=-0.23, sigma0=0.39,sigmaz=0., alpha=0.0, \n",
    "                        min_logZ=-12.0, max_logZ=0.0, step_logZ=0.01,\n",
    "                        sensitivity=\"O1\", snr_threshold=8, \n",
    "                        Mc_max=300.0, Mc_step=0.1, eta_max=0.25, eta_step=0.01,\n",
    "                        snr_max=1000.0, snr_step=0.1)\n",
    "\n"
   ]
  },
  {
   "cell_type": "code",
   "execution_count": 82,
   "metadata": {},
   "outputs": [
    {
     "name": "stdout",
     "output_type": "stream",
     "text": [
      "[[1.00197609e-16 7.17012740e-16 1.98934480e-15 ... 0.00000000e+00\n",
      "  0.00000000e+00 0.00000000e+00]\n",
      " [6.29879390e-19 4.46115185e-18 1.22505149e-17 ... 0.00000000e+00\n",
      "  0.00000000e+00 0.00000000e+00]\n",
      " [7.01407665e-19 4.96757343e-18 1.36406739e-17 ... 0.00000000e+00\n",
      "  0.00000000e+00 0.00000000e+00]\n",
      " ...\n",
      " [4.93953868e-19 3.49874329e-18 9.60849697e-18 ... 0.00000000e+00\n",
      "  0.00000000e+00 0.00000000e+00]\n",
      " [4.93953868e-19 3.49874329e-18 9.60849697e-18 ... 0.00000000e+00\n",
      "  0.00000000e+00 0.00000000e+00]\n",
      " [4.74272322e-19 3.35938323e-18 9.21195594e-18 ... 0.00000000e+00\n",
      "  0.00000000e+00 0.00000000e+00]]\n"
     ]
    }
   ],
   "source": [
    "print(detection_rate)"
   ]
  },
  {
   "cell_type": "code",
   "execution_count": null,
   "metadata": {},
   "outputs": [],
   "source": []
  }
 ],
 "metadata": {
  "kernelspec": {
   "display_name": "Python 3",
   "language": "python",
   "name": "python3"
  },
  "language_info": {
   "codemirror_mode": {
    "name": "ipython",
    "version": 3
   },
   "file_extension": ".py",
   "mimetype": "text/x-python",
   "name": "python",
   "nbconvert_exporter": "python",
   "pygments_lexer": "ipython3",
   "version": "3.7.1"
  }
 },
 "nbformat": 4,
 "nbformat_minor": 4
}
