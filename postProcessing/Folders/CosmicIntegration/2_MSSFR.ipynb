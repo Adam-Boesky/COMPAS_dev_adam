{
 "cells": [
  {
   "cell_type": "markdown",
   "metadata": {},
   "source": [
    "# Introduction\n",
    "\n",
    "\n",
    "The universe evolved over time and as such the star formation rate and the metallicity of the starforming gas change. The ClassMSSFR is a script which determines the amount of star formation that went into forming a system born at redshift z, in a metallicity bin dZ.\n",
    "\n",
    "For this script we assume that the SFR(z) and the metallicity distribution are independent of each other.\n",
    "Hence the SFR is simply a normalization to the PDF of the metallicity distribution. Note that these distributions are averages over all galaxies at a specific redshift z and hence do not apply to specific galaxies.\n",
    "\n",
    "The script allows for several combinations of distributions.\n",
    "To this end we have to define the following steps\n",
    "\n",
    "\n",
    "1 - Instance of the MSSFR class where we define constants\n",
    "\n",
    "2 - Pick a SFR distribution\n",
    "\n",
    "3 - Pick a metallicity distribution.\n",
    "\n",
    "Note that although this is meant to be used in the cosmic integration pipeline, \n",
    "this class can be independently used to plot distributions or as input for other calculations\n",
    "\n",
    "4 - Example of plotting\n",
    "\n"
   ]
  },
  {
   "cell_type": "markdown",
   "metadata": {},
   "source": [
    "# Paths needed"
   ]
  },
  {
   "cell_type": "code",
   "execution_count": 1,
   "metadata": {},
   "outputs": [],
   "source": [
    "import os\n",
    "\n",
    "pathNoteBook     = os.getcwd()\n",
    "pathClassMSSFR  = pathNoteBook + '/PythonScripts/'\n",
    "\n"
   ]
  },
  {
   "cell_type": "markdown",
   "metadata": {},
   "source": [
    "# Imports"
   ]
  },
  {
   "cell_type": "code",
   "execution_count": 2,
   "metadata": {},
   "outputs": [],
   "source": [
    "import numpy as np\n",
    "import matplotlib.pyplot as plt\n",
    "import sys\n",
    "#custom scripts\n",
    "sys.path.append(pathClassMSSFR)\n",
    "import ClassMSSFR"
   ]
  },
  {
   "cell_type": "markdown",
   "metadata": {},
   "source": [
    "# 1 - Instance MSSFR class"
   ]
  },
  {
   "cell_type": "markdown",
   "metadata": {},
   "source": [
    "To create an instance we need to define the following parameters;\n",
    "\n",
    "Here are the possible parameters and their default values\n",
    "\n",
    "    verbose             =False,\n",
    "    \n",
    "    metallicityGrid     =None,\n",
    "    \n",
    "    binInLogSpace        =True,\n",
    "    metallicityLowerLimit=1E-90, \n",
    "    metallicityUpperLimit=1.\n",
    "                 \n",
    "    logOH12sun           =8.69,     \n",
    "    solarMetallicity     =0.0142, \n",
    "    cosmo                =None"
   ]
  },
  {
   "cell_type": "markdown",
   "metadata": {},
   "source": [
    "verbose:\n",
    "    \n",
    "    If to print messages of intermediate during the calculation\n",
    "    \n",
    "metallicityGrid:\n",
    "    \n",
    "    The grid assumed in order to create the metallicity bins dZ. By default set to None\n",
    "    and in a pipeline it is automatically passed from the ClassCOMPAS file.\n",
    "    \n",
    "    \n",
    "binInLogSpace:\n",
    "    \n",
    "    To create the bin edges you can either choose the midpoint between Z1 and Z2 or \n",
    "    alternatively you can choose the midpoint between log(Z1) and log(Z2). Since most distributions\n",
    "    work in the logZ space it seemed more appropriate. The difference is not large. Else it hints\n",
    "    of having too few gridpoints in metallicity since the curve changes a lot between Z1 and Z2.\n",
    "    \n",
    "metallicityLowerLimit:\n",
    "\n",
    "    Since we integrate over dZ we need to define a lower limit \n",
    "    of the metallicity mass Fraction Z in our integral.\n",
    "    We set it close to zero, but non-zero to avoid division by zero errors\n",
    "    \n",
    "metallicityUpperLimit:\n",
    "\n",
    "    Since we integrate over dZ we need to define a upper limit \n",
    "    of the metallicity mass Fraction Z in our integral. \n",
    "    Since a fraction cannot go higher than 1 we set it to 1.\n",
    "    \n",
    "logOH12sun:\n",
    "\n",
    "    The assumed solar oxygen abundance (Asplund)\n",
    "    \n",
    "solarMetallicity:\n",
    "\n",
    "    The assumed solar metallicity mass fraction (Asplund)\n",
    "    \n",
    "cosmo:\n",
    "\n",
    "    The assumed universe (omegaM, Omega Lambda etc) to translate between age/distance/time.\n",
    "    If None it is set to WMAP9. In the cosmic integration pipeline the class is automatically is set by the\n",
    "    ClassCosmicIntegrator."
   ]
  },
  {
   "cell_type": "code",
   "execution_count": 3,
   "metadata": {},
   "outputs": [
    {
     "name": "stdout",
     "output_type": "stream",
     "text": [
      "ClassMSSFR: Remember to set self.SFRprescription() + subparts\n",
      "                            self.Zprescription()   +sub-parts\n"
     ]
    }
   ],
   "source": [
    "#We use the defaults and for illustration purposes invent our own grid\n",
    "\n",
    "#Absolute metallicities\n",
    "metallicityGrid = np.logspace(-4, -1.5,100)\n",
    "\n",
    "MSSFR = ClassMSSFR.MSSFR(metallicityGrid=metallicityGrid)"
   ]
  },
  {
   "cell_type": "markdown",
   "metadata": {},
   "source": [
    "# 2 - Pick a SFR distribution"
   ]
  },
  {
   "cell_type": "code",
   "execution_count": 4,
   "metadata": {},
   "outputs": [
    {
     "name": "stdout",
     "output_type": "stream",
     "text": [
      "\n",
      "        Default instance:\n",
      "        self.SFRprescription       = None \n",
      "\n",
      "        pass string\n",
      "        Current Options  = 'Madau et al. (2014)'\n",
      "                           'Madau et al. (2017)'\n",
      "                           'Strolger et al. (2004)'\n",
      "                           'Neijssel et al. (2019)'\n",
      "                           'Custom SFR'\n",
      "\n",
      "        If you use Custom SFR also set the constants\n",
      "        you want to use\n",
      "\n",
      "        self.customSFR = [a,b,c,d] \n",
      "        \n",
      "        which are used in a Madau et al like formula (see source code)\n",
      "\n",
      "        \n",
      "None\n"
     ]
    }
   ],
   "source": [
    "print(MSSFR.printSFRoptions())"
   ]
  },
  {
   "cell_type": "code",
   "execution_count": 5,
   "metadata": {},
   "outputs": [],
   "source": [
    "# Based on the options above lets pick the one of the paper\n",
    "\n",
    "MSSFR.SFRprescription = 'Neijssel et al. (2019)'"
   ]
  },
  {
   "cell_type": "markdown",
   "metadata": {},
   "source": [
    "# 3 Pick a metallicity distribution\n",
    "\n",
    "The metallicity distribution comes in two types of flavours.\n",
    "\n",
    "###  3.1 Mass metallicity and galaxy stellar mass function\n",
    "\n",
    "The first combines a densitity distribution of galaxy stellar masses (GSMF) \n",
    "with a mass metallicity relation (MZ) relation in order to create a metallicity density function.\n",
    "In our code instead we translate from metallicity to mass to solve the integral hence we use the inverse\n",
    "ZM functions. The original MZ functions are still in the source code for plotting/testing purposes\n",
    "\n",
    "\n",
    "If you want to use these variations then first set the metallicity prescription to 'MZ_GSMF'\n"
   ]
  },
  {
   "cell_type": "code",
   "execution_count": null,
   "metadata": {},
   "outputs": [],
   "source": []
  },
  {
   "cell_type": "code",
   "execution_count": 6,
   "metadata": {},
   "outputs": [],
   "source": [
    "MSSFR.Zprescription = 'MZ_GSMF'"
   ]
  },
  {
   "cell_type": "markdown",
   "metadata": {},
   "source": [
    "Then pick your favourite GSMF and MZ relation\n",
    "To look at the options. Please note that not all distributions are metallicity dependent\n",
    "and some rely on fits to the results of the original paper and therefore can behave poorly when pushed to extremes such as at high redshifts for example Furlong et al."
   ]
  },
  {
   "cell_type": "code",
   "execution_count": 7,
   "metadata": {},
   "outputs": [
    {
     "name": "stdout",
     "output_type": "stream",
     "text": [
      "\n",
      "        If you use MZ and GSMF relations\n",
      "        i.e. self.Zprescription    = 'MZ_GSMF'\n",
      "\n",
      "        Default instance\n",
      "        self.GSMFprescription      = None\n",
      "        Current Options = Panter et al. (2004) Single, \n",
      "                          Furlong et al. (2015) Single,\n",
      "                          Furlong et al. (2015) Double\n",
      "        \n"
     ]
    }
   ],
   "source": [
    "MSSFR.printGSMFoptions()"
   ]
  },
  {
   "cell_type": "code",
   "execution_count": 8,
   "metadata": {},
   "outputs": [
    {
     "name": "stdout",
     "output_type": "stream",
     "text": [
      "\n",
      "        If you use MZ and GSMF relations\n",
      "        i.e. self.Zprescription    = 'MZ_GSMF'\n",
      "\n",
      "        Default instance\n",
      "        self.ZMprescription        = None\n",
      "        Current Options = Ma et al. (2016),\n",
      "                      Langer et al. (2006)\n",
      "                      Langer et al. +offset (2006)\n",
      "        \n"
     ]
    }
   ],
   "source": [
    "MSSFR.printZMoptions()"
   ]
  },
  {
   "cell_type": "code",
   "execution_count": 9,
   "metadata": {},
   "outputs": [],
   "source": [
    "# Set to our old default model Barrett et al\n",
    "\n",
    "MSSFR.GSMFprescription = 'Panter et al. (2004) Single'\n",
    "MSSFR.ZMprescription   = 'Langer et al. (2006)'"
   ]
  },
  {
   "cell_type": "markdown",
   "metadata": {},
   "source": [
    "# 3.2 redshift dependent log-normal distribution\n",
    "\n",
    "Instead of a MZ-relation and GSMF you can use a redshift dependent log-normal distribution (see paper)\n",
    "for more details. \n",
    "\n",
    "To use this method set the metallicity prescription to 'logNormal'"
   ]
  },
  {
   "cell_type": "code",
   "execution_count": 10,
   "metadata": {},
   "outputs": [],
   "source": [
    "MSSFR.Zprescription = 'logNormal'\n"
   ]
  },
  {
   "cell_type": "markdown",
   "metadata": {},
   "source": [
    "Note that although the code should ignore any chose GSMF/ZM relation when using this option (or vice-versa)\n",
    "it is still nicer to set those to None just in case and for clarity :). \n",
    "    "
   ]
  },
  {
   "cell_type": "code",
   "execution_count": 11,
   "metadata": {},
   "outputs": [
    {
     "name": "stdout",
     "output_type": "stream",
     "text": [
      "\n",
      "        If you use Log normal \n",
      "        i.e. self.Zprescription    = 'logNormal'\n",
      "\n",
      "        Default instance\n",
      "        self.logNormalPrescription      = None\n",
      "        Current Options = 'Neijssel Phenomenological'\n",
      "                          'Custom Phenomenological'\n",
      "\n",
      "        If you use Custom Phenomenological remember to \n",
      "        additionally set \n",
      "\n",
      "        self.customLogNormal = [Z0, alpha, sigma]\n",
      "        \n"
     ]
    }
   ],
   "source": [
    "#then pick your favourite option for the logNormal\n",
    "MSSFR.printLogNormaloptions()"
   ]
  },
  {
   "cell_type": "code",
   "execution_count": 12,
   "metadata": {},
   "outputs": [],
   "source": [
    "MSSFR.logNormalPrescription ='Neijssel Phenomenological'\n",
    "\n",
    "del MSSFR"
   ]
  },
  {
   "cell_type": "markdown",
   "metadata": {},
   "source": [
    "# 4 Example of accessing function /plotting"
   ]
  },
  {
   "cell_type": "markdown",
   "metadata": {},
   "source": [
    "The MSSFR class also has the function to return the fraction of SFR in a metallicity bin.\n",
    "\n",
    "    MSSFR.returnMSSFR(self, metallicity=None, agesBirth=None, redshiftBirth=None)\n",
    "\n",
    "The code is constructed such that it calculates the MSSFR for all systems coming from a specific metallicity given that you know their agesBirth or redshiftBirth (depending on the chosen MSSFR you need one or the other)\n",
    "\n",
    "Note that if we define our own grid of metallicities and time at which we want to know the MSSFR \n",
    "then we can use this same function to visualise our assumed distribution.\n",
    "Of course we can also directly calculate any subfunctions to plot them :)\n"
   ]
  },
  {
   "cell_type": "code",
   "execution_count": 13,
   "metadata": {},
   "outputs": [],
   "source": [
    "#lets start from scratch\n",
    "\n"
   ]
  },
  {
   "cell_type": "code",
   "execution_count": 14,
   "metadata": {},
   "outputs": [
    {
     "name": "stdout",
     "output_type": "stream",
     "text": [
      "ClassMSSFR: Remember to set self.SFRprescription() + subparts\n",
      "                            self.Zprescription()   +sub-parts\n"
     ]
    }
   ],
   "source": [
    "metallicityGrid = np.logspace(-4, -1.5,100)\n",
    "\n",
    "MSSFR = ClassMSSFR.MSSFR(metallicityGrid=metallicityGrid)\n",
    "#SFR\n",
    "MSSFR.SFRprescription = 'Neijssel et al. (2019)'\n",
    "\n",
    "#metallicity\n",
    "MSSFR.Zprescription = 'logNormal'\n",
    "MSSFR.logNormalPrescription ='Neijssel Phenomenological'\n",
    "\n"
   ]
  },
  {
   "cell_type": "code",
   "execution_count": 15,
   "metadata": {},
   "outputs": [
    {
     "data": {
      "image/png": "[encoded data removed]",
      "text/plain": [
       "<Figure size 432x288 with 1 Axes>"
      ]
     },
     "metadata": {
      "needs_background": "light"
     },
     "output_type": "display_data"
    }
   ],
   "source": [
    "# What is our Z distribution at redshift 2\n",
    "\n",
    "metallicityGrid = np.logspace(-4, -1.5,100)\n",
    "\n",
    "\n",
    "SFRrate = np.zeros(len(metallicityGrid))\n",
    "\n",
    "#our prescriptions do not need agesBirth only \n",
    "#redshift but require dummy value\n",
    "redshift  = np.array([2])\n",
    "agesBirth = redshift\n",
    "\n",
    "for nrZ, Z in enumerate(metallicityGrid):\n",
    "    SFRrate[nrZ] = MSSFR.returnMSSFR( metallicity=Z,\\\n",
    "                   agesBirth=agesBirth, redshiftBirth=redshift)\n",
    "    \n",
    "    \n",
    "bins  = MSSFR.metallicityBinEdges\n",
    "dZ    = np.diff(bins)\n",
    "\n",
    "SFR_dZ = np.divide(SFRrate, dZ)\n",
    "    \n",
    "fig, axes = plt.subplots(1,1)\n",
    "\n",
    "axes.plot(np.log10(metallicityGrid), SFR_dZ)\n",
    "axes.set_title('total SFR=%s  Msun/dGpc3/dyr' %(np.sum(SFRrate)))\n",
    "axes.set_xlabel('log10(Z)')\n",
    "axes.set_ylabel('SFR  Msun/dyr/dGpc3/dZ')\n",
    "plt.tight_layout()\n",
    "plt.show()"
   ]
  },
  {
   "cell_type": "markdown",
   "metadata": {
    "collapsed": true
   },
   "source": [
    "# 5 Example of plotting different SFR, GSMF and MZ relations \n",
    "examples of how to produce plots for different options of SFR, GSMF and MZ. These figures are also presented in the COMPAS method paper in the section post-processing. "
   ]
  },
  {
   "cell_type": "code",
   "execution_count": 16,
   "metadata": {},
   "outputs": [],
   "source": [
    "import matplotlib.pyplot as plt\n",
    "#Set latex environment for plots/labels\n",
    "import matplotlib\n",
    "matplotlib.rc('font', **{'family': 'sans-serif'})\n",
    "matplotlib.rc('text', usetex=True)\n",
    "matplotlib.rcParams['text.latex.preamble'] = [r'\\boldmath']\n",
    "\n",
    "import matplotlib.pyplot as plt\n",
    "import matplotlib.patches as mpatches\n",
    "import matplotlib.gridspec as gridspec"
   ]
  },
  {
   "cell_type": "markdown",
   "metadata": {},
   "source": [
    "# 5.1 Plot the SFR options\n",
    "in the following blocks we will plot the currently implemented star formation rate perscriptions (SFRs). The code and figure is based on Neijssel+2019, and this code will reproduce the figure in the COMPAS method paper. "
   ]
  },
  {
   "cell_type": "code",
   "execution_count": 17,
   "metadata": {},
   "outputs": [
    {
     "name": "stdout",
     "output_type": "stream",
     "text": [
      "\n",
      "        Default instance:\n",
      "        self.SFRprescription       = None \n",
      "\n",
      "        pass string\n",
      "        Current Options  = 'Madau et al. (2014)'\n",
      "                           'Madau et al. (2017)'\n",
      "                           'Strolger et al. (2004)'\n",
      "                           'Neijssel et al. (2019)'\n",
      "                           'Custom SFR'\n",
      "\n",
      "        If you use Custom SFR also set the constants\n",
      "        you want to use\n",
      "\n",
      "        self.customSFR = [a,b,c,d] \n",
      "        \n",
      "        which are used in a Madau et al like formula (see source code)\n",
      "\n",
      "        \n",
      "None\n"
     ]
    }
   ],
   "source": [
    "print(MSSFR.printSFRoptions())"
   ]
  },
  {
   "cell_type": "markdown",
   "metadata": {},
   "source": [
    " we will now plot several of the available star formation rate density (SFRD) prescriptions that are available in COMPAS. This re-creates Figure 11 from the COMPAS methods paper (figure showing the SFRD as a function of redshift for the four default available options in COMPAS) "
   ]
  },
  {
   "cell_type": "code",
   "execution_count": 18,
   "metadata": {},
   "outputs": [
    {
     "data": {
      "image/png": "[encoded data removed]",
      "text/plain": [
       "<Figure size 720x720 with 2 Axes>"
      ]
     },
     "metadata": {
      "needs_background": "light"
     },
     "output_type": "display_data"
    }
   ],
   "source": [
    "# fontsize\n",
    "fs = 20\n",
    "\n",
    "clist=['#1f77b4', '#ff7f0e', '#d62728', '#9467bd', '#8c564b', '#e377c2', '#7f7f7f', '#bcbd22', '#17becf']\n",
    "#Plotting the SFR prescriptions\n",
    "redshifts = np.linspace(0,6,100)\n",
    "#strolger works in age not redshift\n",
    "ages      = MSSFR.cosmology.age(redshifts).value\n",
    "\n",
    "fig, axes = plt.subplots(1,1, figsize=(10,10))\n",
    "axes.plot(redshifts, MSSFR.SFR_Neijssel(redshifts), c=clist[0], lw=3., label='0: Neijssel et al. (2019)', linestyle='-')\n",
    "axes.plot(redshifts, MSSFR.SFR_Madau(redshifts),    c=clist[1], lw=3., label=r'1: Madau $\\&$ Dickinson (2014)', linestyle='-.')\n",
    "axes.plot(redshifts, MSSFR.SFR_Strolger(ages),      c=clist[2], lw=3., label='2: Strolger et al. (2004)', linestyle=':')\n",
    "axes.plot(redshifts, MSSFR.SFR_Madau2(redshifts),   c=clist[3], lw=3., label=r'3: Madau $\\&$ Fragos (2017)', linestyle='--')\n",
    "\n",
    "\n",
    "axes2  = axes.twiny()\n",
    "axes2.plot(redshifts, MSSFR.SFR_Neijssel(redshifts), c=clist[0], lw=3., label='Preferred model')\n",
    "\n",
    "\n",
    "#find nearest redshift to age\n",
    "agelabels = np.array([1,2,3,4,5,6, 9]) #Gyr\n",
    "ageUniverse = MSSFR.cosmology.age(0)\n",
    "redshiftTicks = np.zeros(len(agelabels))\n",
    "for nr, age in enumerate(agelabels):\n",
    "    distance = np.abs(ages-age)\n",
    "    ind      = np.where(distance==np.min(distance))[0][0]\n",
    "    redshiftTicks[nr] =  redshifts[ind]\n",
    "\n",
    "axes2.set_xticks(redshiftTicks)\n",
    "axes2.set_xticklabels(agelabels)\n",
    "\n",
    "# axes layout\n",
    "nameX = r'Redshift $z$'\n",
    "nameY = r'$ {\\rm{d}}^2M_{\\rm{SFR}}/({\\rm{d}}t_{{\\rm{s}}}{\\rm{d}}V_{\\rm{c}}) \\   [10^8\\ {\\rm{M}}_{\\odot}\\  {\\rm{yr}}^{-1}\\ {\\rm{Gpc}}^{-3}]$'\n",
    "axes.legend(loc=8, prop={'size':fs})\n",
    "axes.yaxis.offsetText.set_fontsize(0.1)\n",
    "axes.set_ylim(0, 1.7*10**8)\n",
    "# axes.set_xlim(0, 6)\n",
    "axes.set_xlabel(nameX, fontsize=fs)\n",
    "axes.set_ylabel(nameY, fontsize=fs)\n",
    "axes.tick_params(labelsize=fs)\n",
    "axes.set_xlim(0,6)\n",
    "\n",
    "# second x-axis for age\n",
    "nameX2 = 'age universe [Gyr]'\n",
    "# axes2.xaxis.labelpad = 20\n",
    "axes2.set_xlabel(nameX2, fontsize=fs)\n",
    "axes2.tick_params(labelsize=fs)\n",
    "axes2.set_xlim(0,6)\n",
    "\n",
    "plt.tight_layout()\n",
    "plt.savefig('./SFRplot.png', dpi=100)\n",
    "plt.show()"
   ]
  },
  {
   "cell_type": "code",
   "execution_count": null,
   "metadata": {},
   "outputs": [],
   "source": []
  }
 ],
 "metadata": {
  "kernelspec": {
   "display_name": "Python 3",
   "language": "python",
   "name": "python3"
  },
  "language_info": {
   "codemirror_mode": {
    "name": "ipython",
    "version": 3
   },
   "file_extension": ".py",
   "mimetype": "text/x-python",
   "name": "python",
   "nbconvert_exporter": "python",
   "pygments_lexer": "ipython3",
   "version": "3.7.4"
  }
 },
 "nbformat": 4,
 "nbformat_minor": 2
}
