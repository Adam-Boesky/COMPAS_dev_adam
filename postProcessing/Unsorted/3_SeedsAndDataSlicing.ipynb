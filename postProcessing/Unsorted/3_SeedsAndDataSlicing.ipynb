{
 "cells": [
  {
   "cell_type": "markdown",
   "metadata": {},
   "source": [
    "# Imports"
   ]
  },
  {
   "cell_type": "code",
   "execution_count": 1,
   "metadata": {
    "collapsed": false
   },
   "outputs": [],
   "source": [
    "#Needed for reading the data\n",
    "import h5py as h5\n",
    "#Needed for checking file existence\n",
    "import os \n",
    "#Needd for array handling slicing\n",
    "import numpy as np\n",
    "#Needed for plotting\n",
    "import matplotlib.pyplot as plt\n"
   ]
  },
  {
   "cell_type": "markdown",
   "metadata": {},
   "source": [
    "# Custom imports (i.e. own scripts)"
   ]
  },
  {
   "cell_type": "code",
   "execution_count": 2,
   "metadata": {
    "collapsed": true
   },
   "outputs": [],
   "source": [
    "None"
   ]
  },
  {
   "cell_type": "markdown",
   "metadata": {},
   "source": [
    "# Path to Data"
   ]
  },
  {
   "cell_type": "code",
   "execution_count": 3,
   "metadata": {
    "collapsed": false
   },
   "outputs": [],
   "source": [
    "#Tip an absolute path is useful to keep\n",
    "#script working everywhere on your PC\n",
    "path     = '/home/cneijssel/Desktop/RLOF_test/First_Solar/'\n",
    "filename = 'COMPASOutput.h5'"
   ]
  },
  {
   "cell_type": "markdown",
   "metadata": {},
   "source": [
    "# Reading the Data h5file"
   ]
  },
  {
   "cell_type": "markdown",
   "metadata": {},
   "source": [
    "<a href=\"../1_H5files/1_ReadingH5Files.html\">\n",
    "Loading a COMPASOutput.h5 file and basic h5py syntax.\n",
    "</a>\n",
    " \n"
   ]
  },
  {
   "cell_type": "code",
   "execution_count": 4,
   "metadata": {
    "collapsed": false
   },
   "outputs": [],
   "source": [
    "if not  os.path.isfile(path+filename):\n",
    "    raise ValueError(\"h5 file not found. Wrong path given?\")\n",
    "elif os.path.isfile(path+filename):\n",
    "    Data  = h5.File(path+filename)"
   ]
  },
  {
   "cell_type": "markdown",
   "metadata": {},
   "source": [
    "# Slicing Data with booleans"
   ]
  },
  {
   "cell_type": "markdown",
   "metadata": {},
   "source": [
    "The classic way of slicing data is using for loops#\n",
    "I.e. you have a list of values. You go through the list\n",
    "and if the value meets some criterias you add them to another list\n"
   ]
  },
  {
   "cell_type": "code",
   "execution_count": 5,
   "metadata": {
    "collapsed": false
   },
   "outputs": [],
   "source": [
    "DCOs = Data['doubleCompactObjects']\n",
    "\n",
    "M1   = DCOs['M1'][...].squeeze()\n",
    "M2   = DCOs['M2'][...].squeeze()\n",
    "Mtot = np.add(M1 , M2)\n",
    "newList = []\n",
    "for value in Mtot:\n",
    "    if value > 20:\n",
    "        newList.append(value)"
   ]
  },
  {
   "cell_type": "markdown",
   "metadata": {},
   "source": [
    "The problem is that a for loop can take long if the array is millions\n",
    "of entries long. Secondly if you want to know the separations of systems\n",
    "with total masses more than 20Msun you need to keep defining lists to extend to\n",
    "and expand the for loop. Instead you can also use masks.\n",
    "\n",
    "A mask is simply a array of True and false values.\n",
    "If you slice the data in a mask it immediately gives you the reduced list.\n",
    "Note that it is best to transform any list in np.arrays. \n",
    "\n",
    "We mention this here because from this point on we mostly use this form\n",
    "of data reduction/slicing\n",
    "\n"
   ]
  },
  {
   "cell_type": "code",
   "execution_count": 6,
   "metadata": {
    "collapsed": false
   },
   "outputs": [
    {
     "name": "stdout",
     "output_type": "stream",
     "text": [
      "[False False False False  True  True]\n"
     ]
    }
   ],
   "source": [
    "#A file has a column a and b (OF THE SAME LENGTH!!)\n",
    "a = np.array([0,1,2,3,4,5])\n",
    "b = np.array(['a','b','c','d','e','f'])\n",
    "#Give me all the letters in b for which the values in a is larger than 3\n",
    "\n",
    "mask = a >3\n",
    "print(mask)"
   ]
  },
  {
   "cell_type": "code",
   "execution_count": 7,
   "metadata": {
    "collapsed": false
   },
   "outputs": [
    {
     "name": "stdout",
     "output_type": "stream",
     "text": [
      "[4 5]\n"
     ]
    }
   ],
   "source": [
    "bNew = a[mask]\n",
    "print(bNew)"
   ]
  },
  {
   "cell_type": "markdown",
   "metadata": {
    "collapsed": true
   },
   "source": [
    "In the case to get the primary masses M1 of which the total masses\n",
    "\n",
    "are bigger than 20 solar masses and the secondary less massive than 10 solar masses"
   ]
  },
  {
   "cell_type": "code",
   "execution_count": 8,
   "metadata": {
    "collapsed": false
   },
   "outputs": [
    {
     "name": "stdout",
     "output_type": "stream",
     "text": [
      "10.4866\n",
      "21.5184\n"
     ]
    }
   ],
   "source": [
    "# Remember masks need to be the same length\n",
    "maskTotalMass = Mtot > 20\n",
    "maskSecondary = M2   < 10\n",
    "mask          = maskSecondary & maskTotalMass\n",
    "#If instead of both true you want one or the other be true\n",
    "#mask          = maskSecondary | maskTotalMass\n",
    "\n",
    "M1interest    = M1[mask]\n",
    "print(np.min(M1interest))\n",
    "print(np.max(Mtot[mask]))"
   ]
  },
  {
   "cell_type": "markdown",
   "metadata": {},
   "source": [
    "# Using seeds to slice between datafiles"
   ]
  },
  {
   "cell_type": "markdown",
   "metadata": {},
   "source": [
    "As mentioned in \n",
    "\n",
    "<a href=\"../1_H5files/3_DescriptionFilesColumns.html\">\n",
    "Files and Columns in COMPASOutput.h5\n",
    "</a>\n",
    "\n",
    "The COMPAS output has different files relating to different\n",
    "topics of interest. Sometimes we might need to combine the info of different files.\n",
    "\n",
    "For example what are the initial masses of systems that became binary black holes.\n",
    "\n",
    "This means we need to get the parameters from the Data['systems'] group\n",
    "\n",
    "based on a criteria in the Data['doubleCompactObjects'] group\n",
    "\n",
    "The variable that links the parameters per system is its seed.\n",
    "\n",
    "Hence the earlier question becomes\n",
    "\n",
    "step1 - what are the seeds of systems that became binary black holes\n",
    "\n",
    "step2 - what are the initial masses of the seeds of step 1\n"
   ]
  },
  {
   "cell_type": "markdown",
   "metadata": {},
   "source": [
    "### Step 1"
   ]
  },
  {
   "cell_type": "code",
   "execution_count": 9,
   "metadata": {
    "collapsed": false
   },
   "outputs": [],
   "source": [
    "#get the info you want from the double compact objects file\n",
    "DCOs          = Data['doubleCompactObjects']\n",
    "typePrimary   = DCOs['stellarType1'][...].squeeze()\n",
    "typeSecondary = DCOs['stellarType2'][...].squeeze()\n",
    "seeds         = DCOs['seed'][...].squeeze()\n",
    "\n",
    "#create the mask for binary black holes (stellartype == 14)\n",
    "maskBBH       = (typePrimary == 14) & (typeSecondary == 14)\n",
    "seedsBBH      = seeds[maskBBH]"
   ]
  },
  {
   "cell_type": "markdown",
   "metadata": {
    "collapsed": true
   },
   "source": [
    "Before we do step two it is important to realise that the seeds have a specific order\n",
    "in the output file.\n",
    "\n",
    "If we evolve 10 systems then the seeds array in the systems file looks like"
   ]
  },
  {
   "cell_type": "raw",
   "metadata": {},
   "source": [
    "seedsSystems = [0 1 2 3 4 5 6 7 8 9 10]"
   ]
  },
  {
   "cell_type": "markdown",
   "metadata": {},
   "source": [
    "If only seeds 3 4 and 9 became a DCO (double compact object)"
   ]
  },
  {
   "cell_type": "raw",
   "metadata": {},
   "source": [
    "seedsDCO     = [3 4 9]"
   ]
  },
  {
   "cell_type": "markdown",
   "metadata": {},
   "source": [
    "This has to do with the fact that the COMPAS popsynth \n",
    "\n",
    "every time it evolves a system it writes the output to every file\n",
    "\n",
    "before it moves to the next system, giving them the same order\n",
    "\n",
    "The main useful thing with regards to slicing is that the parameters linked to the\n",
    "seeds are also ordered.\n",
    "\n",
    "Hence if we apply a mask seedsSystems to get seedsDCOs we also get all the parameters ordered \n"
   ]
  },
  {
   "cell_type": "markdown",
   "metadata": {},
   "source": [
    "### Step 2"
   ]
  },
  {
   "cell_type": "code",
   "execution_count": 10,
   "metadata": {
    "collapsed": false
   },
   "outputs": [],
   "source": [
    "#get a mask which recovers the seeds in the systems file\n",
    "#which become BBHs. I want the mask and not the seeds, because \n",
    "#If I have the mask I can get any other parameter from the systems file\n",
    "\n",
    "#define initial parameters file for better readability\n",
    "initialParameters = Data['systems']\n",
    "seedsInitial      = initialParameters['SEED']\n",
    "\n",
    "\n",
    "#a useful numpy trick is numpy.in1d(array1, array2)\n",
    "#this returns a mask of elements in array1 that are in array 2\n",
    "maskBBHinitial    = np.in1d(seedsInitial, seedsBBH)\n",
    "\n",
    "#if we apply this mask to any array of the initial systems\n",
    "#we get the initial parameters of BBHs in the same order as\n",
    "#the final parameters in the DCO file\n",
    "M1initial         = initialParameters['mass1'][...].squeeze()[maskBBHinitial]\n",
    "M2initial         = initialParameters['mass2'][...].squeeze()[maskBBHinitial]\n",
    "MtotInitial       = np.add(M1initial, M2initial)\n",
    "\n",
    "#contract a few lines to get final BBH masses\n",
    "MtotFinal         = DCOs['M1'][...].squeeze()[maskBBH] +\\\n",
    "                    DCOs['M2'][...].squeeze()[maskBBH]"
   ]
  },
  {
   "cell_type": "code",
   "execution_count": 11,
   "metadata": {
    "collapsed": false
   },
   "outputs": [
    {
     "data": {
      "image/png": "[encoded data removed]",
      "text/plain": [
       "<Figure size 432x288 with 1 Axes>"
      ]
     },
     "metadata": {
      "needs_background": "light"
     },
     "output_type": "display_data"
    }
   ],
   "source": [
    "#Make a cool scatterplot\n",
    "fig, axes = plt.subplots(1,1)\n",
    "axes.scatter(MtotInitial, MtotFinal)\n",
    "axes.set_xlabel(r'$\\rm M_{tot, initial}\\ [M_{\\odot}]$')\n",
    "axes.set_ylabel(r'$\\rm M_{tot, final}\\ [M_{\\odot}]$')\n",
    "plt.show()\n",
    "plt.close()"
   ]
  },
  {
   "cell_type": "markdown",
   "metadata": {},
   "source": [
    "# Not all files have only 1 line per SEED!"
   ]
  },
  {
   "cell_type": "markdown",
   "metadata": {},
   "source": [
    "Each system can only be created once or form a DCO once.\n",
    "\n",
    "Hence these files have, if at all, each seed printed only once\n",
    "\n",
    "However, a binary can experience multiple supernovae or mass transfer episodes\n",
    "\n",
    "The trick of slicing remains the same, but the arrays are no longer the same length.\n",
    "\n",
    "\n",
    "For example what where all the masses of the star before supernova (SN), before they became a BBH"
   ]
  },
  {
   "cell_type": "code",
   "execution_count": 12,
   "metadata": {
    "collapsed": false
   },
   "outputs": [
    {
     "name": "stdout",
     "output_type": "stream",
     "text": [
      "nr BBHs = 641, nr lines in SN=1282\n"
     ]
    }
   ],
   "source": [
    "#reuse the seeds that became BBH and get the maskSeedSupernova\n",
    "\n",
    "SN          = Data['supernovae']\n",
    "seedsSN     = SN['randomSeed'][...].squeeze()\n",
    "maskSeedBBH =  np.in1d(seedsSN, seedsBBH)\n",
    "\n",
    "#mass before supernove\n",
    "massBeforeSN = SN['MassStarSN'][...].squeeze()[maskSeedBBH]\n",
    "\n",
    "print('nr BBHs = %s, nr lines in SN=%s' %(len(seedsBBH), len(massBeforeSN)))"
   ]
  },
  {
   "cell_type": "markdown",
   "metadata": {},
   "source": [
    "In this case the above makes perfect sense. \n",
    "\n",
    "For every BBH binary there have to be 2 SNe so I get double the amount of lines.\n",
    "\n",
    "We can further reduce it to get the same number of lines,\n",
    "so an event that can happen only once per binary. For example the primary goes SN"
   ]
  },
  {
   "cell_type": "code",
   "execution_count": 13,
   "metadata": {
    "collapsed": false
   },
   "outputs": [
    {
     "name": "stdout",
     "output_type": "stream",
     "text": [
      "nr BBHs = 641, nr lines in SN=641\n"
     ]
    }
   ],
   "source": [
    "maskPrimary         = SN['whichStar'][...].squeeze() ==1\n",
    "\n",
    "#keep track of length of masks when combining\n",
    "maskPrimaryBeforeSN = maskSeedBBH & maskPrimary\n",
    "#not possible, because massBeforeSN already reduced ;\n",
    "#maskPrimaryBeforeSN = massBeforeSN & maskPrimary\n",
    "\n",
    "massPrimaryBeforeSN = SN['MassStarSN'][...].squeeze()[maskPrimaryBeforeSN]\n",
    "\n",
    "print('nr BBHs = %s, nr lines in SN=%s' %(len(seedsBBH), len(massPrimaryBeforeSN)))"
   ]
  },
  {
   "cell_type": "code",
   "execution_count": 14,
   "metadata": {
    "collapsed": true
   },
   "outputs": [],
   "source": [
    "#I am done here see ya!\n",
    "Data.close()"
   ]
  },
  {
   "cell_type": "code",
   "execution_count": null,
   "metadata": {
    "collapsed": true
   },
   "outputs": [],
   "source": []
  }
 ],
 "metadata": {
  "kernelspec": {
   "display_name": "Python 3",
   "language": "python",
   "name": "python3"
  },
  "language_info": {
   "codemirror_mode": {
    "name": "ipython",
    "version": 3
   },
   "file_extension": ".py",
   "mimetype": "text/x-python",
   "name": "python",
   "nbconvert_exporter": "python",
   "pygments_lexer": "ipython3",
   "version": "3.5.2"
  }
 },
 "nbformat": 4,
 "nbformat_minor": 2
}
