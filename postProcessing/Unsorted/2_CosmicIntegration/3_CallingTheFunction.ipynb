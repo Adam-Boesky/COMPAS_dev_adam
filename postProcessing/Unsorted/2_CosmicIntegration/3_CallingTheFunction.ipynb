{
 "cells": [
  {
   "cell_type": "markdown",
   "metadata": {},
   "source": [
    "# Imports"
   ]
  },
  {
   "cell_type": "code",
   "execution_count": 1,
   "metadata": {
    "collapsed": true
   },
   "outputs": [],
   "source": [
    "import numpy as np\n"
   ]
  },
  {
   "cell_type": "markdown",
   "metadata": {},
   "source": [
    "# Custom imports (i.e. own scripts)"
   ]
  },
  {
   "cell_type": "code",
   "execution_count": 2,
   "metadata": {
    "collapsed": false
   },
   "outputs": [],
   "source": [
    "\"\"\"\n",
    "\n",
    "If you use this ipython notebook outside its original directory\n",
    "please set the path to the COMPAS repository and uncomment the lines below\n",
    "this way it automatically finds the custom scripts that we need to import\n",
    "\n",
    "\"\"\"\n",
    "#pathCOMPASrepo       = '/home/cneijssel/Documents/COMPASpop/'\n",
    "#pathToPostProcessing = 'popsynth/Papers/NeijsselEtAl/PostProcessing/1_RatePerUnitSolarMass/\n",
    "#import sys\n",
    "#sys.path.append('athCOMPASrepo+pathToPostProcessing)\n",
    "\n",
    "#The script we use to quickly write an h5file\n",
    "import ClassCosmicIntegrator as CI\n"
   ]
  },
  {
   "cell_type": "markdown",
   "metadata": {},
   "source": [
    "# Structure Of scripts"
   ]
  },
  {
   "cell_type": "markdown",
   "metadata": {},
   "source": [
    "We will not go into detail into the different subroutines.\n",
    "Please see \n",
    "\n",
    "<a href=\"./2_CosmicIntegration/Notes.html\">\n",
    "2 - Notes/derivations/tests/tricks\n",
    "</a>\n",
    " \n",
    "But to give a general idea  of the structure between the scripts.\n",
    "\n"
   ]
  },
  {
   "cell_type": "raw",
   "metadata": {},
   "source": [
    "We have 5 scripts: ClassCosmicIntegrator, ClassCOMPAS, ClassMSSFR,totalMassEvolved,selection_effects\n",
    "\n",
    "ClassCosmicIntegrator: This is the main overlying class \n",
    "                      - creates an instance of ClassCOMPAS to get the data\n",
    "                                               ClassCOMPAS calls the totalMassEvolved script at creation\n",
    "                      - creates an instance of ClassMSSFR\n",
    "                \n",
    "                      - during calculation calls the selection_effects script\n"
   ]
  },
  {
   "cell_type": "markdown",
   "metadata": {},
   "source": [
    "\n",
    "Say you create an instance of the whole routine called Data\n",
    "\n",
    "Data      = CI.CosmicIntegrator(...........)\n",
    "\n",
    "Then you can acces info about the compas data by\n",
    "\n",
    "- Data.COMPAS.someAttribute\n",
    "\n",
    "- Data.MSSFR.someAttribue\n",
    "\n",
    "More details on how to get the attributes and their explanation see at the end of this notebook.\n",
    "\n",
    "For now let me give three examples of a useful way to create an instance of the ClassCosmicIntegrator"
   ]
  },
  {
   "cell_type": "markdown",
   "metadata": {},
   "source": [
    "# Minimum instance of the ClassCosmicIntegrator"
   ]
  },
  {
   "cell_type": "markdown",
   "metadata": {},
   "source": [
    "It might be that you don't want to look at any data but just want to test subroutines.\n",
    "I recommend to but the verbose attribute to true to see what it tries to do.\n",
    "It still does a lot of stuff from default settings but will tell you that it cannot function"
   ]
  },
  {
   "cell_type": "code",
   "execution_count": 3,
   "metadata": {
    "collapsed": false
   },
   "outputs": [
    {
     "name": "stdout",
     "output_type": "stream",
     "text": [
      "Creating redshift shells for integral\n",
      "Creating instance COMPAS class\n",
      "Just to double check you create instance of ClassCOMPAS without path/Data\n",
      "Remember to  self.setCOMPASDCOmask() and self.setCOMPASData()\n",
      "\n",
      "Creating instance MSSFR class\n",
      "  COMPAS data is not given given hence I set nothing\n",
      "warning MSSFR instance without metallicityGrid\n",
      "warning no normalisation of mass evolved assuming 1\n",
      "cant do it because we have no Metallicity grid\n",
      "\n",
      "cannot set 2D-array of rates\n",
      "COMPAS data is empty (COMPAS.setCOMPASData) \n"
     ]
    }
   ],
   "source": [
    "Data      = CI.CosmicIntegrator(COMPASpath = None,  verbose=True)"
   ]
  },
  {
   "cell_type": "markdown",
   "metadata": {},
   "source": [
    "However this way you can call subroutines and test them"
   ]
  },
  {
   "cell_type": "code",
   "execution_count": 4,
   "metadata": {
    "collapsed": false
   },
   "outputs": [
    {
     "name": "stdout",
     "output_type": "stream",
     "text": [
      "None\n"
     ]
    }
   ],
   "source": [
    "#we have no data so no metallicity grid since that is based on the data\n",
    "print(Data.COMPAS.metallicityGrid)"
   ]
  },
  {
   "cell_type": "code",
   "execution_count": 5,
   "metadata": {
    "collapsed": false
   },
   "outputs": [
    {
     "name": "stdout",
     "output_type": "stream",
     "text": [
      "[1.49614924e+07 8.66529022e+07 1.31859016e+08]\n"
     ]
    }
   ],
   "source": [
    "#But you can access the functions\n",
    "redshifts = np.array([0,1,2])\n",
    "print(Data.MSSFR.SFR_Madau(redshifts))"
   ]
  },
  {
   "cell_type": "code",
   "execution_count": 6,
   "metadata": {
    "collapsed": true
   },
   "outputs": [],
   "source": [
    "#removing instance so I can savely redo it in the next example\n",
    "del Data"
   ]
  },
  {
   "cell_type": "markdown",
   "metadata": {},
   "source": [
    "# Doing the full Cosmic Integration"
   ]
  },
  {
   "cell_type": "markdown",
   "metadata": {},
   "source": [
    "To settings of the cosmic integrator can be divided into three topics\n",
    "which essentially relate to the three classes. \n",
    "The settings can be more compressed but by following these steps it is the most robust\n",
    "way to double check your input\n",
    "\n",
    "## The universe\n",
    "\n",
    "We need to define the redshift shells (see <a href=\"./2_CosmicIntegration/1_Intro.html\">\n",
    "1 - concept of cosmic integration\n",
    "</a>), and the general properties of the universe.\n",
    "The values noted here are the default values. So in principle if you like them\n",
    "you do not even have to pass them\n"
   ]
  },
  {
   "cell_type": "code",
   "execution_count": 7,
   "metadata": {
    "collapsed": false
   },
   "outputs": [
    {
     "name": "stdout",
     "output_type": "stream",
     "text": [
      "Remember to  self.setCOMPASDCOmask() and self.setCOMPASData()\n",
      "\n",
      "cannot set 2D-array of rates\n",
      "COMPAS data is empty (COMPAS.setCOMPASData) \n"
     ]
    }
   ],
   "source": [
    "hubbleConstant  = 67.8 \n",
    "omegaMatter     = 0.308\n",
    "redshiftFirstSFR= 10. \n",
    "minRedshift     = 0.0\n",
    "maxRedshift     = 2. \n",
    "nrRedshiftBins  = 20\n",
    "\n",
    "#just to be sure I already give the path+filename of the Data here\n",
    "pathCOMPASOutput = '/home/cneijssel/Documents/Projects/Data/CosmicInt/'\n",
    "#NOTE THAT IT CURRENTLY ASSUMES THAT YOUR FILE IS CALLED COMPASOutput.h5!!!!\n",
    "\n",
    "Data      = CI.CosmicIntegrator(COMPASpath      = pathCOMPASOutput,\\\n",
    "                                hubbleConstant  = hubbleConstant,\\\n",
    "                                omegaMatter     = omegaMatter,\\\n",
    "                                redshiftFirstSFR= redshiftFirstSFR,\\\n",
    "                                minRedshift     = minRedshift,\\\n",
    "                                maxRedshift     = maxRedshift,\\\n",
    "                                nrRedshiftBins  = nrRedshiftBins)"
   ]
  },
  {
   "cell_type": "markdown",
   "metadata": {},
   "source": [
    "#### The warnings are because we have not set the info needed for the COMPAS data"
   ]
  },
  {
   "cell_type": "markdown",
   "metadata": {},
   "source": [
    "## COMPAS data and systems of interest"
   ]
  },
  {
   "cell_type": "markdown",
   "metadata": {},
   "source": [
    "The above are warnings because we have not defined everything we need yet.\n",
    "We also need some data, from which we can calculate the metallicity grid.\n",
    "Furthermore we need to know at which DCOs we are going to look. Hence we need a DCO mask\n",
    "which corresponds to the doubleCompactObjects group in the COMPASOutput.h5.\n",
    "\n",
    "There are two options to do this. \n",
    "\n",
    "- 1 You provide your own mask based on the doubleCOMPACT objects group.\n",
    "\n",
    "    Data.COMPAS.DCOmask = maskDCO\n",
    "    \n",
    "    This might be useful if you want to look at a very specific group of DCOs.\n",
    "    Note that this method is less tested.\n",
    "\n",
    "- 2 As done in the Cosmic Integration paper. You pick a combination of often used\n",
    "    choices and let it create its own mask.\n"
   ]
  },
  {
   "cell_type": "code",
   "execution_count": 8,
   "metadata": {
    "collapsed": true
   },
   "outputs": [],
   "source": [
    "#Commented are alternative options\n",
    "\n",
    "types             = 'BBH'    #'BHNS'  'BNS'    \n",
    "withinHubbleTime  = True     #False\n",
    "optimistic        = False    #\n",
    "\n",
    "#Note that when within Hubble Time False will not help much\n",
    "#given that any system born with a redshift before the first stars gets a rate=0\n",
    "\n",
    "Data.COMPAS.setCOMPASDCOmask(types            = types, \\\n",
    "                             withinHubbleTime = withinHubbleTime,\\\n",
    "                             optimistic       = optimistic)\n"
   ]
  },
  {
   "cell_type": "markdown",
   "metadata": {},
   "source": [
    "Now we know which systems we are going to look at. The next step is to set the COMPAS data.\n",
    "This means I will look at all the metallicities and store some other attributes such as the masses\n",
    "and mass ratios etc. Most importantly I create a couple of 2D-arrays.\n",
    "For example I calculate per system of the data, per redshift shell (defined before), the redshift of birth.\n",
    "By precalculating this, we do not have to redo it when we want to switch MSSFR prescription but keep everything the same.\n",
    "This saves a lot of time :)"
   ]
  },
  {
   "cell_type": "code",
   "execution_count": 9,
   "metadata": {
    "collapsed": true
   },
   "outputs": [],
   "source": [
    "Data.COMPAS.setCOMPASData()\n",
    "Data.setBirthTimesAnd2Darrays()"
   ]
  },
  {
   "cell_type": "markdown",
   "metadata": {},
   "source": [
    "## Choose your MSSFR"
   ]
  },
  {
   "cell_type": "markdown",
   "metadata": {},
   "source": [
    "We now have set the Integrator class and the COMPAS data class.\n",
    "\n",
    "We only need to know what prescription of MSSFR to use in the MSSFR class.\n"
   ]
  },
  {
   "cell_type": "markdown",
   "metadata": {},
   "source": [
    "### SFR options"
   ]
  },
  {
   "cell_type": "code",
   "execution_count": 10,
   "metadata": {
    "collapsed": false
   },
   "outputs": [],
   "source": [
    "#For the star formation rate we have 4 preset functions\n",
    "Data.MSSFR.SFRprescription = 'Madau et al. (2014)'\n",
    "Data.MSSFR.SFRprescription = 'Madau et al. (2017)'\n",
    "Data.MSSFR.SFRprescription = 'Strolger et al. (2004)'\n",
    "Data.MSSFR.SFRprescription = 'Neijssel et al. (2019)'\n",
    "#You can also define your custom function (in the same functional form as Madau et al')\n",
    "Data.MSSFR.SFRprescription = 'Custom SFR'\n",
    "#If you do this you need to give values for the constants in the function\n",
    "Data.MSSFR.customSFR       = [1,2,3,4] #see script for more info"
   ]
  },
  {
   "cell_type": "code",
   "execution_count": 11,
   "metadata": {
    "collapsed": true
   },
   "outputs": [],
   "source": [
    "Data.MSSFR.SFRprescription = 'Neijssel et al. (2019)'"
   ]
  },
  {
   "cell_type": "markdown",
   "metadata": {},
   "source": [
    "### Metallicity distribution options"
   ]
  },
  {
   "cell_type": "markdown",
   "metadata": {},
   "source": [
    "The metallicity distribution divides into two types\n",
    "\n",
    "- 1 A prescription based on the distribution of galaxy stellar masses (GSMF) and galaxy stellar mass to metallicity relations (ZM)\n",
    "\n",
    "- 2 A redshift dependent log-normal distribution."
   ]
  },
  {
   "cell_type": "markdown",
   "metadata": {},
   "source": [
    "#### If you pick option 1"
   ]
  },
  {
   "cell_type": "code",
   "execution_count": 12,
   "metadata": {
    "collapsed": true
   },
   "outputs": [],
   "source": [
    "Data.MSSFR.Zprescription = 'ZM_GSMF'\n",
    "\n",
    "#Pick a galaxy stellar mass distribution single/double relates to the shape of the schechter function\n",
    "Data.MSSFR.GSMFprescription = 'Panter et al. (2004) Single'\n",
    "                             #'Furlong et al. (2015) Single'\n",
    "                             #'Furlong et al. (2015) Double'\n",
    "Data.MSSFR.ZMprescription   = 'Ma et al. (2015)'\n",
    "                             #'Langer et al. (2006)'\n",
    "                             #'Langer et al. +offset (2006)'\n",
    "                             # There are more but these are not functional yet given their shape\n",
    "            "
   ]
  },
  {
   "cell_type": "markdown",
   "metadata": {},
   "source": [
    "#### If you pick option 2"
   ]
  },
  {
   "cell_type": "code",
   "execution_count": 13,
   "metadata": {
    "collapsed": true
   },
   "outputs": [],
   "source": [
    "Data.MSSFR.Zprescription = 'logNormal'\n",
    "\n",
    "# A preset lognormal distribution from Neijssel et al 2019\n",
    "Data.MSSFR.logNormalPrescription = 'Neijssel Phenomenological'\n",
    "\n",
    "#Or a custom lognormal prescription\n",
    "Data.MSSFR.logNormalPrescription = 'Custom Phenomenological'\n",
    "#If you do this give a list with the values for [Z0, alpha, sigma] (these are the neijssel et al values)\n",
    "Data.MSSFR.customLogNormal       = [0.035,  -0.23 , 0.39]"
   ]
  },
  {
   "cell_type": "markdown",
   "metadata": {},
   "source": [
    "# All good to go now Integrate!"
   ]
  },
  {
   "cell_type": "code",
   "execution_count": 14,
   "metadata": {
    "collapsed": false
   },
   "outputs": [],
   "source": [
    "Data.GWdetector_sensitivity='O1'  #'design\n",
    "Data.GWdetector_snrThreshold=8\n",
    "\n",
    "Data.cosmologicalIntegration()"
   ]
  },
  {
   "cell_type": "markdown",
   "metadata": {},
   "source": [
    "# The main output"
   ]
  },
  {
   "cell_type": "code",
   "execution_count": 15,
   "metadata": {
    "collapsed": true
   },
   "outputs": [],
   "source": [
    "#All these classes store several types of information.\n",
    "#But the main output is two 2D-arrays.\n",
    "\n",
    "RateAtSource   = Data.PerSystemPerRedshift_ratesIntrinsic   #dN Gpc-3 per year \n",
    "\n",
    "RateAtObserver = Data.PerSystemPerRedshift_ratesObserved    #dN per year"
   ]
  },
  {
   "cell_type": "markdown",
   "metadata": {},
   "source": [
    "The above 2D arrays are the rates per individual system per redshift\n",
    "in a type of time frame."
   ]
  },
  {
   "cell_type": "code",
   "execution_count": 16,
   "metadata": {
    "collapsed": false
   },
   "outputs": [
    {
     "name": "stdout",
     "output_type": "stream",
     "text": [
      "(20, 291929)\n"
     ]
    }
   ],
   "source": [
    "print(RateAtSource.shape)\n"
   ]
  },
  {
   "cell_type": "code",
   "execution_count": 17,
   "metadata": {
    "collapsed": false
   },
   "outputs": [
    {
     "name": "stdout",
     "output_type": "stream",
     "text": [
      "[0.05 0.15 0.25 0.35 0.45 0.55 0.65 0.75 0.85 0.95 1.05 1.15 1.25 1.35\n",
      " 1.45 1.55 1.65 1.75 1.85 1.95]\n"
     ]
    }
   ],
   "source": [
    "#each row is a redshift centered in the shell (first row lowest redshift)\n",
    "print(Data.Shell_centerRedshift)"
   ]
  },
  {
   "cell_type": "code",
   "execution_count": 18,
   "metadata": {
    "collapsed": false
   },
   "outputs": [
    {
     "name": "stdout",
     "output_type": "stream",
     "text": [
      "291929\n"
     ]
    }
   ],
   "source": [
    "#each column is the rate of a specific system (ordered the same as the masses/massratio seeds column etc)\n",
    "print(len(Data.COMPAS.mChirp))"
   ]
  },
  {
   "cell_type": "code",
   "execution_count": 19,
   "metadata": {
    "collapsed": false
   },
   "outputs": [
    {
     "name": "stdout",
     "output_type": "stream",
     "text": [
      "[247233]\n",
      "Rate Chirpmass= 64.58209607249745 [Msun] at redshift 0.05 in observerframe=[0.] (dN/dyr) \n"
     ]
    }
   ],
   "source": [
    "#What is the rate of the highest chirpmass at the lowest redshift in the observerframe\n",
    "maxChirpMass = np.max(Data.COMPAS.mChirp)\n",
    "index        = np.where(Data.COMPAS.mChirp == maxChirpMass)[0]\n",
    "rate         = RateAtObserver[0][index]\n",
    "print(index)\n",
    "print('Rate Chirpmass= %s [Msun] at redshift %s in observerframe=%s (dN/dyr) '\\\n",
    "      %(maxChirpMass, Data.Shell_centerRedshift[0], rate))\n"
   ]
  },
  {
   "cell_type": "markdown",
   "metadata": {},
   "source": [
    "By slicing the data based on the Data.COMPAS attributes and looking at the correct rows\n",
    "you can create the plots (see plotting routines for more info), or for plots on specific\n",
    "subroutines see the Notes"
   ]
  },
  {
   "cell_type": "code",
   "execution_count": 20,
   "metadata": {
    "collapsed": false
   },
   "outputs": [
    {
     "ename": "AttributeError",
     "evalue": "'CosmicIntegrator' object has no attribute 'close'",
     "output_type": "error",
     "traceback": [
      "\u001b[0;31m---------------------------------------------------------------------------\u001b[0m",
      "\u001b[0;31mAttributeError\u001b[0m                            Traceback (most recent call last)",
      "\u001b[0;32m<ipython-input-20-a2e7735e1f93>\u001b[0m in \u001b[0;36m<module>\u001b[0;34m\u001b[0m\n\u001b[1;32m      1\u001b[0m \u001b[0;31m#I am done here see ya!\u001b[0m\u001b[0;34m\u001b[0m\u001b[0;34m\u001b[0m\u001b[0m\n\u001b[0;32m----> 2\u001b[0;31m \u001b[0mData\u001b[0m\u001b[0;34m.\u001b[0m\u001b[0mclose\u001b[0m\u001b[0;34m(\u001b[0m\u001b[0;34m)\u001b[0m\u001b[0;34m\u001b[0m\u001b[0m\n\u001b[0m",
      "\u001b[0;31mAttributeError\u001b[0m: 'CosmicIntegrator' object has no attribute 'close'"
     ]
    }
   ],
   "source": [
    "#I am done here see ya!\n",
    "Data.close()"
   ]
  }
 ],
 "metadata": {
  "kernelspec": {
   "display_name": "Python 3",
   "language": "python",
   "name": "python3"
  },
  "language_info": {
   "codemirror_mode": {
    "name": "ipython",
    "version": 3
   },
   "file_extension": ".py",
   "mimetype": "text/x-python",
   "name": "python",
   "nbconvert_exporter": "python",
   "pygments_lexer": "ipython3",
   "version": "3.5.2"
  }
 },
 "nbformat": 4,
 "nbformat_minor": 2
}
