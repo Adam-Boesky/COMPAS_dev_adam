{
 "cells": [
  {
   "cell_type": "raw",
   "metadata": {},
   "source": [
    " <a href=\"./TotalMassEvovledCOMPAS.ipynb\" download=\"TotalMassEvovledCOMPAS.ipynb\"\n",
    " <button>Download Notebook!</button>\n",
    " </a>"
   ]
  },
  {
   "cell_type": "markdown",
   "metadata": {},
   "source": [
    "# Imports"
   ]
  },
  {
   "cell_type": "code",
   "execution_count": 1,
   "metadata": {
    "collapsed": true
   },
   "outputs": [],
   "source": [
    "import numpy\n",
    "import matplotlib.pyplot as plt\n"
   ]
  },
  {
   "cell_type": "markdown",
   "metadata": {},
   "source": [
    "# Introduction"
   ]
  },
  {
   "cell_type": "markdown",
   "metadata": {},
   "source": [
    "To calculate the rate at which we form (and eventually merge) \n",
    "binaries we need to know how much \n",
    "mass is evolved in all stars with primaries from an initial mass function (a broken powerlaw)\n",
    "and secondaries (with some binary fraction and mass ratio distribution)\n",
    "to create each individual binary.\n",
    "\n",
    "This notebook contains the following\n",
    "\n",
    "1 How to create the code to do the inversion sampling of the broken powerlaw\n",
    "\n",
    "2 The loop for the sample universe (i.e draw M1s and corresponding M2s)\n",
    "\n",
    "3 Determine the fraction evolved of all star formation by COMPAS\n",
    "\n"
   ]
  },
  {
   "cell_type": "markdown",
   "metadata": {},
   "source": [
    "# 1 Inversion sampling"
   ]
  },
  {
   "cell_type": "markdown",
   "metadata": {},
   "source": [
    "A powerlaw is an equation of the form\n",
    "$$ P = C x^{\\alpha} $$\n",
    "\n",
    "integral F of power law P from a to b:\n",
    "\n",
    "$$ F =  \\left[ \\frac{1}{(\\alpha + 1)} C x ^{\\alpha + 1} \\right]_{a}^{b} $$\n",
    "\n",
    "making this into a cumulative density function (CDF) means total of integral is normalized.\n",
    "so the CDF(a) where x goes from xmin to xmax:\n",
    "\n",
    "$$ F =  \\frac{\\left[ \\frac{1}{(\\alpha + 1)} C x ^{\\alpha + 1} \\right]_{xmin}^{a} }\n",
    "         { \\left[ \\frac{1}{(\\alpha + 1)} C x ^{\\alpha + 1} \\right]_{xmin}^{xmax} } $$"
   ]
  },
  {
   "cell_type": "code",
   "execution_count": 2,
   "metadata": {
    "collapsed": false
   },
   "outputs": [
    {
     "data": {
      "image/png": "[encoded data removed]",
      "text/plain": [
       "<matplotlib.figure.Figure at 0x7fbb5fb68490>"
      ]
     },
     "metadata": {},
     "output_type": "display_data"
    }
   ],
   "source": [
    "def powerLaw(C, x, index):\n",
    "    return (1./C)*x**(index)\n",
    "\n",
    "\n",
    "alpha = -2.3\n",
    "x = numpy.logspace(-3,3, 100)\n",
    "fig, axes = plt.subplots(1,1, figsize=(5,5))\n",
    "axes.plot(x, powerLaw(1, x, alpha))\n",
    "axes.set_xscale('log')\n",
    "axes.set_yscale('log')\n",
    "axes.set_xlabel('x')\n",
    "axes.set_ylabel('y')\n",
    "plt.show()"
   ]
  },
  {
   "cell_type": "code",
   "execution_count": 3,
   "metadata": {
    "collapsed": false
   },
   "outputs": [],
   "source": [
    "def cumulativePowerLaw(C, x, index, xmin, xmax):\n",
    "    a =  (1./(index + 1)) * C * x**(index+1)\n",
    "    b =  (1./(index + 1)) * C * xmin**(index+1)\n",
    "    c =  (1./(index + 1)) * C * xmax**(index+1)\n",
    "\n",
    "    CDF = (a - b)/float(c-b)\n",
    "    return CDF"
   ]
  },
  {
   "cell_type": "code",
   "execution_count": 4,
   "metadata": {
    "collapsed": false
   },
   "outputs": [
    {
     "data": {
      "image/png": "[encoded data removed]",
      "text/plain": [
       "<matplotlib.figure.Figure at 0x7fbb5fb5be10>"
      ]
     },
     "metadata": {},
     "output_type": "display_data"
    }
   ],
   "source": [
    "alpha = -2.3\n",
    "x = numpy.logspace(-3,3, 100)\n",
    "fig, axes = plt.subplots(1,1, figsize=(5,5))\n",
    "axes.plot(x, cumulativePowerLaw(1, x, alpha, 0.001, 1000.))\n",
    "axes.set_xscale('log')\n",
    "axes.set_yscale('log')\n",
    "axes.set_xlabel('x')\n",
    "axes.set_ylabel('y')\n",
    "plt.show()"
   ]
  },
  {
   "cell_type": "markdown",
   "metadata": {},
   "source": [
    "The benefit of a CDF is that the inverse (solving for x) immediatly maps a number between 0-1 to an x value\n",
    "so you can quickly draw a sample without accept-reject method.\n",
    "\n",
    "\n",
    "$$ F =  \\frac{\\left[ \\frac{1}{(\\alpha + 1)} C x ^{\\alpha + 1} \\right]_{xmin}^{x} }\n",
    "         { \\left[ \\frac{1}{(\\alpha + 1)} C x ^{\\alpha + 1} \\right]_{xmin}^{xmax} } $$\n",
    "         \n",
    "\n",
    "Not sure if people are familiar with above notation so more explicitly\n",
    "\n",
    "$$ F = \\frac{ \\left[ \\left( \\frac{1}{(\\alpha + 1)} C x ^{\\alpha + 1} \\right) - \\left(\\frac{1}{(\\alpha + 1)} C xmin ^{\\alpha + 1} \\right)  \\right]}\n",
    "       { \\left[ \\left( \\frac{1}{(\\alpha + 1)} C xmax ^{\\alpha + 1} \\right) - \\left( \\frac{1}{(\\alpha + 1)} C xmin ^{\\alpha + 1} \\right)  \\right]} $$\n",
    "   \n",
    "$$ F = \\frac{ \\left[ \\left(\\frac{1}{(\\alpha + 1)} C x ^{\\alpha + 1} \\right) - b \\right]}\n",
    "       { \\left[ c - b  \\right]} $$\n",
    "       \n",
    "Solving for x gives \n",
    "$$\\frac{((F * [c - b]) + b)*(\\alpha + 1)}{C} =  x ^{\\alpha + 1} $$\n",
    "\n",
    "\n",
    "\n",
    "$$\\left(\\frac{((F * [c - b]) + b)*(\\alpha + 1)}{C}\\right)^{\\frac{1}{\\alpha + 1}} =  x $$\n"
   ]
  },
  {
   "cell_type": "code",
   "execution_count": 5,
   "metadata": {
    "collapsed": false
   },
   "outputs": [],
   "source": [
    "def inverseCDF(C, CDF, index, xmin, xmax):\n",
    "    a =  (1./(index + 1)) * C * CDF**(index+1)\n",
    "    b =  (1./(index + 1)) * C * xmin**(index+1)\n",
    "    c =  (1./(index + 1)) * C * xmax**(index+1)\n",
    "    top    = ((CDF * (c-b))+b)*(index + 1)\n",
    "    bottom = C\n",
    "    return (top/bottom)**(1./(index+1))"
   ]
  },
  {
   "cell_type": "code",
   "execution_count": 6,
   "metadata": {
    "collapsed": false
   },
   "outputs": [
    {
     "name": "stdout",
     "output_type": "stream",
     "text": [
      "0.00100071678945 999.999950389\n"
     ]
    },
    {
     "data": {
      "image/png": "[encoded data removed]",
      "text/plain": [
       "<matplotlib.figure.Figure at 0x7fbb5fb5b450>"
      ]
     },
     "metadata": {},
     "output_type": "display_data"
    }
   ],
   "source": [
    "alpha = -0.3\n",
    "draws   =  numpy.random.uniform(0,1,10*10**6)\n",
    "xValues =  inverseCDF(1, draws, alpha, 0.001, 1000.)\n",
    "print min(xValues), max(xValues)\n",
    "bins = numpy.linspace(0.001, 1000, 100000)\n",
    "hist, bins = numpy.histogram(xValues, bins=bins)\n",
    "hist = hist/(float(numpy.sum(hist)))\n",
    "\n",
    "center = (bins[:-1] + bins[1:]) / 2\n",
    "fig, axes = plt.subplots(1,1, figsize=(5,5))\n",
    "\n",
    "x = center\n",
    "y = powerLaw(1, x, alpha)\n",
    "y = y /(float(numpy.sum(y)))\n",
    "\n",
    "axes.plot(center, hist, label=('normalised binned'))\n",
    "axes.plot(x,y, c='r',  label=('normalised analytic'))\n",
    "axes.set_xscale('log')\n",
    "axes.set_yscale('log')\n",
    "axes.legend()\n",
    "plt.show()\n",
    "#a histogram should recover the slope ofthe underlying distribution\n"
   ]
  },
  {
   "cell_type": "markdown",
   "metadata": {},
   "source": [
    "# Three part broken powerlaw"
   ]
  },
  {
   "cell_type": "markdown",
   "metadata": {},
   "source": [
    "Again a power-law as before, but now the index depends depends on x\n",
    "$$ P = C x^{\\alpha} $$\n",
    "\n",
    "It has an index depending on the value of x\n",
    "\n",
    "\n",
    "$\\rm x_1 \\leq x \\leq x_2$ ,     $\\rm \\alpha = \\alpha_1$\n",
    "\n",
    "$\\rm x_2 \\leq x \\leq x_3 $ ,   $\\rm \\alpha = \\alpha_2$\n",
    "\n",
    "$\\rm x_3 \\leq x \\leq x_4 $ ,    $\\rm \\alpha = \\alpha_3$\n",
    "\n",
    "we know that we want to connect the power-laws so at x2:\n",
    "\n",
    "$$ C_1 x_2^{\\alpha_1} = C_2 x_2^{\\alpha_2} $$\n",
    "\n",
    "hence if we know C1\n",
    "\n",
    "$$ C_2 = C_1 \\frac{x_2^{\\alpha_1}}{x_2^{\\alpha_2}} = C_1 x_2^{\\alpha_1 - \\alpha_2} $$\n",
    "\n",
    "and then at $x_3$:\n",
    "\n",
    "$$ C_2 x_3^{\\alpha_2} = C_3 x_3^{\\alpha_3} => C_3 =  C_2 x_3^{\\alpha_2 - \\alpha_3} = C_1 x_2^{\\alpha_1 - \\alpha_2} x_3^{\\alpha_2 - \\alpha_3}$$\n"
   ]
  },
  {
   "cell_type": "code",
   "execution_count": 7,
   "metadata": {
    "collapsed": true
   },
   "outputs": [],
   "source": [
    "def threePartBrokenPowerLaw(x, x1, x2, x3, x4, a1, a2, a3, C1):\n",
    "    #Not that everything outside the range x1<x4 is set to zero\n",
    "    yvalues = numpy.zeros(len(x))\n",
    "    \n",
    "    #calculate values of the x values that are x1<=x<x2\n",
    "    mask1 = (x>=x1) & (x<x2)\n",
    "    yvalues[mask1] = C1 * (x[mask1]**a1)\n",
    "    \n",
    "    #calculate values of the x values that are x2<=x<x3\n",
    "    mask2 = (x>=x2) & (x<x3)\n",
    "    C2    = C1 * (x2**(a1-a2))\n",
    "    yvalues[mask2] = C2 * (x[mask2]**a2)\n",
    "    \n",
    "    #calculate values of the x values that are x3<=x<=x4\n",
    "    mask3 = (x>=x3) & (x<=x4)\n",
    "    C3    = C1 * (x2**(a1-a2)) * (x3**(a2-a3))\n",
    "    yvalues[mask3] = C3 * (x[mask3]**a3)\n",
    "    \n",
    "    return yvalues\n",
    "    "
   ]
  },
  {
   "cell_type": "code",
   "execution_count": 8,
   "metadata": {
    "collapsed": false
   },
   "outputs": [
    {
     "data": {
      "image/png": "[encoded data removed]",
      "text/plain": [
       "<matplotlib.figure.Figure at 0x7fbb5fb5b290>"
      ]
     },
     "metadata": {},
     "output_type": "display_data"
    }
   ],
   "source": [
    "xmin = 0.01\n",
    "xmax = 1000\n",
    "xvalues = numpy.logspace(numpy.log10(xmin), numpy.log10(xmax), 100)\n",
    "x1 = 0.01\n",
    "x2 = 0.08\n",
    "x3 = 0.5\n",
    "x4 = 200\n",
    "a1 = -0.3\n",
    "a2 = -1.3\n",
    "a3 = -2.3\n",
    "C1 = 1\n",
    "yvalues =threePartBrokenPowerLaw(xvalues, x1, x2, x3, x4, a1, a2, a3, C1)\n",
    "\n",
    "fig, axes = plt.subplots(1,1)\n",
    "axes.plot(xvalues, yvalues)\n",
    "axes.set_xscale('log')\n",
    "axes.set_yscale('log')\n",
    "axes.set_xlim(xmin, xmax)\n",
    "plt.show()"
   ]
  },
  {
   "cell_type": "markdown",
   "metadata": {},
   "source": [
    "Again we have to turn this into a cumulative function and solve it for x\n",
    "to have the efficient sampling of the powerlaw when we draw numebrs between 0-1\n",
    "and dont want to reject draws\n",
    "\n",
    "The overall normalization (i.e. entire integral is):\n",
    "\n",
    "$$ { \\left[\\frac{1}{(\\alpha_1 + 1)} C_1 x ^{\\alpha_1 + 1} \\right]_{x_1}^{x_2} } + { \\left[ \\frac{1}{(\\alpha_2 + 1)} C_2 x ^{\\alpha_2 + 1} \\right]_{x_2}^{x_3} } + { \\left[ \\frac{1}{(\\alpha_3 + 1)} C_3 x ^{\\alpha_3 + 1} \\right]_{x_3}^{x_4} } $$"
   ]
  },
  {
   "cell_type": "markdown",
   "metadata": {},
   "source": [
    "We then need to integrate from x1 to a and divide by the expression above to know the CDF at x=a:\n",
    "\n",
    "If x < x2:\n",
    "    \n",
    "$$ CDF(a) = \\frac{ \\left[ \\frac{1}{(\\alpha_1 + 1)} C_1 x ^{\\alpha_1 + 1} \\right]_{x_1}^{a}}\n",
    "            {{ \\left[\\frac{1}{(\\alpha_1 + 1)} C_1 x ^{\\alpha_1 + 1} \\right]_{x_1}^{x_2} } + { \\left[ \\frac{1}{(\\alpha_2 + 1)} C_2 x ^{\\alpha_2 + 1} \\right]_{x_2}^{x_3} } + { \\left[ \\frac{1}{(\\alpha_3 + 1)} C_3 x ^{\\alpha_3 + 1} \\right]_{x_3}^{x_4} } }$$\n",
    "             \n",
    "If x2 < x < x3:\n",
    "\n",
    "$$ CDF(a) = \\frac{ \\left[ \\frac{1}{(\\alpha_1 + 1)} C_1 x ^{\\alpha_1 + 1} \\right]_{x_1}^{x_2}+ \\left[\\frac{1}{ (\\alpha_2 + 1)} C_2 x   ^{\\alpha_2 + 1} \\right]_{x_2}^{a}}\n",
    "            {{ \\left[\\frac{1}{(\\alpha_1 + 1)} C_1 x ^{\\alpha_1 + 1} \\right]_{x_1}^{x_2} } + { \\left[ \\frac{1}{(\\alpha_2 + 1)} C_2 x ^{\\alpha_2 + 1} \\right]_{x_2}^{x_3} } + { \\left[ \\frac{1}{(\\alpha_3 + 1)} C_3 x ^{\\alpha_3 + 1} \\right]_{x_3}^{x_4} } }$$\n",
    "\n",
    "             \n",
    "and finally if x3 < x < x4:\n",
    "\n",
    "$$ CDF(a) = \\frac{ \\left[ \\frac{1}{(\\alpha_1 + 1)} C_1 x ^{\\alpha_1 + 1} \\right]_{x_1}^{x_2}+ \\left[\\frac{1}{ (\\alpha_2 + 1)} C_2 x   ^{\\alpha_2 + 1} \\right]_{x_2}^{x_3}+  \\left[\\frac{1}{ (\\alpha_3 + 1)} C_3 x   ^{\\alpha_3 + 1} \\right]_{x_3}^{a}}\n",
    "            {{ \\left[\\frac{1}{(\\alpha_1 + 1)} C_1 x ^{\\alpha_1 + 1} \\right]_{x_1}^{x_2} } + { \\left[ \\frac{1}{(\\alpha_2 + 1)} C_2 x ^{\\alpha_2 + 1} \\right]_{x_2}^{x_3} } + { \\left[ \\frac{1}{(\\alpha_3 + 1)} C_3 x ^{\\alpha_3 + 1} \\right]_{x_3}^{x_4} } }$$"
   ]
  },
  {
   "cell_type": "markdown",
   "metadata": {},
   "source": [
    "Note that in each of the expressions only one term depends on a and the others are constants.\n",
    "Lets call them:\n",
    "    \n",
    "$$ \\left[\\frac{1}{ (\\alpha_1 + 1)} C_1 x ^{\\alpha_1 + 1} \\right]_{x_1}^{x_2} = N_1 $$\n",
    "$$ \\left[\\frac{1}{ (\\alpha_2 + 1)} C_2 x ^{\\alpha_2 + 1} \\right]_{x_2}^{x_3} = N_2 $$\n",
    "$$ \\left[\\frac{1}{ (\\alpha_3 + 1)} C_3 x ^{\\alpha_3 + 1} \\right]_{x_3}^{x_4} = N_3 $$"
   ]
  },
  {
   "cell_type": "markdown",
   "metadata": {},
   "source": [
    "Then everything reduces to\n",
    "\n",
    "\n",
    "If a < x2:\n",
    "    \n",
    "$$ CDF(a) = \\frac{ \\left[\\frac{1}{ (\\alpha_1 + 1)} C_1 x ^{\\alpha_1 + 1} \\right]_{x_1}^{a}}\n",
    "            {N_1 + N_2 + N_3 }$$\n",
    "             \n",
    "If x2 < a < x3:\n",
    "\n",
    "$$ CDF(a) = \\frac{ N_1 + \\left[ \\frac{1}{ (\\alpha_2 + 1)} C_2 x\n",
    "             ^{\\alpha_2 + 1} \\right]_{x_2}^{a}}\n",
    "             {N_1 + N_2 + N_3 }$$\n",
    "             \n",
    "and finally if x3 < a < x4:\n",
    "\n",
    "$$ CDF(a) = \\frac{ N_1 + N_2 + \\left[ \\frac{1}{ (\\alpha_3+ 1)} C_3 x ^{\\alpha_3 + 1}\n",
    "             \\right]_{x_3}^{a}}\n",
    "             {N_1 + N_2 + N_3 }$$"
   ]
  },
  {
   "cell_type": "code",
   "execution_count": 9,
   "metadata": {
    "collapsed": true
   },
   "outputs": [],
   "source": [
    "def CDFbrokenPowerLaw(x, x1, x2, x3, x4, a1, a2, a3, C1):\n",
    "    yvalues = numpy.zeros(len(x))\n",
    "    \n",
    "    C2    = float(C1 * (x2**(a1-a2)))\n",
    "    C3    = float(C2 * (x3**(a2-a3)))\n",
    "    \n",
    "    N1 = float(((1./(a1+1)) * C1 * (x2**(a1+1))) - ((1./(a1+1)) * C1 * (x1**(a1+1))))\n",
    "    N2 = float(((1./(a2+1)) * C2 * (x3**(a2+1))) - ((1./(a2+1)) * C2 * (x2**(a2+1))))\n",
    "    N3 = float(((1./(a3+1)) * C3 * (x4**(a3+1))) - ((1./(a3+1)) * C3 * (x3**(a3+1))))\n",
    "    \n",
    "    bottom = N1+N2+N3\n",
    "    \n",
    "    mask1 = (x>=x1) & (x<x2)\n",
    "    top1 = (((1./(a1+1)) * C1 * (x[mask1]**(a1+1)) - (1./(a1+1)) * C1 * (x1**(a1+1))))\n",
    "    yvalues[mask1] = top1/bottom\n",
    "    \n",
    "    #calculate values of the x values that are x2<=x<x3\n",
    "    mask2 = (x>=x2) & (x<x3)\n",
    "    top2 =  N1 + (((1./(a2+1)) * C2 * (x[mask2]**(a2+1)) - (1./(a2+1)) * C2 * (x2**(a2+1))))\n",
    "    yvalues[mask2] = top2/bottom\n",
    "    \n",
    "    #calculate values of the x values that are x3<=x<=x4\n",
    "    mask3 = (x>=x3) & (x<=x4)\n",
    "    top3 =  N1 + N2 + (((1./(a3+1)) * C3 * (x[mask3]**(a3+1)) - (1./(a3+1)) * C3 * (x3**(a3+1))))\n",
    "    yvalues[mask3] = top3/bottom\n",
    "    return yvalues"
   ]
  },
  {
   "cell_type": "code",
   "execution_count": 10,
   "metadata": {
    "collapsed": false
   },
   "outputs": [
    {
     "data": {
      "image/png": "[encoded data removed]",
      "text/plain": [
       "<matplotlib.figure.Figure at 0x7fbb583656d0>"
      ]
     },
     "metadata": {},
     "output_type": "display_data"
    }
   ],
   "source": [
    "xmin = 0.01\n",
    "xmax = 1000\n",
    "xvalues = numpy.logspace(-3,3, 1e3)\n",
    "x1 = 0.01\n",
    "x2 = 0.08\n",
    "x3 = 0.5\n",
    "x4 = 200\n",
    "a1 = -0.3\n",
    "a2 = -1.3\n",
    "a3 = -2.3\n",
    "C1 = 0.1\n",
    "yvalues =CDFbrokenPowerLaw(xvalues, x1, x2, x3, x4, a1, a2, a3, C1)\n",
    "\n",
    "fig, axes = plt.subplots(1,1)\n",
    "axes.plot(xvalues, yvalues)\n",
    "axes.set_xscale('log')\n",
    "axes.set_yscale('log')\n",
    "axes.axvline(0.08)\n",
    "axes.axvline(0.5)\n",
    "axes.set_xlim(xmin, xmax)\n",
    "axes.set_ylim(1e-4, 2)\n",
    "plt.show()"
   ]
  },
  {
   "cell_type": "markdown",
   "metadata": {},
   "source": [
    "So if we randomly draw a number between 0-1 (i.e. CDF(a)) we need to invert the CDF to know the value of a\n",
    "\n",
    "If a < x2:\n",
    "    \n",
    "$$\\left(\\frac{ \\left[ CDF(a) * (N_1 + N_2 + N_3) \\right] + (\\frac{1}{(\\alpha_1 + 1)} C_1 x_1 ^{\\alpha_1 + 1})}\n",
    "       { \\frac{1}{(\\alpha_1 + 1)} C_1 }\\right)^{\\frac{1}{\\alpha_1 + 1}} = a $$\n",
    "             \n",
    "If x2 < a < x3:\n",
    "\n",
    "$$\\left( \\frac{ \\left[ CDF(a) * (N_1 + N_2 + N_3)- (N_1) \\right]  + (\\frac{1}{(\\alpha_2 + 1)} C_2 x_2 ^{\\alpha_2 + 1})} {\\frac{1}{(\\alpha_2 + 1)} C_2 } \\right)^{\\frac{1}{\\alpha2+1}} =a  $$\n",
    "\n",
    "             \n",
    "and finally if x3 < a < x4:\n",
    "\n",
    "$$\\left( \\frac{ \\left[ CDF(a) * (N_1 + N_2 + N_3)- (N_1+N_2) \\right]  + (\\frac{1}{(\\alpha_3 + 1)} C_3 x_3 ^{\\alpha_3 + 1})} { \\frac{1}{(\\alpha_3 + 1)} C_3 } \\right)^{\\frac{1}{\\alpha3+1}} =a  $$\n",
    "\n",
    "\n",
    "\n",
    "The problem is that we do not know in advance the value of a in order for us to pick the right equation\n",
    "to solve for. \n",
    "\n",
    "However we do know the CDF(x2) and CDF(x3)\n",
    "\n",
    "So if we draw y of  value between 0-1 then\n",
    "\n",
    "$$0 \\leq y \\leq CDF(x2),\\ \\ then\\ solve\\ for\\ a \\leq x_2 $$\n",
    "$$CDF(x2) \\leq y \\leq CDF(x3),\\ \\ then\\ solve\\ for\\ x_2 \\leq a \\leq x_3 $$\n",
    "$$CDF(x3) \\leq y ,\\ \\ then\\ solve\\ for\\ x_3 \\leq a \\leq x_4 $$"
   ]
  },
  {
   "cell_type": "code",
   "execution_count": 11,
   "metadata": {
    "collapsed": false
   },
   "outputs": [],
   "source": [
    "def invertCDFbrokenPowerLaw(CDF, x1, x2, x3, x4, a1, a2, a3, C1):\n",
    "    #I specifically do floats against python rounding when dividing\n",
    "    \n",
    "    #The constants needed\n",
    "    C2    = float(C1 * (x2**(a1-a2)))\n",
    "    C3    = float(C2 * (x3**(a2-a3)))\n",
    "    \n",
    "    N1 = float(((1./(a1+1)) * C1 * (x2**(a1+1))) - ((1./(a1+1)) * C1 * (x1**(a1+1))))\n",
    "    N2 = float(((1./(a2+1)) * C2 * (x3**(a2+1))) - ((1./(a2+1)) * C2 * (x2**(a2+1))))\n",
    "    N3 = float(((1./(a3+1)) * C3 * (x4**(a3+1))) - ((1./(a3+1)) * C3 * (x3**(a3+1))))\n",
    "    \n",
    "    bottom = N1+N2+N3\n",
    "    \n",
    "    CDFx2 = CDFbrokenPowerLaw(numpy.array([x2,x2]), x1, x2, x3, x4, a1, a2, a3, C1)[0]\n",
    "    CDFx3 = CDFbrokenPowerLaw(numpy.array([x3,x3]), x1, x2, x3, x4, a1, a2, a3, C1)[0]\n",
    "\n",
    "    \n",
    "    xvalues = numpy.zeros(len(CDF))\n",
    "    \n",
    "    mask1 = (CDF < CDFx2)\n",
    "    xvalues[mask1] =  (((CDF[mask1]*(N1+N2+N3))  + \\\n",
    "                      ( (1./(a1+1))*C1*(x1**(a1+1))))/((1./(a1+1))*C1))**(1./(a1+1))\n",
    "    \n",
    "    mask2 = (CDFx2<= CDF) & (CDF < CDFx3)\n",
    "    xvalues[mask2] = ((((CDF[mask2]*(N1+N2+N3))-(N1))  + \\\n",
    "                      ( (1./(a2+1))*C2*(x2**(a2+1))))/((1./(a2+1))*C2))**(1./(a2+1))\n",
    "    \n",
    "    mask3 = (CDFx3<= CDF) \n",
    "    xvalues[mask3] = ((((CDF[mask3]*(N1+N2+N3))-(N1+N2))  + \\\n",
    "                      ((1./(a3+1))*C3*(x3**(a3+1))))/((1./(a3+1))*C3))**(1./(a3+1))\n",
    "    \n",
    "    #Since we do not know the solution to a in advance we need to check which \n",
    "    #solutions from A1, A2, A3 to pick afterwards\n",
    "    return xvalues\n"
   ]
  },
  {
   "cell_type": "code",
   "execution_count": 12,
   "metadata": {
    "collapsed": false
   },
   "outputs": [
    {
     "data": {
      "text/plain": [
       "array([ True,  True,  True,  True,  True,  True,  True,  True,  True,\n",
       "        True,  True,  True,  True,  True, False,  True,  True,  True,\n",
       "        True,  True], dtype=bool)"
      ]
     },
     "execution_count": 12,
     "metadata": {},
     "output_type": "execute_result"
    }
   ],
   "source": [
    "#testing\n",
    "xmin = 0.01\n",
    "xmax = 1000\n",
    "xvalues = numpy.linspace(0.01, 200, 20)\n",
    "x1 = 0.01\n",
    "x2 = 0.08\n",
    "x3 = 0.5\n",
    "x4 = 200\n",
    "a1 = -0.3\n",
    "a2 = -1.3\n",
    "a3 = -2.3\n",
    "C1 = 1\n",
    "CDF      = CDFbrokenPowerLaw(xvalues, x1, x2, x3, x4, a1, a2, a3, C1)\n",
    "\n",
    "xvalues2 = invertCDFbrokenPowerLaw(CDF, x1, x2, x3, x4, a1, a2, a3, C1)\n",
    "\n",
    "#going from x-> CDF and back introduces some difference \n",
    "#due to rounding errors, but it works up to at least \n",
    "#9 decimal places in this case\n",
    "numpy.round(xvalues,9) == numpy.round(xvalues2,9)\n",
    "\n"
   ]
  },
  {
   "cell_type": "code",
   "execution_count": 13,
   "metadata": {
    "collapsed": false
   },
   "outputs": [
    {
     "name": "stdout",
     "output_type": "stream",
     "text": [
      "0.0100000064794 199.926913752\n"
     ]
    },
    {
     "data": {
      "image/png": "[encoded data removed]",
      "text/plain": [
       "<matplotlib.figure.Figure at 0x7fbb5d5b81d0>"
      ]
     },
     "metadata": {},
     "output_type": "display_data"
    }
   ],
   "source": [
    "\n",
    "\n",
    "xmin = 0.01\n",
    "xmax = 1000\n",
    "x1 = 0.01\n",
    "x2 = 0.08\n",
    "x3 = 0.5\n",
    "x4 = 200\n",
    "a1 = -0.3\n",
    "a2 = -1.3\n",
    "a3 = -2.3\n",
    "C1 = 1\n",
    "\n",
    "CDFdraws   =  numpy.random.uniform(0,1,10*10**6)\n",
    "xValues =  invertCDFbrokenPowerLaw(CDFdraws, x1, x2, x3, x4, a1, a2, a3, C1)\n",
    "\n",
    "print min(xValues), max(xValues)\n",
    "bins = numpy.linspace(x1, x4, 100000)\n",
    "hist, bins = numpy.histogram(xValues, bins=bins)\n",
    "hist = hist/(float(numpy.sum(hist)))\n",
    "\n",
    "center = (bins[:-1] + bins[1:]) / 2\n",
    "fig, axes = plt.subplots(1,1, figsize=(5,5))\n",
    "\n",
    "xxx = center\n",
    "yyy = threePartBrokenPowerLaw(xxx, x1, x2, x3, x4, a1, a2, a3, C1)\n",
    "yyy = yyy/(float(numpy.sum(yyy)))\n",
    "\n",
    "\n",
    "axes.plot(center, hist, label='normalised binned')\n",
    "axes.plot(xxx, yyy, c='r', label='normalised analytic')\n",
    "axes.set_xscale('log')\n",
    "axes.set_yscale('log')\n",
    "plt.show()"
   ]
  },
  {
   "cell_type": "markdown",
   "metadata": {},
   "source": [
    "# 2 The loop for the sample universe"
   ]
  },
  {
   "cell_type": "markdown",
   "metadata": {},
   "source": [
    "To have all the starformation we do not only want to draw primaries (m1)\n",
    "from a broken powerlaw, we also want to have binaries (with binary fraction f)\n",
    "of which the secondary (m2) follows a flat mass ration distribution\n",
    "\n",
    "For all the distributions we use the inversion sampling, in other words\n",
    "draw a value between 0-1 and project it to the corresponding x-value\n",
    "using the inverse of the cumulative density function. The main benefit\n",
    "is that we do not have to keep drawing values until we have the sample size\n",
    "we want (as you do with accept reject), but instead draw once and use everything\n",
    "\n",
    "The loop below is the code used in scripts folder for the cosmic integration\n",
    "\n"
   ]
  },
  {
   "cell_type": "code",
   "execution_count": 14,
   "metadata": {
    "collapsed": false
   },
   "outputs": [],
   "source": [
    "def createSampleUniverse():\n",
    "    \n",
    "    sampleSize     = 2*10**(6)\n",
    "    binaryFraction = 0.7 \n",
    "\n",
    "    #All the arrays we want to fill\n",
    "    M1 = numpy.zeros(sampleSize)\n",
    "    M2 = numpy.zeros(sampleSize)\n",
    "\n",
    "    #Define the IMF broken powerlaw and calculate masses from inverted CDF\n",
    "    x1 = 0.01\n",
    "    x2 = 0.08\n",
    "    x3 = 0.5\n",
    "    x4 = 200\n",
    "    a1 = -0.3\n",
    "    a2 = -1.3\n",
    "    a3 = -2.3\n",
    "    C1 = 1\n",
    "    \n",
    "        #Given the defined three-part broken powerlaw,\n",
    "    #We can sample a subset by using Mmin, Mmax.\n",
    "    #We convert it to the respective values between\n",
    "    #0-1 and only sample uniformly between those (woohoo :D)\n",
    "    #Mmin and Mmax have to be between x1 and x4\n",
    "    CDFmin = CDFbrokenPowerLaw(numpy.array([0.01]), x1, x2, x3, x4, a1, a2, a3, C1)\n",
    "    CDFmax = CDFbrokenPowerLaw(numpy.array([150]), x1, x2, x3, x4, a1, a2, a3, C1)\n",
    "    #All the random drawing that we need\n",
    "    drawM1         = numpy.random.uniform(CDFmin,CDFmax,sampleSize)\n",
    "    drawBinary     = numpy.random.uniform(0,1,sampleSize)\n",
    "    drawM2         = numpy.random.uniform(0,1,sampleSize)\n",
    "\n",
    "    \n",
    "    M1 = invertCDFbrokenPowerLaw(drawM1, x1, x2, x3, x4, a1, a2, a3, C1)\n",
    "\n",
    "    #Binary fraction is easier, since we draw between 0-1, every draw with \n",
    "    #value above binary fraction = single star and every value below is binary\n",
    "    #for a single star we set M2=0 Msun.\n",
    "    #Note that we assume that the binary Fraction is mass indepent\n",
    "    #Future work to implenet Max Moe ps and qs options\n",
    "    maskBinary = drawBinary < binaryFraction  #booleans\n",
    "\n",
    "    #again for the secondary we assume the mass ratio distribution to be flat across\n",
    "    #the whole parameter range so then the drawM2 (if it is in a binary) \n",
    "    #just becomes the mass fraction.\n",
    "\n",
    "    M2[maskBinary] = numpy.multiply(drawM2[maskBinary],M1[maskBinary])\n",
    "    #all the ones outside the mask remain zero\n",
    "    return M1, M2"
   ]
  },
  {
   "cell_type": "code",
   "execution_count": 15,
   "metadata": {
    "collapsed": false
   },
   "outputs": [
    {
     "data": {
      "image/png": "[encoded data removed]",
      "text/plain": [
       "<matplotlib.figure.Figure at 0x7fbb5d77d750>"
      ]
     },
     "metadata": {},
     "output_type": "display_data"
    }
   ],
   "source": [
    "#Testing the function\n",
    "M1, M2 = createSampleUniverse()\n",
    "q = numpy.divide(M2, M1)\n",
    "\n",
    "binaryMask     = (M2!=0)\n",
    "binaryFraction = numpy.sum(binaryMask) / float(len(M1))\n",
    "\n",
    "M1bins = numpy.linspace(0.01, 200, 10000)\n",
    "qbins = numpy.linspace(0.0, 1, 10000)\n",
    "\n",
    "histM1, M1bins = numpy.histogram(M1, bins=M1bins)\n",
    "centerM1 = (M1bins[:-1] + M1bins[1:]) / 2.\n",
    "\n",
    "histq, qbins = numpy.histogram(q[binaryMask], bins=qbins)\n",
    "centerq = (qbins[:-1] + qbins[1:]) / 2\n",
    "\n",
    "fig, axes = plt.subplots(1,2, figsize=(10,5))\n",
    "axes[0].plot(centerM1, histM1, label='broken powerlaw sampled')\n",
    "axes[0].set_xlabel('M1 [Msun]')\n",
    "axes[0].set_ylabel('number in bin')\n",
    "axes[0].set_xscale('log')\n",
    "axes[0].set_yscale('log')\n",
    "axes[0].axvline(0.08, c='k', linestyle=':')\n",
    "axes[0].axvline(0.5, c='k', linestyle=':')\n",
    "\n",
    "axes[1].plot(centerq, histq, label='mass ratio distribution sampled')\n",
    "axes[1].set_xlabel('q [M2/M1]')\n",
    "axes[1].set_ylabel('number in bin')\n",
    "\n",
    "fig.suptitle('binary fraction=' + str(binaryFraction))\n",
    "plt.show()"
   ]
  },
  {
   "cell_type": "markdown",
   "metadata": {},
   "source": [
    "# 3- Determine the fraction evolved of all star formation by COMPAS"
   ]
  },
  {
   "cell_type": "markdown",
   "metadata": {},
   "source": [
    "COMPAS evolves at every metallicity 100% binaries primaries with M1 between \n",
    "$$Mlower \\leq M_1 \\leq Mupper$$\n",
    "\n",
    "To know the total amount of star formation we need to know the mass evolved by COMPAS\n",
    "\n",
    "in each metallicity and the fractioc of the total star formation rate probed by COMPAS"
   ]
  },
  {
   "cell_type": "markdown",
   "metadata": {},
   "source": [
    "### Get total masss evolved per metallicity using H5py (memory efficient)"
   ]
  },
  {
   "cell_type": "code",
   "execution_count": 16,
   "metadata": {
    "collapsed": false
   },
   "outputs": [
    {
     "name": "stdout",
     "output_type": "stream",
     "text": [
      "[ 65212935.16482399  65261909.36139897  65218435.25367005\n",
      "  65204492.55431402  65313564.576672    65284952.55375397\n",
      "  65144782.21590902  65226769.97921298  65295027.671524    65161561.65472502\n",
      "  65287611.17660601  65148236.03991402  65223347.17382995\n",
      "  65220288.00112899  65161365.76594803  65163523.89049605\n",
      "  65194673.14910597  65168515.67513196  65238904.48502401\n",
      "  65298821.64467798  65158398.41574603  65262393.70105599  65283202.828154\n",
      "  65229317.66974601  65154190.865692    65209832.79725101\n",
      "  65216190.18410695  65204955.25797401  65184342.19017799\n",
      "  65112198.02970402]\n"
     ]
    }
   ],
   "source": [
    "def retrieveMassEvolvedPerZ():\n",
    "    #Thanks Jim Barrett for this code snippet :+1:\n",
    "    \n",
    "    #After running this, I am not so happy anymore\n",
    "    #This is too fast, no time to walk away and grab coffee ;p\n",
    "    import h5py as h5\n",
    "    path = '/home/cneijssel/Documents/Projects/Data/CosmicInt/COMPASOutput.h5'\n",
    "    f = h5.File(path)\n",
    "    allSystems = f['systems']\n",
    "    metals = (allSystems['Metallicity1'])[...]\n",
    "    m1s = (allSystems['mass1'])[...]\n",
    "    m2s = (allSystems['mass2'])[...]\n",
    "    total = []\n",
    "    for Z in numpy.unique(metals):\n",
    "        mask = metals == Z\n",
    "        total.append(numpy.sum(m1s[mask]) + numpy.sum(m2s[mask]))\n",
    "    return numpy.array(total)\n",
    "totalMassEvolvedPerZ = retrieveMassEvolvedPerZ()\n",
    "print totalMassEvolvedPerZ"
   ]
  },
  {
   "cell_type": "markdown",
   "metadata": {},
   "source": [
    "###  Fraction evolved by COMPAS"
   ]
  },
  {
   "cell_type": "markdown",
   "metadata": {},
   "source": [
    "The fraction evolved by COMPAS depends on the setup of the simulation (lookup the pythonSubmit.py)\n",
    "\n",
    "For the Cosmic Integration paper the folling was done:\n",
    "    \n",
    "Primaries with masses between 5 and 150 Msun all in binaries.\n",
    "\n",
    "\n",
    "\n"
   ]
  },
  {
   "cell_type": "code",
   "execution_count": 19,
   "metadata": {
    "collapsed": false
   },
   "outputs": [
    {
     "name": "stdout",
     "output_type": "stream",
     "text": [
      "0.005239\n",
      "768011.009353\n",
      "268011.065269\n",
      "1036022.07462\n",
      "219170.033596\n",
      "4.72702429992\n",
      "[  3.09148081e+08   3.09380247e+08   3.09174154e+08   3.09108058e+08\n",
      "   3.09625124e+08   3.09489486e+08   3.08824995e+08   3.09213666e+08\n",
      "   3.09537248e+08   3.08904540e+08   3.09502089e+08   3.08841368e+08\n",
      "   3.09197440e+08   3.09182937e+08   3.08903611e+08   3.08913842e+08\n",
      "   3.09061508e+08   3.08937506e+08   3.09271191e+08   3.09555234e+08\n",
      "   3.08889544e+08   3.09382543e+08   3.09481191e+08   3.09225743e+08\n",
      "   3.08869598e+08   3.09133374e+08   3.09163511e+08   3.09110251e+08\n",
      "   3.09012533e+08   3.08670527e+08]\n"
     ]
    }
   ],
   "source": [
    "Mlower = 5.\n",
    "Mupper = 150.\n",
    "M1, M2 = createSampleUniverse()\n",
    "\n",
    "totalMassInStarFormation = numpy.sum(M1) + numpy.sum(M2)\n",
    "\n",
    "#Now mask M1 and M2 to see what lies in the range of COMPAS\n",
    "maskM1 = (M1>=Mlower) & (M1<=Mupper)\n",
    "maskBinaries = (M2!=0)\n",
    "mask = maskM1 & maskBinaries\n",
    "print numpy.sum(mask) / float(len(M1))\n",
    "print numpy.sum(M1) \n",
    "print numpy.sum(M2)\n",
    "totalMassEvolvedCOMPAS = numpy.sum(M1[mask]) + numpy.sum(M2[mask])\n",
    "print numpy.sum(totalMassInStarFormation)\n",
    "print  numpy.sum(totalMassEvolvedCOMPAS)\n",
    "#multiplication fraction\n",
    "fraction = totalMassEvolvedCOMPAS/float(totalMassInStarFormation)\n",
    "\n",
    "#so we need to muliplu the mass evolved per metallicity times (1/fraction)\n",
    "#to know the total mass evolved per metallicity\n",
    "print (1/fraction)\n",
    "\n",
    "#MassEvolvedPerZ = retrieveMassEvolvedPerZ()\n",
    "\n",
    "#totalMassEvolvedPerZ = (MassEvolvedPerZ)/(fraction)\n",
    "\n",
    "print totalMassEvolvedPerZ"
   ]
  },
  {
   "cell_type": "raw",
   "metadata": {},
   "source": [
    " <a href=\"./TotalMassEvovledCOMPAS.ipynb\" download=\"TotalMassEvovledCOMPAS.ipynb\"\n",
    " <button>Download Notebook!</button>\n",
    " </a>"
   ]
  },
  {
   "cell_type": "code",
   "execution_count": null,
   "metadata": {
    "collapsed": true
   },
   "outputs": [],
   "source": []
  }
 ],
 "metadata": {
  "kernelspec": {
   "display_name": "Python 2",
   "language": "python",
   "name": "python2"
  },
  "language_info": {
   "codemirror_mode": {
    "name": "ipython",
    "version": 2
   },
   "file_extension": ".py",
   "mimetype": "text/x-python",
   "name": "python",
   "nbconvert_exporter": "python",
   "pygments_lexer": "ipython2",
   "version": "2.7.12"
  }
 },
 "nbformat": 4,
 "nbformat_minor": 2
}
