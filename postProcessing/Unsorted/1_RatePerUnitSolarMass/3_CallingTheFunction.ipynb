{
 "cells": [
  {
   "cell_type": "markdown",
   "metadata": {},
   "source": [
    "# Imports"
   ]
  },
  {
   "cell_type": "code",
   "execution_count": 1,
   "metadata": {
    "collapsed": true
   },
   "outputs": [],
   "source": [
    "None"
   ]
  },
  {
   "cell_type": "markdown",
   "metadata": {},
   "source": [
    "# Custom imports (i.e. own scripts)"
   ]
  },
  {
   "cell_type": "code",
   "execution_count": 2,
   "metadata": {
    "collapsed": true
   },
   "outputs": [],
   "source": [
    "\"\"\"\n",
    "\n",
    "If you use this ipython notebook outside its original directory\n",
    "please set the path to the COMPAS repository and uncomment the lines below\n",
    "this way it automatically finds the custom scripts that we need to import\n",
    "\n",
    "\"\"\"\n",
    "#pathCOMPASrepo       = '/home/cneijssel/Documents/COMPASpop/'\n",
    "#pathToPostProcessing = 'popsynth/Papers/NeijsselEtAl/PostProcessing/1_RatePerUnitSolarMass/\n",
    "#import sys\n",
    "#sys.path.append('athCOMPASrepo+pathToPostProcessing)\n",
    "\n",
    "#The script we use to quickly write an h5file\n",
    "import totalMassEvolved  \n"
   ]
  },
  {
   "cell_type": "markdown",
   "metadata": {},
   "source": [
    "# TotalMassEvolved.py"
   ]
  },
  {
   "cell_type": "markdown",
   "metadata": {},
   "source": [
    "The main function in totalMassEvolved.py is fractionTotalMassEvolved()\n",
    "it returns the fraction of mass that a COMPAS simulation from the total star formation rate \n",
    "ussing some assumptions. It calculates it using Monte carlo sampling. The reason is that future\n",
    "expansion of assumptions/initial distributions might no longer be analytically solvable. It is reasonably quick/accurate so not much time is lost.\n",
    "\n",
    "Currently it assumes:\n",
    "- A three part broken power law for the primary\n",
    "- a mass independent flat mass ratio distribution\n",
    "- a mass independent binary fraction."
   ]
  },
  {
   "cell_type": "markdown",
   "metadata": {},
   "source": [
    "# Input arguments and their defaults\n",
    "\n",
    "\n",
    "\n",
    "- Mlower = None \n",
    "\n",
    "  Lower limit primary mass in the COMPAS simulation set to none to make sure the user checks and provides this number\n",
    "---------------------\n",
    "- Mupper= None \n",
    "\n",
    "  Upper limit primary mass in the COMPAS simulation set to none to make sure the user checks and provides this number\n",
    "---------------------        \n",
    "- binaryFraction = 0.7\n",
    "\n",
    "  Assumed mass fraction of all stars in binaries (based amongst others on Sana et al.)\n",
    "---------------------\n",
    "- x1 = 0.01\n",
    "\n",
    "  Lower mass limit of the IMF, default from  Kroupa 2001\n",
    "---------------------\n",
    "- x2 = 0.08\n",
    "\n",
    "  Mass where the IMF has the first break in the power law (change power from a1 to a2) , default from  Kroupa 2001\n",
    "---------------------\n",
    "- x3 = 0.5\n",
    "\n",
    "  Mass where the IMF has the second break in the power law (change power from a2 to a3) , default from  Kroupa 2001\n",
    "---------------------\n",
    "- x4 = 200.\n",
    "\n",
    "  Upper mass limit of the IMF , default set arbitrarily high does not matter too much\n",
    "---------------------\n",
    "- a1 = -0.3\n",
    "\n",
    "  power law slope of the first part (x1 < M < x2) where P ~ M^(alpha)  note the sign is in a1, default from  Kroupa 2001\n",
    "------------------------------------------  \n",
    "- a2 = -1.3\n",
    "\n",
    "  power law slope of the second part (x2 < M < x3) where P ~ M^(alpha)  note the sign is in a2, default from  Kroupa 2001\n",
    "---------------------  \n",
    "- a3 = -2.3\n",
    "\n",
    "  power law slope of the third part (x3 < M < x4) where P ~ M^(alpha)  note the sign is in a3, default from  Kroupa 2001\n",
    "---------------------\n",
    "- C1 = 1.\n",
    "\n",
    "  arbitrary normalisational constant, does not matter for inversion sampling, is there for completeness.\n",
    "---------------------\n",
    "- Mmax = 200.\n",
    "\n",
    "  an untested parameter for further subsampling, keep the same as x4."
   ]
  },
  {
   "cell_type": "markdown",
   "metadata": {},
   "source": [
    "# Output\n",
    "\n",
    "returns a single fraction"
   ]
  },
  {
   "cell_type": "markdown",
   "metadata": {},
   "source": [
    "# example call"
   ]
  },
  {
   "cell_type": "code",
   "execution_count": 3,
   "metadata": {
    "collapsed": false
   },
   "outputs": [
    {
     "name": "stdout",
     "output_type": "stream",
     "text": [
      "0.20284917653425108\n"
     ]
    }
   ],
   "source": [
    "Mlower = 5.\n",
    "Mupper = 150.\n",
    "\n",
    "fraction = totalMassEvolved.fractionTotalMassEvolved(Mlower=Mlower, Mupper=Mupper)\n",
    "\n",
    "print(fraction)"
   ]
  },
  {
   "cell_type": "code",
   "execution_count": 4,
   "metadata": {
    "collapsed": false
   },
   "outputs": [
    {
     "name": "stdout",
     "output_type": "stream",
     "text": [
      "0.10611286144622917\n"
     ]
    }
   ],
   "source": [
    "Mlower         = 5.\n",
    "Mupper         = 150.\n",
    "binaryFraction = 0.3\n",
    "fraction = totalMassEvolved.fractionTotalMassEvolved(Mlower=Mlower, Mupper=Mupper,\\\n",
    "                                                    binaryFraction=binaryFraction)\n",
    "\n",
    "print(fraction)"
   ]
  },
  {
   "cell_type": "markdown",
   "metadata": {},
   "source": [
    "This normalisation can also be used in histograms to give the distribution per unit SFR in etc"
   ]
  }
 ],
 "metadata": {
  "kernelspec": {
   "display_name": "Python 3",
   "language": "python",
   "name": "python3"
  },
  "language_info": {
   "codemirror_mode": {
    "name": "ipython",
    "version": 3
   },
   "file_extension": ".py",
   "mimetype": "text/x-python",
   "name": "python",
   "nbconvert_exporter": "python",
   "pygments_lexer": "ipython3",
   "version": "3.5.2"
  }
 },
 "nbformat": 4,
 "nbformat_minor": 2
}
