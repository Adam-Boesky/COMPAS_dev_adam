{
 "cells": [
  {
   "cell_type": "markdown",
   "metadata": {},
   "source": [
    "# Imports"
   ]
  },
  {
   "cell_type": "code",
   "execution_count": 1,
   "metadata": {
    "collapsed": true
   },
   "outputs": [],
   "source": [
    "#Needed for reading the data\n",
    "import h5py as h5\n",
    "#Needed for checking file existence\n",
    "import os \n",
    "#Needd for array handling slicing\n",
    "import numpy as np\n"
   ]
  },
  {
   "cell_type": "markdown",
   "metadata": {},
   "source": [
    "# Custom imports (i.e. own scripts)"
   ]
  },
  {
   "cell_type": "code",
   "execution_count": 2,
   "metadata": {
    "collapsed": true
   },
   "outputs": [],
   "source": [
    "\"\"\"\n",
    "\n",
    "If you use this ipython notebook outside its original directory\n",
    "please set the path to the COMPAS repository and uncomment the lines below\n",
    "this way it automatically finds the custom scripts that we need to import\n",
    "\n",
    "\"\"\"\n",
    "#pathCOMPASrepo       = '/home/cneijssel/Documents/COMPASpop/'\n",
    "#pathToPostProcessing = 'popsynth/Papers/NeijsselEtAl/PostProcessing/1_RatePerUnitSolarMass/\n",
    "#import sys\n",
    "#sys.path.append('athCOMPASrepo+pathToPostProcessing)\n",
    "\n",
    "#The script we use get the total amount of SFR\n",
    "import totalMassEvolved  \n"
   ]
  },
  {
   "cell_type": "markdown",
   "metadata": {},
   "source": [
    "# Why we want to know rates"
   ]
  },
  {
   "cell_type": "markdown",
   "metadata": {},
   "source": [
    "As seen in\n",
    "\n",
    "<a href=\"../2_BasicDataHandling/1_MakingAHistogram.html\">\n",
    "Reading a single column and making a histogram\n",
    "</a>\n",
    "\n",
    "We can get a distribution of a certain parameter and make for example a histogram.\n",
    "In this case you simply have a total number of binaries or number of binaries in a bin.\n",
    "The shape of these distributions is important to understand the physics in your model.\n",
    "However to constrain a model we often look at observations.\n",
    "Therefore, besides knowing the shape of a distribtion,\n",
    "we want to know how often we expect to see a certain event.\n",
    "In other words we want to know rates. In our case the rate depends on how often we form stars. \n",
    "Observations give us insight into the star formation rate. This quantity is usual defined as an amount of solar\n",
    "mass per unit time or per unit time and volume that goes into the formation of all stars.\n",
    "This means that if we know how much solar mass our simulation has in all stars we can use this observational input\n",
    "to calculate the rate of events in our population.\n",
    "\n",
    "Example: (random picked numbers) we get 1 double neutron star per 2 million solar masses evolved in all stars in our simulation. The galaxy has a star formation rate (SFR) of 2 solar masses per year. Then we expect to form\n",
    "10^-6 binary black hole progenitors per year. This logic also applies to other events such as supernovae, mergers etc. Notice that we know the rate of forming the progenitors. The rate of observing the event depends on additional parameters (see for example cosmic integration).\n",
    "\n",
    "We know the number of events now all we need to know is the amount of sollar masses evolved IN ALL STARS.\n",
    " "
   ]
  },
  {
   "cell_type": "markdown",
   "metadata": {},
   "source": [
    "# Rate per unit solar mass evolved in COMPAS"
   ]
  },
  {
   "cell_type": "markdown",
   "metadata": {},
   "source": [
    "In the COMPAS simulation we evolve a population of stars resulting in different types of events  (mergers, supernovae, common-envelopes, formation of binary-black-holes etc etc).\n",
    "\n",
    "The initial parameters file tells us how much mass we evolved in all stars to get\n",
    "a certain type of output.\n",
    "\n",
    "Lets import the data and look at this quantity."
   ]
  },
  {
   "cell_type": "markdown",
   "metadata": {},
   "source": [
    "#### Path to the data"
   ]
  },
  {
   "cell_type": "code",
   "execution_count": 3,
   "metadata": {
    "collapsed": true
   },
   "outputs": [],
   "source": [
    "path     = '/home/cneijssel/Desktop/RLOF_test/First_Solar/'\n",
    "filename = 'COMPASOutput.h5'"
   ]
  },
  {
   "cell_type": "markdown",
   "metadata": {},
   "source": [
    "#### Define the h5file"
   ]
  },
  {
   "cell_type": "code",
   "execution_count": 4,
   "metadata": {
    "collapsed": false
   },
   "outputs": [],
   "source": [
    "if not  os.path.isfile(path+filename):\n",
    "    raise ValueError(\"h5 file not found. Wrong path given?\")\n",
    "elif os.path.isfile(path+filename):\n",
    "    Data  = h5.File(path+filename)"
   ]
  },
  {
   "cell_type": "markdown",
   "metadata": {},
   "source": [
    "#### Get the total mass evolved in COMPAS"
   ]
  },
  {
   "cell_type": "code",
   "execution_count": 5,
   "metadata": {
    "collapsed": false
   },
   "outputs": [
    {
     "name": "stdout",
     "output_type": "stream",
     "text": [
      "Total mass in stars evolved COMPAS =2030498.442539  [Msun]\n"
     ]
    }
   ],
   "source": [
    "InitialParameters = Data['systems']\n",
    "\n",
    "#This example simulation only has binaries\n",
    "MassPrimaries     = InitialParameters['mass1'][...].squeeze()\n",
    "MassSecondaries   = InitialParameters['mass2'][...].squeeze()\n",
    "#Total mass per system in COMPAS\n",
    "TotalMassSystems  = MassPrimaries + MassSecondaries\n",
    "#Total mass in all of COMPAS\n",
    "TotalMassCOMPAS   = np.sum(TotalMassSystems)\n",
    "print('Total mass in stars evolved COMPAS =%s  [Msun]'%(TotalMassCOMPAS))"
   ]
  },
  {
   "cell_type": "code",
   "execution_count": 6,
   "metadata": {
    "collapsed": false
   },
   "outputs": [
    {
     "name": "stdout",
     "output_type": "stream",
     "text": [
      "We formed 150 double neutron stars\n"
     ]
    }
   ],
   "source": [
    "#what are the number of double neutron stars?\n",
    "DCOs         = Data['doubleCompactObjects']\n",
    "#stellar type 13 = neutron star, below we mask double neutron stars\n",
    "PrimaryNS    = DCOs['stellarType1'][...].squeeze() == 13\n",
    "SecondaryNS  = DCOs['stellarType2'][...].squeeze() == 13\n",
    "maskDNSs     = PrimaryNS & SecondaryNS\n",
    "numberDNSs   = np.sum(maskDNSs)  #true counts as 1\n",
    "print('We formed %s double neutron stars'%(numberDNSs))"
   ]
  },
  {
   "cell_type": "markdown",
   "metadata": {},
   "source": [
    "So now we know that we 150 double compact objects per 2 million solar masses evolved \n",
    "in the COMPAS simulation\n",
    "\n",
    "However, the COMPAS simulation did not necessarily evolve all stars and therefore the 2 million solar\n",
    "masses does not relate to the star formation rate.\n",
    "For example, if we care about forming double neutron stars in our simulation we dont evolve stars\n",
    "with masses below 6~7 solar masses nor do we evolve single stars. We could but we would be wasting computational time. What we need to recover instead is the amount of solar masses that COMPAS would have evolved in all stars to get the same result.\n",
    "\n",
    "Using some assumptions and knowledge of our initial distributions we can recover this using \n",
    "the totalMassEvolved script. This returns the approximated fraction of the total star forming mass that COMPAS\n",
    "simulated. More details/assumptions we leave for other notes, here we show the basic.\n",
    "\n",
    "We need to know the lower and upper mass limit of our simulation and the assumed fraction of stars in binaries"
   ]
  },
  {
   "cell_type": "code",
   "execution_count": 7,
   "metadata": {
    "collapsed": false,
    "scrolled": true
   },
   "outputs": [
    {
     "name": "stdout",
     "output_type": "stream",
     "text": [
      "Total mass in stars evolved COMPAS =2030498.442539  [Msun]\n",
      "Fraction of all mass evolved in COMPAS = 0.21078317511297273 \n",
      "Total mass in all stars is 9633114.414614547\n",
      "Number of double neutron stars per unit star formation  =1.5571288115547832e-05  [Msun^-1]\n"
     ]
    }
   ],
   "source": [
    "lowerMassPrimary = 5.\n",
    "upperMassPrimary = 150\n",
    "binaryFraction   = 0.7\n",
    "\n",
    "fraction = totalMassEvolved.\\\n",
    "          fractionTotalMassEvolved(Mlower=lowerMassPrimary,\\\n",
    "                                   Mupper=upperMassPrimary,\\\n",
    "                                   binaryFraction=binaryFraction)\n",
    "    \n",
    "print('Total mass in stars evolved COMPAS =%s  [Msun]'%(TotalMassCOMPAS))\n",
    "print('Fraction of all mass evolved in COMPAS = %s '%(fraction))\n",
    "totalStarFormingMass = TotalMassCOMPAS/float(fraction)\n",
    "print('Total mass in all stars is %s'%(totalStarFormingMass))\n",
    "RatePerMsun = numberDNSs / float(totalStarFormingMass)\n",
    "print('Number of double neutron stars per unit star formation  =%s  [Msun^-1]'%(RatePerMsun))"
   ]
  },
  {
   "cell_type": "markdown",
   "metadata": {},
   "source": [
    "This normalisation can also be used in histograms to give the distribution per unit SFR in etc"
   ]
  },
  {
   "cell_type": "code",
   "execution_count": 8,
   "metadata": {
    "collapsed": true
   },
   "outputs": [],
   "source": [
    "#I am done here see ya!\n",
    "Data.close()"
   ]
  },
  {
   "cell_type": "code",
   "execution_count": null,
   "metadata": {
    "collapsed": true
   },
   "outputs": [],
   "source": []
  }
 ],
 "metadata": {
  "kernelspec": {
   "display_name": "Python 3",
   "language": "python",
   "name": "python3"
  },
  "language_info": {
   "codemirror_mode": {
    "name": "ipython",
    "version": 3
   },
   "file_extension": ".py",
   "mimetype": "text/x-python",
   "name": "python",
   "nbconvert_exporter": "python",
   "pygments_lexer": "ipython3",
   "version": "3.5.2"
  }
 },
 "nbformat": 4,
 "nbformat_minor": 2
}
