{
 "cells": [
  {
   "cell_type": "code",
   "execution_count": null,
   "metadata": {
    "collapsed": true
   },
   "outputs": [],
   "source": []
  },
  {
   "cell_type": "markdown",
   "metadata": {},
   "source": [
    "# Imports"
   ]
  },
  {
   "cell_type": "code",
   "execution_count": 1,
   "metadata": {
    "collapsed": false
   },
   "outputs": [],
   "source": [
    "#Needed for reading the data\n",
    "import h5py as h5\n",
    "#Needed for checking file existence\n",
    "import os \n",
    "#Needd for array handling slicing\n",
    "import numpy as np\n",
    "\n"
   ]
  },
  {
   "cell_type": "markdown",
   "metadata": {},
   "source": [
    "# Custom imports (i.e. own scripts)"
   ]
  },
  {
   "cell_type": "code",
   "execution_count": 2,
   "metadata": {
    "collapsed": false
   },
   "outputs": [],
   "source": [
    "\"\"\"\n",
    "\n",
    "If you use this ipython notebook outside its originaln directory\n",
    "please set the path to the COMPAS repository and uncomment the lines below\n",
    "this way it automatically finds the custom scripts that we need to import\n",
    "\n",
    "\"\"\"\n",
    "#pathCOMPASrepo       = '/home/cneijssel/Documents/COMPASpop/'\n",
    "#pathToPostProcessing = 'popsynth/Papers/NeijsselEtAl/PostProcessing/1_H5File/\n",
    "#import sys\n",
    "#sys.path.append('athCOMPASrepo+pathToPostProcessing)\n",
    "\n",
    "#The script we use to quickly write an h5file\n",
    "import WriteH5File as Writer\n"
   ]
  },
  {
   "cell_type": "markdown",
   "metadata": {},
   "source": [
    "# Path to Data"
   ]
  },
  {
   "cell_type": "code",
   "execution_count": 3,
   "metadata": {
    "collapsed": false
   },
   "outputs": [],
   "source": [
    "#Tip an absolute path is useful to keep\n",
    "#script working everywhere on your PC\n",
    "path     = '/home/cneijssel/Desktop/RLOF_test/First_Solar/'\n",
    "filename = 'COMPASOutput.h5'"
   ]
  },
  {
   "cell_type": "markdown",
   "metadata": {},
   "source": [
    "# Writing the Data h5file"
   ]
  },
  {
   "cell_type": "markdown",
   "metadata": {},
   "source": [
    "The writing of the data file presented here assumes you already have\n",
    "a COMPASOutput.h5 and want to write a reduced version of this.\n",
    "This is for example needed when you want to publish data and don't\n",
    "need to give people the full 90GB when you only used 10GB.\n",
    "\n",
    "Lets first quickly check if we have given the correct path for the input file\n"
   ]
  },
  {
   "cell_type": "code",
   "execution_count": 4,
   "metadata": {
    "collapsed": false
   },
   "outputs": [],
   "source": [
    "if not  os.path.isfile(path+filename):\n",
    "    raise ValueError(\"h5 file not found. Wrong path given?\")\n",
    "elif os.path.isfile(path+filename):\n",
    "    Data  = h5.File(path+filename)"
   ]
  },
  {
   "cell_type": "markdown",
   "metadata": {
    "collapsed": false
   },
   "source": [
    "If it gives the following error:\n",
    "    \n",
    "OSError: Unable to create file (unable to open file: name = /......../ COMPASOutput.h5', errno = 17, error message = 'File exists', flags = 15, o_flags = c2)\n",
    "\n",
    "Then there is a big chance the file is already\n",
    "being read by another program"
   ]
  },
  {
   "cell_type": "markdown",
   "metadata": {},
   "source": [
    "# The writer function"
   ]
  },
  {
   "cell_type": "markdown",
   "metadata": {},
   "source": [
    "This script is a class which takes a few input variables when you make an instance,\n",
    "i.e. first define the class. It will then automatically check if the input makes sense, \n",
    "and throw an error if it doesn't. It also gives warnings which if you want you can ignore.\n",
    "\n",
    "The instance and their defaults in the script:"
   ]
  },
  {
   "cell_type": "raw",
   "metadata": {},
   "source": [
    "\n",
    "\n",
    "h5writer = WriteH5File.createDataSet(pathToOriginal=None, fileNameOriginal=None,\\\n",
    "                                     pathToNew=None     , fileNameNew=None, \\\n",
    "                                     seeds=None, groups=None, columns=None)"
   ]
  },
  {
   "cell_type": "markdown",
   "metadata": {},
   "source": [
    "- pathToOriginal  = \n",
    "                    ---STRING---\n",
    "                    The path to the original datafile you want to use, in this notebook\n",
    "                    it is the same path as you put at the start (i.e. pathToOriginal=path)\n",
    "                          \n",
    "\n",
    "- fileNameOriginal = \n",
    "                    ---STRING---\n",
    "                    The name of the original datafile, usually COMPASOutput.h5, in this notebook\n",
    "                    it is the same name as you put at the start (i.e. filename=filename)\n",
    "                    \n",
    "- pathToNew        = \n",
    "                    ---STRING---\n",
    "                    The path where the new datafile will be written, if you want it next to your \n",
    "                    other datafile just write (i.e. pathToNew=path) However, be sure in this case\n",
    "                    that fileNameNew is different from the original.\n",
    "                          \n",
    "- fileNameNew      =\n",
    "                    ---STRING----\n",
    "                    The name you want to give to the new datafile, careful if you write to the same\n",
    "                    folder as the original file. It should raise an error if input and output paths are the same\n",
    "\n",
    "\n",
    "- seeds            =\n",
    "                    ---1D array---\n",
    "                    The seeds you want from the original data file. This is a 1D array\n",
    "                    i.e. if you have X seeds the shape is (X,)\n",
    "\n",
    "- groups           =\n",
    "                    ---LIST OF STRINGS or STRING---\n",
    "                    A list of groups you want to write to the new file. Reminder, groups means the\n",
    "                    filenames such as RLOF/systems/doubleCompactObjects. In this notebook you can type\n",
    "                    Data.keys() to see the groups. If you just want all the files you can pass the string\n",
    "                    'All' instead list of strings\n",
    "                    \n",
    "- dataSets         =\n",
    "                    ---LIST OF (LISTS OF STRINGS or STRING)---\n",
    "                    A list of the datasets (i.e. column names) you want per group.\n",
    "                    If you have three groups you pass a list here with three lists in the same\n",
    "                    order. If you want all columns of a group just pass the string 'All'\n",
    "                    Examples will follow. If you want to know the available column name of a group \n",
    "                    in this notebook type Data[group].keys(). "
   ]
  },
  {
   "cell_type": "markdown",
   "metadata": {},
   "source": [
    "# Examples"
   ]
  },
  {
   "cell_type": "markdown",
   "metadata": {},
   "source": [
    "### Define the filenames"
   ]
  },
  {
   "cell_type": "code",
   "execution_count": 5,
   "metadata": {
    "collapsed": true
   },
   "outputs": [],
   "source": [
    "pathToOriginal   = path\n",
    "fileNameOriginal = 'COMPASOutput.h5'\n",
    "\n",
    "pathToNew        = path\n",
    "fileNameNew      = 'COMPAS_BBH.h5'"
   ]
  },
  {
   "cell_type": "markdown",
   "metadata": {},
   "source": [
    "### get the seeds"
   ]
  },
  {
   "cell_type": "code",
   "execution_count": 6,
   "metadata": {
    "collapsed": false
   },
   "outputs": [],
   "source": [
    "# I only want the seeds of BBHs\n",
    "\n",
    "DCOgroup  =  Data['doubleCompactObjects']\n",
    "type1     =  DCOgroup['stellarType1'][...].squeeze()\n",
    "type2     =  DCOgroup['stellarType2'][...].squeeze()\n",
    "maskBBH   =  (type1==14) & (type2==14)\n",
    "seedsBBH  =  DCOgroup['seed'][...].squeeze()[maskBBH]"
   ]
  },
  {
   "cell_type": "code",
   "execution_count": 7,
   "metadata": {
    "collapsed": false
   },
   "outputs": [],
   "source": [
    "## I want all the initial parameters from the systems file\n",
    "## I want only M1, M2 and separation from the doubleCompact objects file\n",
    "\n",
    "#Remind me of names uncomment next line\n",
    "# Data.keys()\n",
    "\n"
   ]
  },
  {
   "cell_type": "code",
   "execution_count": 8,
   "metadata": {
    "collapsed": false
   },
   "outputs": [],
   "source": [
    "groups        = ['systems', 'doubleCompactObjects']\n",
    "\n",
    "#For clarity I list them separately\n",
    "columnSystems = 'All'\n",
    "columnDCOs    = ['M1', 'M2', 'separationDCOFormation']\n",
    "\n",
    "#combine the lists in a list for input\n",
    "dataSets      = [columnSystems, columnDCOs]\n",
    "\n",
    "# say you want all columns of all files. Do a quick loop\n",
    "#Note that this will break if one of the groups is empty say XrayBinaries\n",
    "#groups   = 'All'\n",
    "#dataSets = []\n",
    "#for group in Data.keys():\n",
    "#    dataSets.extend('All')"
   ]
  },
  {
   "cell_type": "code",
   "execution_count": 9,
   "metadata": {
    "collapsed": false
   },
   "outputs": [
    {
     "name": "stdout",
     "output_type": "stream",
     "text": [
      "WARNING:Are you sure you want all columns in systems\n",
      "Good to go just call writeToFile(), it will print 'done' when done\n"
     ]
    }
   ],
   "source": [
    "h5writer = Writer.createDataSet(pathToOriginal=pathToOriginal, fileNameOriginal=fileNameOriginal,\\\n",
    "                                     pathToNew=pathToNew          , fileNameNew=fileNameNew, \\\n",
    "                                     seeds=seedsBBH, groups=groups, dataSets=dataSets)\n",
    "\n"
   ]
  },
  {
   "cell_type": "code",
   "execution_count": 10,
   "metadata": {
    "collapsed": false,
    "scrolled": true
   },
   "outputs": [
    {
     "name": "stdout",
     "output_type": "stream",
     "text": [
      "done\n"
     ]
    }
   ],
   "source": [
    "h5writer.writeToFile()\n"
   ]
  },
  {
   "cell_type": "markdown",
   "metadata": {},
   "source": [
    "### Test the data file"
   ]
  },
  {
   "cell_type": "code",
   "execution_count": 11,
   "metadata": {
    "collapsed": false
   },
   "outputs": [
    {
     "name": "stdout",
     "output_type": "stream",
     "text": [
      "Filename = doubleCompactObjects\n",
      "----------------------\n",
      "\t   column name                             unit                length\n",
      "\t   --------------------------------------------------------------------\n",
      "\t   M1                                      b'Msol'                641\n",
      "\t   M2                                      b'Msol'                641\n",
      "\t   separationDCOFormation                  b'AU'                  641\n",
      "Filename = systems\n",
      "----------------------\n",
      "\t   column name                             unit                length\n",
      "\t   --------------------------------------------------------------------\n",
      "\t   CE_Alpha                                b'#'                   641\n",
      "\t   ID                                      b'#'                   641\n",
      "\t   LBV_multiplier                          b'#'                   641\n",
      "\t   Metallicity1                            b'#'                   641\n",
      "\t   Metallicity2                            b'#'                   641\n",
      "\t   --------------------------------------------------------------------\n",
      "\t   S1type_final                            b'#'                   641\n",
      "\t   S2type_final                            b'#'                   641\n",
      "\t   SEED                                    b'#'                   641\n",
      "\t   WR_multiplier                           b'#'                   641\n",
      "\t   disbound                                b'#'                   641\n",
      "\t   --------------------------------------------------------------------\n",
      "\t   eccentricity                            b'#'                   641\n",
      "\t   errorFlag                               b'#'                   641\n",
      "\t   mass1                                   b'Msol'                641\n",
      "\t   mass2                                   b'Msol'                641\n",
      "\t   meanAnomaly1                            b'#'                   641\n",
      "\t   --------------------------------------------------------------------\n",
      "\t   meanAnomaly2                            b'#'                   641\n",
      "\t   omega1                                  b'yr^-1'               641\n",
      "\t   omega2                                  b'yr^-1'               641\n",
      "\t   phi1                                    b'#'                   641\n",
      "\t   phi2                                    b'#'                   641\n",
      "\t   --------------------------------------------------------------------\n",
      "\t   rk1                                     b'#'                   641\n",
      "\t   rk2                                     b'#'                   641\n",
      "\t   separation                              b'AU'                  641\n",
      "\t   sigma_kick_CCSN_BH                      b'kms^-1'              641\n",
      "\t   sigma_kick_CCSN_NS                      b'kms^-1'              641\n",
      "\t   --------------------------------------------------------------------\n",
      "\t   sigma_kick_ECSN                         b'kms^-1'              641\n",
      "\t   sigma_kick_USSN                         b'kms^-1'              641\n",
      "\t   stellar_merger                          b'#'                   641\n",
      "\t   theta1                                  b'#'                   641\n",
      "\t   theta2                                  b'#'                   641\n",
      "\t   --------------------------------------------------------------------\n",
      "\t   weight                                  b'#'                   641\n"
     ]
    }
   ],
   "source": [
    "import PrintAllH5Columns\n",
    "PrintAllH5Columns.printAllColumnsInH5(pathToNew, filename=fileNameNew)"
   ]
  },
  {
   "cell_type": "markdown",
   "metadata": {},
   "source": [
    "# The main commands/syntax"
   ]
  },
  {
   "cell_type": "markdown",
   "metadata": {},
   "source": [
    "Essentially COMPAS sorts its outputs in several topics.\n",
    "We give each topic a seperate filename with a specific number of columns.\n",
    "In h5py notation this translates into different groups\n",
    "each have a specific number of datasets.\n",
    "\n",
    "\n",
    "Some of the examples were taken from\n",
    "\n",
    "https://www.christopherlovell.co.uk/blog/2016/04/27/h5py-intro.html"
   ]
  },
  {
   "cell_type": "markdown",
   "metadata": {},
   "source": [
    "-- create data File\n",
    "\n",
    "hf = h5py.File('data.h5', 'w')\n",
    "\n",
    "-- create a file within\n",
    "\n",
    "g1 = hf.create_group('group1')\n",
    "\n",
    "-- add a column to a file\n",
    "\n",
    "g1.create_dataset('data2',data=d1)\n",
    "\n",
    "you can also add attributes to the file to give meta Data\n"
   ]
  },
  {
   "cell_type": "code",
   "execution_count": 12,
   "metadata": {
    "collapsed": true
   },
   "outputs": [],
   "source": [
    "#I am done here see ya!\n",
    "Data.close()"
   ]
  }
 ],
 "metadata": {
  "kernelspec": {
   "display_name": "Python 3",
   "language": "python",
   "name": "python3"
  },
  "language_info": {
   "codemirror_mode": {
    "name": "ipython",
    "version": 3
   },
   "file_extension": ".py",
   "mimetype": "text/x-python",
   "name": "python",
   "nbconvert_exporter": "python",
   "pygments_lexer": "ipython3",
   "version": "3.5.2"
  }
 },
 "nbformat": 4,
 "nbformat_minor": 2
}
