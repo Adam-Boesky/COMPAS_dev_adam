{
 "cells": [
  {
   "cell_type": "markdown",
   "metadata": {},
   "source": [
    "# Setting up Paths"
   ]
  },
  {
   "cell_type": "code",
   "execution_count": 1,
   "metadata": {
    "collapsed": true
   },
   "outputs": [],
   "source": [
    "#path to the data\n",
    "pathCOMPASOutput   = '/home/cneijssel/Documents/Projects/Data/CosmicInt/'\n",
    "#path to compasrepo which contains ther popsynth folder\n",
    "pathPostProcessing = '/home/cneijssel/Documents/COMPASpop/popsynth/Papers/NeijsselEtAL/PostProcessing'\n",
    "\n"
   ]
  },
  {
   "cell_type": "markdown",
   "metadata": {},
   "source": [
    "# Imports"
   ]
  },
  {
   "cell_type": "code",
   "execution_count": 2,
   "metadata": {
    "collapsed": true
   },
   "outputs": [],
   "source": [
    "import numpy as np\n",
    "import matplotlib.pyplot as plt\n",
    "import h5py as h5\n",
    "import time\n",
    "import sys\n",
    "import copy\n",
    "#Quick fudge to make import from ../Scripts work\n",
    "import sys\n"
   ]
  },
  {
   "cell_type": "markdown",
   "metadata": {},
   "source": [
    "# Custom Imports from COMPASrepo"
   ]
  },
  {
   "cell_type": "code",
   "execution_count": 3,
   "metadata": {
    "collapsed": false
   },
   "outputs": [],
   "source": [
    "sys.path.append(pathPostProcessing + '/2_CosmicIntegration')\n",
    "#Given settings and redshifts returns rates (2D arrays) Loads the data\n",
    "import ClassCosmicIntegrator  as CI \n",
    "# Quickly set ticks and labels in a nice preset font\n",
    "import AxesLayout             as Layout\n"
   ]
  },
  {
   "cell_type": "markdown",
   "metadata": {},
   "source": [
    "# The cosmic integrator class"
   ]
  },
  {
   "cell_type": "code",
   "execution_count": 4,
   "metadata": {
    "collapsed": false
   },
   "outputs": [
    {
     "name": "stdout",
     "output_type": "stream",
     "text": [
      "Remember to  self.setCOMPASDCOmask() and self.setCOMPASData()\n"
     ]
    }
   ],
   "source": [
    "#Will only look at BBHs so might as well set everything\n",
    "minz = 0.\n",
    "maxz = 1.\n",
    "resz = 100\n",
    "Data = CI.CosmicIntegrator(COMPASpath = pathCOMPASOutput, DCOtypes='BBH',\\\n",
    "       minRedshift=minz,   maxRedshift=maxz, nrRedshiftBins=resz, optimistic=False)\n"
   ]
  },
  {
   "cell_type": "markdown",
   "metadata": {},
   "source": [
    "# The plot"
   ]
  },
  {
   "cell_type": "code",
   "execution_count": 5,
   "metadata": {
    "collapsed": false
   },
   "outputs": [],
   "source": [
    "#The distribution of DCOs as a function of redshift\n",
    "\n",
    "method     = ['logNormal'                ,'MZ_GSMF'                     ,'MZ_GSMF'                      , 'MZ_GSMF']\n",
    "SFRs       = ['Neijssel et al. (2019)'   ,'Madau et al. (2014)'         ,'Madau et al. (2014)'          , 'Madau et al. (2014)']\n",
    "logNormal  = ['Neijssel Phenomenological', None                         , None                          , None]\n",
    "GSMFs      = [None                       , 'Panter et al. (2004) Single', 'Furlong et al. (2015) Single', 'Panter et al. (2004) Single']\n",
    "MZs        = [None                       , 'Langer et al. (2006)'       , 'Langer et al. (2006)'        , 'Ma et al. (2015)']\n",
    "\n",
    "linestyles = ['-'                        , '--'                         , ':'                           , '-.']\n",
    "labels     = ['Preferred model'          , 'Barrett et al. (2018) MSSFR', 'Furlong et al. (2015) Single', 'Ma et al. (2015)']\n",
    "\n",
    "\n",
    "cm       = plt.get_cmap('viridis')\n",
    "nColors  = 3+1  #want three colours for three variations (1 used in other plot later)\n",
    "                    # dont want the brigthest colour hence I add a dummy value.\n",
    "                    #Should be consistent with figure of metallicity PDFs\n",
    "mycolors = [cm(x) for x in np.linspace(0,1 , nColors)]\n",
    "\n",
    "colours  =  [ 'k'                        ,mycolors[0]                   , mycolors[1]                   , mycolors[2]]\n",
    "\n",
    "\n",
    "\n",
    "\n",
    "rates    = []\n",
    "totals   = []\n",
    "for nrL, L in enumerate(labels):\n",
    "    Data.MSSFR.Zprescription         = method[nrL]\n",
    "    Data.MSSFR.SFRprescription       = SFRs[nrL]\n",
    "    Data.MSSFR.logNormalPrescription = logNormal[nrL]\n",
    "    Data.MSSFR.GSMFprescription      = GSMFs[nrL]\n",
    "    Data.MSSFR.ZMprescription        = MZs[nrL]\n",
    "    Data.cosmologicalIntegration()\n",
    "        \n",
    "    \n",
    "    Row        =np.sum(Data.PerSystemPerRedshift_ratesObserved, axis=0)\n",
    "    rates.append(Row)\n",
    "    totals.extend([np.sum(Row)])\n"
   ]
  },
  {
   "cell_type": "code",
   "execution_count": 6,
   "metadata": {
    "collapsed": false,
    "scrolled": false
   },
   "outputs": [],
   "source": [
    "fig, axes        = plt.subplots(1,1,figsize=(9,8))\n",
    "\n",
    "############\n",
    "#  Top panel with MSSFR\n",
    "############\n",
    "Mtot       = Data.COMPAS.mChirp\n",
    "bins       = np.linspace(0,60,100)\n",
    "center     = (bins[1:]+bins[:-1])/2.\n",
    "dMtot      = np.diff(bins)\n",
    "\n",
    "for nrL, L in enumerate(labels):\n",
    "    rate       = rates[nrL]\n",
    "    rate, _    = np.histogram(Mtot, bins=bins, weights = rate)\n",
    "    rate       = np.divide(rate, dMtot)\n",
    "    rate       = rate / np.sum(rate)\n",
    "    label      = labels[nrL]+r' $\\rm \\normalfont [%s \\ yr^{-1}]$' %(int(totals[nrL]))\n",
    "    axes.plot(center, rate, lw=3.5, c=colours[nrL], label=label, linestyle=linestyles[nrL], alpha=0.85)\n",
    "nameX = r'$\\rm M_{chirp}\\ \\ [M_{\\odot}] $'\n",
    "nameY = r'$\\rm dP / dM_{chirp} \\ [M_{\\odot}^{-1}]  $'\n",
    "axes = Layout.layoutAxes(axes, nameX=nameX, nameY=nameY)\n",
    "axes.legend(loc=1, prop={'size':16})\n",
    "axes.set_ylim(top=0.07)\n",
    "\n",
    "\n",
    "plt.tight_layout()\n",
    "plt.subplots_adjust(wspace=0., hspace=0.0)\n",
    "plt.savefig('./MassDistributionAtRedshiftObs.png', dpi=300, transparent=True)\n",
    "#plt.show()\n",
    "plt.close()"
   ]
  },
  {
   "cell_type": "code",
   "execution_count": null,
   "metadata": {
    "collapsed": true
   },
   "outputs": [],
   "source": []
  },
  {
   "cell_type": "code",
   "execution_count": null,
   "metadata": {
    "collapsed": true
   },
   "outputs": [],
   "source": []
  }
 ],
 "metadata": {
  "kernelspec": {
   "display_name": "Python 3",
   "language": "python",
   "name": "python3"
  },
  "language_info": {
   "codemirror_mode": {
    "name": "ipython",
    "version": 3
   },
   "file_extension": ".py",
   "mimetype": "text/x-python",
   "name": "python",
   "nbconvert_exporter": "python",
   "pygments_lexer": "ipython3",
   "version": "3.5.2"
  }
 },
 "nbformat": 4,
 "nbformat_minor": 2
}
