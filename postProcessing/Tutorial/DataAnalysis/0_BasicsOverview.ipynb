{
 "cells": [
  {
   "cell_type": "markdown",
   "metadata": {},
   "source": [
    "# Introduction\n",
    "\n",
    "\n",
    "Most of the post-Processing material here uses python code.\n",
    "Here we show two important basics of python code in the context\n",
    "of investigating your COMPAS simulation.\n",
    "\n",
    "\n",
    "## Material\n",
    "\n",
    "### [Slicing the Data](./1_slicingData.ipynb)\n",
    "How to select specific systems and their parameters using seeds.\n",
    "\n",
    "### [Visualising the Data](./2_visualisingData.ipynb)\n",
    "The basics of binning and visualising your data."
   ]
  },
  {
   "cell_type": "code",
   "execution_count": null,
   "metadata": {
    "collapsed": true
   },
   "outputs": [],
   "source": []
  }
 ],
 "metadata": {
  "jupytext": {
   "formats": "ipynb,auto:light"
  },
  "kernelspec": {
   "display_name": "Python 3",
   "language": "python",
   "name": "python3"
  },
  "language_info": {
   "codemirror_mode": {
    "name": "ipython",
    "version": 3
   },
   "file_extension": ".py",
   "mimetype": "text/x-python",
   "name": "python",
   "nbconvert_exporter": "python",
   "pygments_lexer": "ipython3",
   "version": "3.8.10"
  }
 },
 "nbformat": 4,
 "nbformat_minor": 2
}
