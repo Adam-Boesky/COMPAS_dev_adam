{
 "cells": [
  {
   "cell_type": "markdown",
   "metadata": {},
   "source": [
    "# Introduction\n",
    "\n",
    "Hi COMPAS Developer !!!!\n",
    "\n",
    "First of all thank you for contributing to the COMPAS post-processing suite.\n",
    "\n",
    "The COMPAS suite is continuously being updated and improved, and that includes these post-processing notebooks. \n",
    "\n",
    "If you would like to contribute, please check out the following links."
   ]
  },
  {
   "cell_type": "markdown",
   "metadata": {},
   "source": [
    "## Here we present\n",
    "\n",
    "### [Workflow:](./1_WorkFlow.ipynb)\n",
    "Tips on how to structure the notes and steps to take in testing\n",
    "\n",
    "### [Logbook:](./log.txt)\n",
    "List of past contributions and changes.\n",
    "\n",
    "### [Todo List:](./todo.txt)\n",
    "A wish/to-do list for future implementations."
   ]
  },
  {
   "cell_type": "code",
   "execution_count": null,
   "metadata": {
    "collapsed": true
   },
   "outputs": [],
   "source": []
  }
 ],
 "metadata": {
  "kernelspec": {
   "display_name": "Python 3",
   "language": "python",
   "name": "python3"
  },
  "language_info": {
   "codemirror_mode": {
    "name": "ipython",
    "version": 3
   },
   "file_extension": ".py",
   "mimetype": "text/x-python",
   "name": "python",
   "nbconvert_exporter": "python",
   "pygments_lexer": "ipython3",
   "version": "3.8.10"
  }
 },
 "nbformat": 4,
 "nbformat_minor": 2
}
