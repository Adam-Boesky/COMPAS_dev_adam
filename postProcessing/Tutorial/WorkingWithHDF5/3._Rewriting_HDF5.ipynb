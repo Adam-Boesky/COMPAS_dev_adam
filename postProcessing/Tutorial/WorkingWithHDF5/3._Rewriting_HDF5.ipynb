{
 "cells": [
  {
   "cell_type": "markdown",
   "metadata": {},
   "source": [
    "# Introduction\n",
    "\n",
    "## The COMPAS simulations might be very large in data size while the actual data you need to reproduce your results could be small. Hence it might make sense to reduced the number of files and columns based on some criteria.\n",
    "\n",
    "## Here we show how you can reduce your data. The main things you need are:\n",
    "    \n",
    "### 1. The seeds you want to have in your data\n",
    "### 2. The files you want in your data\n",
    "### 3. The columns (parameters) you want for each file\n",
    "\n",
    "## The python script to do this is found in:\n",
    "### `$COMPAS_ROOT_DIR/postProcessing/PythonScripts/rewrite_H5.py`\n",
    "## Here we just show an example of how to call the script in order to reduce the data."
   ]
  },
  {
   "cell_type": "code",
   "execution_count": 1,
   "metadata": {},
   "outputs": [],
   "source": [
    "import os, sys    # for handling paths\n",
    "import h5py as h5  #for handling data format\n",
    "\n",
    "# Import local directories and scripts\n",
    "compasRootDir = os.environ['COMPAS_ROOT_DIR'] \n",
    "pythonScriptDir = compasRootDir + 'postProcessing/PythonScripts'\n",
    "sys.path.append(pythonScriptDir)\n",
    "\n",
    "import rewrite_H5"
   ]
  },
  {
   "cell_type": "markdown",
   "metadata": {},
   "source": [
    "# 1  Load the Data"
   ]
  },
  {
   "cell_type": "code",
   "execution_count": 2,
   "metadata": {},
   "outputs": [
    {
     "name": "stdout",
     "output_type": "stream",
     "text": [
      "The main files I have at my disposal are:\n",
      " ['BSE_Common_Envelopes', 'BSE_Double_Compact_Objects', 'BSE_RLOF', 'BSE_Supernovae', 'BSE_System_Parameters', 'Run_Details']\n"
     ]
    }
   ],
   "source": [
    "# Set the appropriate paths to the input and output data files\n",
    "pathToDataInput = compasRootDir + '/postProcessing/Tutorial/COMPAS_Output/COMPAS_Output.h5' \n",
    "pathToDataOutput = compasRootDir + '/postProcessing/Tutorial/COMPAS_Output/COMPAS_Output_reduced.h5' \n",
    "\n",
    "Data  = h5.File(pathToDataInput)\n",
    "print(\"The main files I have at my disposal are:\\n\",list(Data.keys()))"
   ]
  },
  {
   "cell_type": "code",
   "execution_count": 3,
   "metadata": {},
   "outputs": [],
   "source": [
    "# To see the parameter choices in each file, use, e.g:\n",
    "#print(list(Data['SystemParameters']))"
   ]
  },
  {
   "cell_type": "markdown",
   "metadata": {},
   "source": [
    "# 2 Specify which files and columns you want\n",
    "\n",
    "We use dictionaries to specifically link all the entries.\n",
    "\n",
    "The filesOfInterest dictionary should contain all files which hold any relevant data. The columnsOfInterest dictionary specifies the parameters in each file that you want to be included in the new output h5. Any filters or masks should be used to determine the seedsOfInterest (on a per file basis), and so do not need to be included in the columnsOfInterest."
   ]
  },
  {
   "cell_type": "markdown",
   "metadata": {},
   "source": [
    "### Hypothetical Example\n",
    "\n",
    "Suppose you are studying Double Neutron Star systems, and you want to know the initial parameters of both components. Suppose you are separately curious about the eccentricity of systems following a Supernova that leaves the binary intact, and you want to use the same COMPAS run to save on CPU*hours. \n",
    "\n",
    "To be safe, you should probably keep the entire SystemParameters file, which contains all of the initial system settings. \n",
    "\n",
    "To get information about only Double Neutron Stars, you will need to create a mask for them from the DoubleCompactObjects file.\n",
    "\n",
    "Information on post-SN eccentricity and whether or not the system disrupted is found in the Supernovae file. \n",
    "\n",
    "You will not need any other files. You will also want to grab the system 'SEED's column from any file, since that is the unique identifier of the binaries. "
   ]
  },
  {
   "cell_type": "code",
   "execution_count": 9,
   "metadata": {},
   "outputs": [
    {
     "name": "stdout",
     "output_type": "stream",
     "text": [
      "<KeysViewHDF5 ['BSE_Common_Envelopes', 'BSE_Double_Compact_Objects', 'BSE_RLOF', 'BSE_Supernovae', 'BSE_System_Parameters', 'Run_Details']>\n"
     ]
    }
   ],
   "source": [
    "# Which files do you want?\n",
    "\n",
    "# For the files of interest, create 2 dictionary mappings, \n",
    "# One mapping file to columns of interest in that file\n",
    "# And other other mapping file to seeds of interest in that file\n",
    "\n",
    "#filesOfInterest   = {1:'SystemParameters',\\\n",
    "#                     2:'DoubleCompactObjects',\\\n",
    "#                     3:'Supernovae'}\n",
    "\n",
    "print(Data.keys())\n",
    "# Give a list of columns you want, if you want all, say ['All']\n",
    "columnsOfInterest = {'BSE_System_Parameters':      ['All'],\n",
    "                     'BSE_Double_Compact_Objects': ['All'],\n",
    "                     'BSE_Supernovae':             ['SEED', 'Eccentricity']\n",
    "                    }\n",
    "\n",
    "# The seedsOfInterest are a little more involved"
   ]
  },
  {
   "cell_type": "markdown",
   "metadata": {},
   "source": [
    "# 3 Which seeds do I want per file?"
   ]
  },
  {
   "cell_type": "code",
   "execution_count": 13,
   "metadata": {},
   "outputs": [],
   "source": [
    "### Do not filter out any systems/seeds from SystemParameters\n",
    "\n",
    "SPs = Data['BSE_System_Parameters']\n",
    "seedsSP = SPs['SEED'][()]\n",
    "\n",
    "\n",
    "\n",
    "### Of all the double compact objects, keep only the DNSs\n",
    "\n",
    "DCs = Data['BSE_Double_Compact_Objects']\n",
    "seedsDC =  DCs['SEED'][()]\n",
    "\n",
    "stellarType1   =  DCs['Stellar_Type(1)'][()]\n",
    "stellarType2   =  DCs['Stellar_Type(2)'][()]\n",
    "\n",
    "# Stellar type 13 corresponds to Neutron Stars\n",
    "maskDNS        =  (stellarType1 == 13) & (stellarType2 == 13)\n",
    "seedsDNS       =  seedsDC[maskDNS]\n",
    "\n",
    "\n",
    "\n",
    "### From Supernovae, keep only binaries which stay intact post-SN\n",
    "\n",
    "SNe = Data['BSE_Supernovae']\n",
    "seedsSN = SNe['SEED']\n",
    "\n",
    "\n",
    "isUnbound    = SNe['Unbound'][()] == 1\n",
    "isIntact     = ~isUnbound\n",
    "\n",
    "seedsIntact  = seedsSN[isIntact]\n",
    "\n",
    "\n",
    "\n",
    "### Create seedsOfInterest dictionary \n",
    "\n",
    "seedsOfInterest   = {'BSE_System_Parameters':      seedsSP,\n",
    "                     'BSE_Double_Compact_Objects': seedsDNS,\n",
    "                     'BSE_Supernovae':             seedsIntact\n",
    "                    }\n",
    "\n",
    "\n",
    "\n",
    "# Don't forget to close the original h5 data file\n",
    "Data.close()"
   ]
  },
  {
   "cell_type": "markdown",
   "metadata": {},
   "source": [
    "# 4 Call the function which creates the h5 file"
   ]
  },
  {
   "cell_type": "code",
   "execution_count": 15,
   "metadata": {},
   "outputs": [],
   "source": [
    "rewrite_H5.reduceH5(pathToOld = pathToDataInput, pathToNew = pathToDataOutput,\\\n",
    "                     dictColumns=columnsOfInterest, dictSeeds=seedsOfInterest)"
   ]
  },
  {
   "cell_type": "code",
   "execution_count": 16,
   "metadata": {
    "scrolled": false
   },
   "outputs": [
    {
     "name": "stdout",
     "output_type": "stream",
     "text": [
      "\n",
      "Filename = BSE_Double_Compact_Objects\n",
      "----------------------\n",
      "\t   column name                             unit                length\n",
      "\t   --------------------------------------------------------------------\n",
      "\t   Coalescence_Time                        b'Myr'                 1\n",
      "\t   Eccentricity@DCO                        b'-'                   1\n",
      "\t   Mass(1)                                 b'Msol'                1\n",
      "\t   Mass(2)                                 b'Msol'                1\n",
      "\t   Merges_Hubble_Time                      b'State'               1\n",
      "\t   --------------------------------------------------------------------\n",
      "\t   Recycled_NS(1)                          b'Event'               1\n",
      "\t   Recycled_NS(2)                          b'Event'               1\n",
      "\t   SEED                                    b'-'                   1\n",
      "\t   SemiMajorAxis@DCO                       b'AU'                  1\n",
      "\t   Stellar_Type(1)                         b'-'                   1\n",
      "\t   --------------------------------------------------------------------\n",
      "\t   Stellar_Type(2)                         b'-'                   1\n",
      "\t   Time                                    b'Myr'                 1\n",
      "\n",
      "Filename = BSE_Supernovae\n",
      "----------------------\n",
      "\t   column name                             unit                length\n",
      "\t   --------------------------------------------------------------------\n",
      "\t   Eccentricity                            b'-'                   63\n",
      "\t   SEED                                    b'-'                   63\n",
      "\n",
      "Filename = BSE_System_Parameters\n",
      "----------------------\n",
      "\t   column name                             unit                length\n",
      "\t   --------------------------------------------------------------------\n",
      "\t   CE_Alpha                                b'-'                   1000\n",
      "\t   CH_on_MS(1)                             b'State'               1000\n",
      "\t   CH_on_MS(2)                             b'State'               1000\n",
      "\t   Eccentricity@ZAMS                       b'-'                   1000\n",
      "\t   Equilibrated_At_Birth                   b'Event'               1000\n",
      "\t   --------------------------------------------------------------------\n",
      "\t   Error                                   b'-'                   1000\n",
      "\t   LBV_Factor                              b'-'                   1000\n",
      "\t   Mass@ZAMS(1)                            b'Msol'                1000\n",
      "\t   Mass@ZAMS(2)                            b'Msol'                1000\n",
      "\t   Merger                                  b'Event'               1000\n",
      "\t   --------------------------------------------------------------------\n",
      "\t   Merger_At_Birth                         b'Event'               1000\n",
      "\t   Metallicity@ZAMS(1)                     b'-'                   1000\n",
      "\t   Metallicity@ZAMS(2)                     b'-'                   1000\n",
      "\t   Omega@ZAMS(1)                           b'Hz'                  1000\n",
      "\t   Omega@ZAMS(2)                           b'Hz'                  1000\n",
      "\t   --------------------------------------------------------------------\n",
      "\t   SEED                                    b'-'                   1000\n",
      "\t   SN_Kick_Magnitude_Random_Number(1)      b'-'                   1000\n",
      "\t   SN_Kick_Magnitude_Random_Number(2)      b'-'                   1000\n",
      "\t   SemiMajorAxis@ZAMS                      b'AU'                  1000\n",
      "\t   Sigma_Kick_CCSN_BH                      b'kms^-1'              1000\n",
      "\t   --------------------------------------------------------------------\n",
      "\t   Sigma_Kick_CCSN_NS                      b'kms^-1'              1000\n",
      "\t   Sigma_Kick_ECSN                         b'kms^-1'              1000\n",
      "\t   Sigma_Kick_USSN                         b'kms^-1'              1000\n",
      "\t   Stellar_Type(1)                         b'-'                   1000\n",
      "\t   Stellar_Type(2)                         b'-'                   1000\n",
      "\t   --------------------------------------------------------------------\n",
      "\t   Stellar_Type@ZAMS(1)                    b'-'                   1000\n",
      "\t   Stellar_Type@ZAMS(2)                    b'-'                   1000\n",
      "\t   Unbound                                 b'State'               1000\n",
      "\t   WR_Factor                               b'-'                   1000\n"
     ]
    }
   ],
   "source": [
    "rewrite_H5.printAllColumnsInH5(pathToDataOutput)"
   ]
  },
  {
   "cell_type": "code",
   "execution_count": null,
   "metadata": {},
   "outputs": [],
   "source": []
  }
 ],
 "metadata": {
  "jupytext": {
   "formats": "ipynb,auto:light"
  },
  "kernelspec": {
   "display_name": "Python 3",
   "language": "python",
   "name": "python3"
  },
  "language_info": {
   "codemirror_mode": {
    "name": "ipython",
    "version": 3
   },
   "file_extension": ".py",
   "mimetype": "text/x-python",
   "name": "python",
   "nbconvert_exporter": "python",
   "pygments_lexer": "ipython3",
   "version": "3.8.10"
  }
 },
 "nbformat": 4,
 "nbformat_minor": 2
}
