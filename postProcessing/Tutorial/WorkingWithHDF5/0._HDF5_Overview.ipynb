{
 "cells": [
  {
   "cell_type": "markdown",
   "metadata": {},
   "source": [
    "# Introduction\n",
    "\n",
    "COMPAS simulations produce all output by default in the form of an [HDF5 file](https://www.hdfgroup.org/solutions/hdf5/), which is a compact and memory efficient, but non-human-readable data file format. In order to interact with these output files, we use the python module `h5py`. \n",
    "\n",
    "Within each file are a variety of HDF5 Groups, representing a specific common event in binary evolution, e.g Roche-Lobe Overflow or Supernovae. These are described throughout the post-processing jupyter notebooks."
   ]
  },
  {
   "cell_type": "markdown",
   "metadata": {},
   "source": [
    "## Material\n",
    "\n",
    "### [1. Producing HDF5 output:](./1._Producing_HDF5_output.ipynb)\n",
    "How to run default COMPAS and produce a simple output file.\n",
    "        \n",
    "        \n",
    "### [2. Reading HDF5 files:](./2._Reading_HDF5_files.ipynb)\n",
    "The basics and syntax of loading an HDF5 file.\n",
    "        \n",
    "        \n",
    "### [3. Re-writing HDF5 files:](./3._Rewriting_HDF5.ipynb)\n",
    "How to rewrite/reduce the HDF5 data."
   ]
  },
  {
   "cell_type": "code",
   "execution_count": null,
   "metadata": {},
   "outputs": [],
   "source": []
  }
 ],
 "metadata": {
  "jupytext": {
   "formats": "ipynb,auto:light"
  },
  "kernelspec": {
   "display_name": "Python 3",
   "language": "python",
   "name": "python3"
  },
  "language_info": {
   "codemirror_mode": {
    "name": "ipython",
    "version": 3
   },
   "file_extension": ".py",
   "mimetype": "text/x-python",
   "name": "python",
   "nbconvert_exporter": "python",
   "pygments_lexer": "ipython3",
   "version": "3.8.10"
  }
 },
 "nbformat": 4,
 "nbformat_minor": 2
}
