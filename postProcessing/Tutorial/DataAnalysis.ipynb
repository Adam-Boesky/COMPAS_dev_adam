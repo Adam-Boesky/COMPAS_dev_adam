{
 "cells": [
  {
   "cell_type": "markdown",
   "metadata": {
    "lines_to_next_cell": 2
   },
   "source": [
    "# Introduction\n",
    "\n",
    "Most of the post-processing material presented here is written in python, and makes extensive use of the numpy package for rapid computation on large data arrays.\n",
    "Here we show two important basics of python/numpy in the context of investigating your COMPAS simulation."
   ]
  },
  {
   "cell_type": "markdown",
   "metadata": {},
   "source": [
    "## Material\n",
    "\n",
    "### [1. Inspecting the data ](#1.-Inspecting-the-data)\n",
    "TODO:! Look at the raw hdf5 data to see which parameters are available and check that it matches expectations.\n",
    "\n",
    "### [2. Slicing the data ](#2.-Slicing-the-data)\n",
    "Select specific systems and their parameters using seeds.\n",
    "\n",
    "### [3. Visualizing the data ](#3.-Visualizing-the-data)\n",
    "Binning and visualising your data."
   ]
  },
  {
   "cell_type": "code",
   "execution_count": null,
   "metadata": {
    "lines_to_next_cell": 2
   },
   "outputs": [],
   "source": []
  },
  {
   "cell_type": "markdown",
   "metadata": {},
   "source": [
    "### For the following sections, you will need to have the following packages installed.\n",
    "### `numpy, h5py, time, matplotlib`"
   ]
  },
  {
   "cell_type": "code",
   "execution_count": 2,
   "metadata": {},
   "outputs": [],
   "source": [
    "#python libraries\n",
    "import numpy as np               # for handling arrays\n",
    "import h5py as h5                # for reading the COMPAS data\n",
    "import time                      # for finding computation time\n",
    "import matplotlib.pyplot as plt  #for plotting\n",
    "\n",
    "# This is known as an ipython magic command, and allows plots to be produced within the notebook\n",
    "%matplotlib inline\n",
    "\n",
    "# Choose an output hdf5 file to work with\n",
    "compasRootDir = os.environ['COMPAS_ROOT_DIR'] \n",
    "pathToData = compasRootDir + 'postProcessing/Tutorial/COMPAS_Output/COMPAS_Output.h5'\n"
   ]
  },
  {
   "cell_type": "code",
   "execution_count": null,
   "metadata": {},
   "outputs": [],
   "source": []
  },
  {
   "cell_type": "markdown",
   "metadata": {},
   "source": [
    "# 1. Inspecting the data\n",
    "\n",
    "Often the first thing you want to do with new data is simply to look at it! Getting familiar with the data, including available parameters, size of the data file, etc. will help to inform how best to proceed with the analysis. We provide a useful function for looking at the data from different output categories, `printCompasDetails`. \n",
    "\n",
    "--\n",
    "\n",
    "If you do not already have a COMPAS_Output.h5 ready, see Section 1 [Working With HDF5](./WorkingWithHDF5.py) on how to create your own output file, or download some data from our [Zenodo database](https://zenodo.org/communities/compas/?page=1&size=20)."
   ]
  },
  {
   "cell_type": "markdown",
   "metadata": {},
   "source": [
    "*Note:* These cells may take a long time if you test them on large datasets."
   ]
  },
  {
   "cell_type": "code",
   "execution_count": 5,
   "metadata": {},
   "outputs": [
    {
     "name": "stdout",
     "output_type": "stream",
     "text": [
      "['BSE_Common_Envelopes', 'BSE_Double_Compact_Objects', 'BSE_RLOF', 'BSE_Supernovae', 'BSE_System_Parameters', 'Run_Details']\n"
     ]
    }
   ],
   "source": [
    "Data  = h5.File(pathToData)\n",
    "print(list(Data.keys()))"
   ]
  },
  {
   "cell_type": "markdown",
   "metadata": {},
   "source": [
    "The output above represents the event categories available from the particular run. If you used the output produced in the previous tutorial, you should see `['BSE_Common_Envelopes', 'BSE_Double_Compact_Objects', 'BSE_RLOF', 'BSE_Supernovae', 'BSE_System_Parameters', 'Run_Details']`. Note that for smaller runs which do not produce any of a particular type of output, the output category will not be created. \n",
    "\n",
    "Brief description of the categories:\n",
    "- 'BSE_System_Parameters': Initial state of the binary\n",
    "- 'BSE_RLOF': Any mass transfer events that occured within the binary\n",
    "- 'BSE_Common_Envelopes': If any of the mass transfer events were unstable, details will be included here.\n",
    "- 'BSE_Supernovae': Parameters and outcome of any supernovae that occured in the binary\n",
    "- 'BSE_Double_Compact_Objects': If the binary ends as an intact pair of compact objects, it will be here\n",
    "- 'Run_Details'"
   ]
  },
  {
   "cell_type": "code",
   "execution_count": null,
   "metadata": {},
   "outputs": [],
   "source": []
  },
  {
   "cell_type": "markdown",
   "metadata": {},
   "source": [
    "# 2. Slicing the data\n",
    "\n",
    "One of the most important numbers in the COMPAS output is the system seed. The seed represents the unique identifier to a specific system in a simulation. It is also used as the seed value in random number generation, which is useful when trying to reproduce a given system identically. Therefore the properties and events of a single binary system can be recovered by looking at its seed across different output categories. \n",
    "\n",
    "Here we introduce the basics of manipulating the data using the seeds. We provide an example on how we get the initial parameters of systems that ended up forming double compact objects.\n",
    "\n",
    "Naively, we might try to use For Loops with Conditions to extract systems of interest to a list. However, this can potentially be computationally expensive.\n",
    "\n",
    "Here we present a method to more efficiently 'slice' the data using numpy and boolean masks. These are slightly more involved but are computationally quick and use intuitive logic."
   ]
  },
  {
   "cell_type": "markdown",
   "metadata": {},
   "source": [
    "## Question: What were the initial total masses of the double compact objects?"
   ]
  },
  {
   "cell_type": "code",
   "execution_count": null,
   "metadata": {},
   "outputs": [],
   "source": [
    "def calculateTotalMassesNaive(pathData=None):\n",
    "    Data  = h5.File(pathToData)\n",
    "    \n",
    "    totalMasses = []\n",
    "    \n",
    "    #for syntax see section 1 \n",
    "    seedsDCOs     = Data['DoubleCompactObjects']['SEED'][()]\n",
    "    \n",
    "    #get info from ZAMS\n",
    "    seedsSystems  = Data['SystemParameters']['SEED'][()]\n",
    "    M1ZAMSs       = Data['SystemParameters']['Mass@ZAMS_1'][()]\n",
    "    M2ZAMSs       = Data['SystemParameters']['Mass@ZAMS_2'][()]\n",
    "\n",
    "    for seedDCO in seedsDCOs:\n",
    "        for nrseed in range(len(seedsSystems)):\n",
    "            seedSystem = seedsSystems[nrseed]\n",
    "            if seedSystem == seedDCO:\n",
    "                M1 = M1ZAMSs[nrseed]\n",
    "                M2 = M2ZAMSs[nrseed]\n",
    "                Mtot = M1 + M2\n",
    "                totalMasses.append(Mtot)\n",
    "\n",
    "    Data.close()\n",
    "    return totalMasses"
   ]
  },
  {
   "cell_type": "code",
   "execution_count": null,
   "metadata": {},
   "outputs": [],
   "source": [
    "# calculate function run time\n",
    "start   = time.time()\n",
    "MtotOld = calculateTotalMassesNaive(pathData=pathToData)\n",
    "end     = time.time()\n",
    "timeDiffNaive = end-start\n",
    "\n",
    "print('%s seconds, using for loops.' %(timeDiffNaive)) "
   ]
  },
  {
   "cell_type": "markdown",
   "metadata": {},
   "source": [
    "# Optimizing the above loop\n",
    "\n",
    "## 0 - Use built-in numpy routines"
   ]
  },
  {
   "cell_type": "markdown",
   "metadata": {},
   "source": [
    "Numpy arrays can make use of a powerful library of optimization tools which allow the user to bypass computationally heavy for loops. \n",
    "\n",
    "For example, we can speed up the calculation of the element-wise sum of two arrays with:"
   ]
  },
  {
   "cell_type": "code",
   "execution_count": null,
   "metadata": {},
   "outputs": [],
   "source": [
    "M1ZAMS  = Data['SystemParameters']['Mass@ZAMS_1'][()]\n",
    "M2ZAMS  = Data['SystemParameters']['Mass@ZAMS_2'][()]\n",
    "    \n",
    "mTotalAllSystems  = np.add(M1ZAMS, M2ZAMS)"
   ]
  },
  {
   "cell_type": "markdown",
   "metadata": {},
   "source": [
    "## 1 - Use boolean masks in a single file"
   ]
  },
  {
   "cell_type": "markdown",
   "metadata": {},
   "source": [
    "There is a useful trick for when you want only those elements which satisfy a specific condition. \n",
    "\n",
    "Where previously we put the condition in an if statement nested within a for loop, now we will use an array of booleans to mask out the undesired elements. \n",
    "\n",
    "The boolean array will have the same length as the input array, with "
   ]
  },
  {
   "cell_type": "code",
   "execution_count": null,
   "metadata": {},
   "outputs": [],
   "source": [
    "# Create a boolean array from the total mass array which is True\n",
    "# if the total mass of the corrresponding system is less than 40. \n",
    "\n",
    "maskMtot = (mTotalAllSystems <= 40)"
   ]
  },
  {
   "cell_type": "markdown",
   "metadata": {},
   "source": [
    "**Crucially, you can apply this mask to all other columns in the same file because, by construction, they all have the same length.**"
   ]
  },
  {
   "cell_type": "code",
   "execution_count": null,
   "metadata": {},
   "outputs": [],
   "source": [
    "# seeds of systems with total mass below 40\n",
    "seeds  = Data['SystemParameters']['SEED'][()]\n",
    "seedsMtotBelow40 = seeds[maskMtot]"
   ]
  },
  {
   "cell_type": "markdown",
   "metadata": {},
   "source": [
    "Note that this works because the order of the two columns (seeds and total masses) are the same. \n",
    "\n",
    "For example, the total mass of the third system entry corresponds to the seed at the third system entry."
   ]
  },
  {
   "cell_type": "markdown",
   "metadata": {},
   "source": [
    "## 2 - Use seeds as masks between files"
   ]
  },
  {
   "cell_type": "markdown",
   "metadata": {},
   "source": [
    "### Example 1\n",
    "\n",
    "Before we continue it is useful to understand how the COMPAS-popsynth printing works.\n",
    "\n",
    "Each simulated system will be initialized only once and so will have only one line in the SystemParameters file. However, lines in CommonEnvelopes are created whenever a system goes through CE, which might happen multiple times for a single system, or potentially not at all. Similarly, in the Supernovae file, you will find at most two lines per system, but possibly none. DoubleCompactObject lines are printed only when both remnants are either Neutron Stars or Black Holes (but also includes disrupted systems), which happens at most once per system. \n",
    "\n",
    "For this reason, it is in general not the case that the system on line $n$ of one file corresponds will match the system on line $n$ of another file.\n",
    "\n",
    "In order to match systems across files, we need to extract the seeds of desired systems from one file, and apply them as a mask in the other file. "
   ]
  },
  {
   "cell_type": "code",
   "execution_count": null,
   "metadata": {},
   "outputs": [],
   "source": [
    "# example mock data from two files\n",
    "SystemSeeds = np.array([1,  2,  3,  4 ])\n",
    "SystemMass1 = np.array([1, 20,  5, 45 ])\n",
    "DCOSeeds    = np.array([    2,      4 ])\n",
    "\n",
    "# Calculate mask for which elements of SystemSeeds are found in DCOSeeds - see numpy.in1d documentation for details\n",
    "mask = np.in1d(SystemSeeds, DCOSeeds)\n",
    "\n",
    "print(mask)\n",
    "print(SystemSeeds[mask])\n",
    "print(SystemMass1[mask])"
   ]
  },
  {
   "cell_type": "markdown",
   "metadata": {},
   "source": [
    "# Optimized loop"
   ]
  },
  {
   "cell_type": "code",
   "execution_count": null,
   "metadata": {},
   "outputs": [],
   "source": [
    "def calculateTotalMassesOptimized(pathData=None):\n",
    "    Data  = h5.File(pathToData)\n",
    "    \n",
    "    totalMasses = []\n",
    "    \n",
    "    #for syntax see section 1 with basic syntax\n",
    "    seedsDCOs     = Data['DoubleCompactObjects']['SEED'][()]\n",
    "    #get info from ZAMS\n",
    "    seedsSystems  = Data['SystemParameters']['SEED'][()]\n",
    "    M1ZAMSs       = Data['SystemParameters']['Mass@ZAMS_1'][()]\n",
    "    M2ZAMSs       = Data['SystemParameters']['Mass@ZAMS_2'][()]\n",
    "    \n",
    "    MZAMStotal    = np.add(M1ZAMS, M2ZAMS)\n",
    "    \n",
    "    maskSeedsBecameDCO  = np.in1d(seedsSystems, seedsDCOs)\n",
    "    totalMassZAMSDCO    = MZAMStotal[maskSeedsBecameDCO]\n",
    "    \n",
    "    Data.close()\n",
    "    return totalMassZAMSDCO"
   ]
  },
  {
   "cell_type": "code",
   "execution_count": null,
   "metadata": {},
   "outputs": [],
   "source": [
    "# calculate function run time\n",
    "start   = time.time()\n",
    "MtotNew = calculateTotalMassesNaive(pathData=pathToData)\n",
    "end     = time.time()\n",
    "timeDiffOptimized = end-start\n",
    "\n",
    "# calculate number of Double Compact Objects\n",
    "nrDCOs = len(Data['DoubleCompactObjects']['SEED'][()])\n",
    "\n",
    "print('Compare')\n",
    "print('%s seconds, using Optimizations.' %(timeDiffOptimized)) \n",
    "print('%s seconds, using For Loops.'     %(timeDiffNaive)) \n",
    "print('Using %s DCO systems'             %(nrDCOs))"
   ]
  },
  {
   "cell_type": "markdown",
   "metadata": {},
   "source": [
    "*Note:* The time difference will depend on the number of systems under investigation, as well as the number of bypassed For Loops."
   ]
  },
  {
   "cell_type": "code",
   "execution_count": null,
   "metadata": {},
   "outputs": [],
   "source": [
    "# test that the two arrays are in fact identical\n",
    "print(np.array_equal(MtotOld, MtotNew))"
   ]
  },
  {
   "cell_type": "markdown",
   "metadata": {},
   "source": [
    "Note that the above loop can easily be expanded with more conditions.\n",
    "\n",
    "If you do not want all the DCO initial total masses but only of the double neutron stars, then you just need to apply another mask to the seedsDCOs."
   ]
  },
  {
   "cell_type": "code",
   "execution_count": null,
   "metadata": {
    "lines_to_next_cell": 2
   },
   "outputs": [],
   "source": [
    "def calculateTotalMassesDNS(pathToData=None):\n",
    "    Data  = h5.File(pathToData)\n",
    "    \n",
    "    totalMasses = []\n",
    "    \n",
    "    #for syntax see section 1 with basic syntax\n",
    "    seedsDCOs     = Data['DoubleCompactObjects']['SEED'][()]\n",
    "    type1         = Data['DoubleCompactObjects']['Stellar_Type_1'][()]\n",
    "    type2         = Data['DoubleCompactObjects']['Stellar_Type_2'][()]\n",
    "    maskDNS       = (type1 == 13) & (type2 == 13)\n",
    "    seedsDNS      = seedsDCOs[maskDNS]\n",
    "    \n",
    "    #get info from ZAMS\n",
    "    seedsSystems  = Data['SystemParameters']['SEED'][()]\n",
    "    M1ZAMSs       = Data['SystemParameters']['Mass@ZAMS_1'][()]\n",
    "    M2ZAMSs       = Data['SystemParameters']['Mass@ZAMS_2'][()]\n",
    "    \n",
    "    MZAMStotal    = np.add(M1ZAMS, M2ZAMS)\n",
    "    \n",
    "    \n",
    "    maskSeedsBecameDNS  = np.in1d(seedsSystems, seedsDNS)\n",
    "    totalMassZAMSDNS    = MZAMStotal[maskSeedsBecameDNS]\n",
    "    \n",
    "    Data.close()\n",
    "    return totalMassZAMSDNS"
   ]
  },
  {
   "cell_type": "code",
   "execution_count": null,
   "metadata": {},
   "outputs": [],
   "source": [
    "# calculate function run time\n",
    "start   = time.time()\n",
    "MtotDNS = calculateTotalMassesDNS(pathToData=pathToData)\n",
    "end     = time.time()\n",
    "timeDiffDNS = end-start\n",
    "\n",
    "# calculate number of DNS systems\n",
    "nrDNSs = len(MtotDNS)\n",
    "    \n",
    "print('%s seconds for all %s DNS systems.' %(timeDiffDNS, nrDNSs)) "
   ]
  },
  {
   "cell_type": "markdown",
   "metadata": {},
   "source": [
    "### Example 2\n",
    "\n",
    "The previous example uses the fact that both SystemParameters and DoubleCompactObjects only print at most one line per system. However, as mentioned above, events such as supernovae or common envelopes might happen multiple times to a given system, and as a result there would be multiple occurences of a given seed in the relevant file. \n",
    "\n",
    "To account for this, we will need to modify the previous method. Consider again the 4 seeds of the previous example. Both 2 and 4 formed a DCO and hence both stars in these binaries went SN. Seeds 1 and 3 are low mass stars hence they did not go SN. (Note that we do not specify the companion masses for any of these systems, but for simplicity we assume that the companions to 1 and 3 are also sufficiently low mass to not produce a supernova). The SN file prints one line per SN and therefore seeds 2 and 4 appear twice each.\n",
    "\n",
    "Imagine you want the primary masses of systems that experienced at any point a core collapse supernova (CCSN). We'll reuse our mock data, with additional information about the types of SN which occured in each star. Here, PPISN refers to Pulsational Pair Instability Supernovae."
   ]
  },
  {
   "cell_type": "code",
   "execution_count": null,
   "metadata": {},
   "outputs": [],
   "source": [
    "# example mock data from above\n",
    "SystemSeeds = np.array([1,  2,  3,  4 ])\n",
    "SystemMass1 = np.array([1, 20,  5, 45 ])\n",
    "DCOSeeds    = np.array([    2,      4 ])\n",
    "\n",
    "SNSeeds     = np.array([     2,      2,      4,       4 ])  \n",
    "SNTypes     = np.array(['CCSN', 'CCSN', 'CCSN', 'PPISN' ])\n",
    "\n",
    "# get seeds which had a CCSN\n",
    "maskCCSN  = SNTypes == 'CCSN'\n",
    "seedsCCSN = SNSeeds[maskCCSN]\n",
    "print('CCSN seeds =%s' %(seedsCCSN))\n",
    "\n",
    "#compare which element of 1-d array are in other\n",
    "#this because in \n",
    "\n",
    "seedsCCSN = np.unique(seedsCCSN)\n",
    "# in this particular case, it is not necessary to reduce seedsCCSN to it's unique entries.\n",
    "# the numpy.in1d function will work with duplicate seeds, but we include it explicitly here\n",
    "# as other more complicated scenarios might rely on unique sets of seeds\n",
    "\n",
    "mask = np.in1d(SystemSeeds, seedsCCSN)\n",
    "print(SystemMass1[mask])"
   ]
  },
  {
   "cell_type": "code",
   "execution_count": null,
   "metadata": {},
   "outputs": [],
   "source": [
    "# Always remember to close your data file\n",
    "Data.close()\n",
    "# ---\n",
    "# jupyter:\n",
    "#   jupytext:\n",
    "#     formats: ipynb,py:light\n",
    "#     text_representation:\n",
    "#       extension: .py\n",
    "#       format_name: light\n",
    "#       format_version: '1.5'\n",
    "#       jupytext_version: 1.12.0\n",
    "#   kernelspec:\n",
    "#     display_name: Python 3\n",
    "#     language: python\n",
    "#     name: python3\n",
    "# ---"
   ]
  },
  {
   "cell_type": "markdown",
   "metadata": {},
   "source": [
    "# 3. Visualizing the data\n",
    "\n",
    "Although math is the fundamental basis of physics and astrophysics, we cannot always easily convert numbers and equations into a coherent picture. Plotting is therefore a vital tool in bridging the gap between raw data and a deeper scientific understanding. \n",
    "\n",
    "*Disclaimer:*\n",
    "\n",
    "There are many ways to make the same plot in matplotlib and there are many ways to bin your data. Often, there is no \"best\" way to display data in a plot, and the message conveyed can be heavily dependent on the context of the data as well as asthetic plotting decisions.\n",
    "\n",
    "For example, in histograms, as we discuss below, the relatively subjective choice of bin size can significantly affect the interpretation of the results. It is important to be aware of when and how we make these choices and to try to reduce any unintended bias.\n",
    "\n",
    "---\n",
    "\n",
    "** Example: inspect the component masses of Double Compact Objects**\n",
    "\n",
    "In the example below, we use the following conventions:\n",
    "\n",
    "1 - We deliberately choose to use the matplotlib.pyplot.subplots routine even when creating a single figure (as opposed to using pyplot.plot). This is because many online forums (e.g Stackoverflow) use this syntax. Furthermore, this means you do not have to learn two different types of syntax when creating either a single or multiple panel figure.\n",
    "\n",
    "2 - We choose to do the binning within the numpy/array environment instead of with inbuilt functions such as plt.hist / axes.hist. The reason is that you have more control over what you do, such as custom normalization (using rates, weights, pdf, etc.). It also forces you to have a deeper understanding of what you are calculating, and allows you to check intermediate steps with print statements.  Once you know how to bin your data this way you can also easily expand these routines for more complicated plots (2D binning)."
   ]
  },
  {
   "cell_type": "markdown",
   "metadata": {},
   "source": [
    "# Path to be set by user\n"
   ]
  },
  {
   "cell_type": "code",
   "execution_count": null,
   "metadata": {},
   "outputs": [],
   "source": [
    "pathToData = '/home/cneijssel/Desktop/Test/COMPAS_output.h5'"
   ]
  },
  {
   "cell_type": "markdown",
   "metadata": {},
   "source": [
    "# Get some data to plot"
   ]
  },
  {
   "cell_type": "code",
   "execution_count": null,
   "metadata": {},
   "outputs": [],
   "source": [
    "Data  = h5.File(pathToData)\n",
    "\n",
    "print(list(Data.keys()))\n",
    "# DCOs = double compact objects\n",
    "\n",
    "\n",
    "DCOs = Data['DoubleCompactObjects']\n",
    "\n",
    "M1   = DCOs['Mass_1'][()]\n",
    "M2   = DCOs['Mass_2'][()]\n",
    "Mtot = np.add(M1, M2)"
   ]
  },
  {
   "cell_type": "code",
   "execution_count": null,
   "metadata": {},
   "outputs": [],
   "source": [
    "Data.close()"
   ]
  },
  {
   "cell_type": "markdown",
   "metadata": {},
   "source": [
    "# Histogram"
   ]
  },
  {
   "cell_type": "code",
   "execution_count": null,
   "metadata": {},
   "outputs": [],
   "source": [
    "# You can use numpy to create an array with specific min, max and interval values\n",
    "minMtot = 0\n",
    "maxMtot = max(Mtot)\n",
    "nBins   = 50\n",
    "\n",
    "# Number of bin edges is one more than number of bins\n",
    "binEdges = np.linspace(minMtot, maxMtot, nBins+1)\n",
    "\n",
    "# What is the value at the center of the bin?\n",
    "# add each edge of the side of the bin and divide by 2\n",
    "xvaluesHist  = (binEdges[:-1] + binEdges[1:])/2.\n",
    "\n",
    "# What is the width of each bin? (an array in general, if the spacing is non-uniform)\n",
    "binWidths = np.diff(binEdges)\n",
    "\n",
    "\n",
    "### Set yvalues to the height of the bins\n",
    "\n",
    "# Create an array of y-values for each x-value\n",
    "yvalues = np.zeros(len(xvaluesHist))\n",
    "\n",
    "# Iterate over the bins to calcuate the number of data points per bin\n",
    "for iBin in range(nBins):\n",
    "    mask = (Mtot >= binEdges[iBin]) & (Mtot < binEdges[iBin+1])\n",
    "    yvalues[iBin] = np.sum(mask)\n",
    "\n",
    "# You can of course apply any mask you like to get the desired histogram    \n",
    "\n",
    "## Generally, you can calculate the rate per unit x (dy/dx) using\n",
    "dYdXHist = np.divide(yvalues, binWidths)\n",
    "\n",
    "# To convert your distribution to a PDF, normalize in y-values:\n",
    "PDF = np.divide(yvalues, np.sum(yvalues))\n",
    "\n",
    "# You can then multiply by, e.g, rates/weights to scale the distribution"
   ]
  },
  {
   "cell_type": "markdown",
   "metadata": {},
   "source": [
    "# CDF\n",
    "\n",
    "Sometimes we want to know what fraction of the data lies below a given value. To find this, we calculate a Cumulative Distribution Function, or CDF."
   ]
  },
  {
   "cell_type": "code",
   "execution_count": null,
   "metadata": {},
   "outputs": [],
   "source": [
    "# Question: How many points have a value less than X? \n",
    "\n",
    "# Sort the values of interest\n",
    "MtotSorted = np.sort(Mtot)   \n",
    "\n",
    "# These values are your xvalues \n",
    "xvaluesCDF = MtotSorted\n",
    "\n",
    "# The CDF is a non-strictly increasing function from 0 to 1 across the range of x values.\n",
    "# It should increment by 1/len(xvaluesCDF) at each x in the array, and remain constant otherwise.\n",
    "\n",
    "# Numpy provides several functions that make this very straightforward\n",
    "nDataPoints = len(xvaluesCDF)\n",
    "yvalues = np.cumsum(np.ones(nDataPoints))\n",
    "CDF = yvalues / nDataPoints"
   ]
  },
  {
   "cell_type": "markdown",
   "metadata": {},
   "source": [
    "# A two panel plot"
   ]
  },
  {
   "cell_type": "code",
   "execution_count": null,
   "metadata": {
    "lines_to_next_cell": 0
   },
   "outputs": [],
   "source": [
    "# For two panels side by side:\n",
    "fig, axes = plt.subplots(1,2, figsize=(18,8))\n",
    "\n",
    "# axes is an array relating to each panel\n",
    "# panel1 = axes[0]\n",
    "# panel2 = axes[1]\n",
    "\n",
    "largefontsize = 18\n",
    "smallfontsize = 13\n",
    "\n",
    "\n",
    "\n",
    "\n",
    "### In the left panel, we want to plot the histogram and CDF overlayed\n",
    "### with the same x-axis, but different y-axes\n",
    "\n",
    "# Plot the Histogram first\n",
    "histAxes = axes[0]\n",
    "histAxes.plot(xvaluesHist, dYdXHist)\n",
    "\n",
    "histAxes.set_xlabel(r'Mtot [$M_\\odot$]', fontsize=smallfontsize)\n",
    "histAxes.set_ylabel(r'dN/dMtot [$M_\\odot^{-1}$]', fontsize=smallfontsize)\n",
    "\n",
    "# Overlay the CDF with the same x-axis but different y-axis\n",
    "cdfAxes =  axes[0].twinx()\n",
    "cdfAxes.plot(xvaluesCDF, CDF, c='r')\n",
    "\n",
    "# Dont have to do xlabel since they are the same\n",
    "cdfAxes.set_ylabel('CDF', fontsize=smallfontsize, labelpad=-40)\n",
    "cdfAxes.tick_params(axis='y', direction='in', pad=-20) # Adjust the CDF axis for clarity in the plot\n",
    "\n",
    "axes[0].set_title('Total Mass Histogram and CDF', fontsize=largefontsize)\n",
    "\n",
    "\n",
    "\n",
    "\n",
    "### In the right panel, we want to display a scatterplot of M1 & M2 \n",
    "\n",
    "axes[1].scatter(M1, M2)\n",
    "axes[1].set_xlabel(r'M1 [$M_\\odot$]', fontsize=smallfontsize)\n",
    "axes[1].set_ylabel(r'M2 [$M_\\odot$]', fontsize=smallfontsize)\n",
    "\n",
    "axes[1].set_title('Component Masses', fontsize=largefontsize)\n",
    "\n",
    "\n",
    "\n",
    "\n",
    "### Clean up and display the plot\n",
    "\n",
    "# You can force plt to pad enough between plots\n",
    "# such that the labels fit\n",
    "plt.tight_layout()\n",
    "\n",
    "# If you want to save the figure, use:\n",
    "#plt.savefig(pathToSave)\n",
    "\n",
    "# To produce the plot, always remember to:\n",
    "plt.show()"
   ]
  },
  {
   "cell_type": "code",
   "execution_count": null,
   "metadata": {
    "lines_to_next_cell": 2
   },
   "outputs": [],
   "source": []
  }
 ],
 "metadata": {
  "jupytext": {
   "formats": "ipynb,py:light"
  },
  "kernelspec": {
   "display_name": "Python 3",
   "language": "python",
   "name": "python3"
  },
  "language_info": {
   "codemirror_mode": {
    "name": "ipython",
    "version": 3
   },
   "file_extension": ".py",
   "mimetype": "text/x-python",
   "name": "python",
   "nbconvert_exporter": "python",
   "pygments_lexer": "ipython3",
   "version": "3.8.10"
  }
 },
 "nbformat": 4,
 "nbformat_minor": 4
}
